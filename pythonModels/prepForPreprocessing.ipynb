{
 "cells": [
  {
   "cell_type": "code",
   "execution_count": 1,
   "id": "persistent-interest",
   "metadata": {},
   "outputs": [],
   "source": [
    "import pandas as pd\n",
    "import numpy as np\n",
    "import matplotlib.pyplot as plt\n",
    "from scipy.io import loadmat\n",
    "import math\n",
    "import heartpy as hp"
   ]
  },
  {
   "cell_type": "markdown",
   "id": "lesser-directive",
   "metadata": {},
   "source": [
    "# HR Calculation"
   ]
  },
  {
   "cell_type": "code",
   "execution_count": 2,
   "id": "dirty-popularity",
   "metadata": {},
   "outputs": [
    {
     "data": {
      "text/plain": [
       "dict_keys(['__header__', '__version__', '__globals__', 'timeECG', 'Data_ECG', 'A_ECG', 'G_ECG', 'V_ECG'])"
      ]
     },
     "execution_count": 2,
     "metadata": {},
     "output_type": "execute_result"
    }
   ],
   "source": [
    "path = \"data/ASCERTAIN\"\n",
    "ecg = loadmat(path + '/ECGData/Movie_P10/ECG_Clip10.mat')\n",
    "\n",
    "right1 = ecg['Data_ECG'][:,4]\n",
    "left1 = ecg['Data_ECG'][:,5]\n",
    "time1 = ecg['Data_ECG'][:,0]\n",
    "totalTime1 = ecg['Data_ECG'][:,0]\n",
    "\n",
    "# left1 = left1/100\n",
    "# right1 = right1/100\n",
    "\n",
    "ecg.keys()"
   ]
  },
  {
   "cell_type": "code",
   "execution_count": 3,
   "id": "improving-stand",
   "metadata": {},
   "outputs": [
    {
     "data": {
      "text/plain": [
       "dict_keys(['__header__', '__version__', '__globals__', 'timeECG', 'Data_ECG', 'A_ECG', 'G_ECG', 'V_ECG'])"
      ]
     },
     "execution_count": 3,
     "metadata": {},
     "output_type": "execute_result"
    }
   ],
   "source": [
    "path = \"data/ASCERTAIN\"\n",
    "ecg = loadmat(path + '/ECGData/Movie_P01/ECG_Clip1.mat')\n",
    "\n",
    "ecg.keys()"
   ]
  },
  {
   "cell_type": "code",
   "execution_count": 4,
   "id": "vulnerable-kingdom",
   "metadata": {},
   "outputs": [],
   "source": [
    "interval = 5000\n",
    "\n",
    "time2 = ecg['Data_ECG'][:,0]\n",
    "totalTime2 = ecg['Data_ECG'][:,0]\n",
    "right2 = ecg['Data_ECG'][:,1]\n",
    "left2 = ecg['Data_ECG'][:,2]\n",
    "\n",
    "# left2 = left2/100\n",
    "# right2 = right2/100"
   ]
  },
  {
   "cell_type": "code",
   "execution_count": 5,
   "id": "persistent-electron",
   "metadata": {},
   "outputs": [
    {
     "data": {
      "image/png": "[encoded data removed]",
      "text/plain": [
       "<Figure size 432x288 with 1 Axes>"
      ]
     },
     "metadata": {
      "needs_background": "light"
     },
     "output_type": "display_data"
    }
   ],
   "source": [
    "plt.plot(time2, right2)\n",
    "plt.plot(time2, left2, label='left')\n",
    "plt.legend()\n",
    "plt.xlabel(\"Time\")\n",
    "plt.ylabel(\"ECG mV\")\n",
    "time2 = time2/1000"
   ]
  },
  {
   "cell_type": "code",
   "execution_count": 6,
   "id": "brazilian-prototype",
   "metadata": {},
   "outputs": [],
   "source": [
    "df1= pd.DataFrame({'hart' : left1})\n",
    "df2 = pd.DataFrame({'hart' : left2})"
   ]
  },
  {
   "cell_type": "code",
   "execution_count": 7,
   "id": "latin-fisher",
   "metadata": {},
   "outputs": [
    {
     "data": {
      "text/plain": [
       "(24783,)"
      ]
     },
     "execution_count": 7,
     "metadata": {},
     "output_type": "execute_result"
    }
   ],
   "source": [
    "df1['hart'].shape"
   ]
  },
  {
   "cell_type": "code",
   "execution_count": 8,
   "id": "driven-desktop",
   "metadata": {
    "scrolled": true
   },
   "outputs": [],
   "source": [
    "def doIt(dataset):\n",
    "#Calculate moving average with 0.75s in both directions, then append do dataset\n",
    "    hrw = 0.75 #One-sided window size, as proportion of the sampling frequency\n",
    "    fs = 256 #The example dataset was recorded at 100Hz\n",
    "    \n",
    "    numValues = int(len(dataset)*0.05)\n",
    "    \n",
    "    peakAvg = dataset['hart'].nlargest(numValues).mean()\n",
    "    avg = dataset['hart'].mean()\n",
    "    \n",
    "    raiseVal = peakAvg/avg\n",
    "    print(raiseVal)\n",
    "\n",
    "    mov_avg = dataset['hart'].rolling(int(hrw*fs)).mean() #Calculate moving average\n",
    "    #Impute where moving average function returns NaN, which is the beginning of the signal where x hrw\n",
    "    avg_hr = (np.mean(dataset.hart))\n",
    "    mov_avg = [avg_hr if math.isnan(x) else x for x in mov_avg]\n",
    "    mov_avg = [x*raiseVal for x in mov_avg] #For now we raise the average by 20% to prevent the secondary heart contraction from interfering, in part 2 we will do this dynamically\n",
    "    dataset['hart_rollingmean'] = mov_avg #Append the moving average to the dataframe\n",
    "\n",
    "    #Mark regions of interest\n",
    "    window = []\n",
    "    peaklist = []\n",
    "    listpos = 0 #We use a counter to move over the different data columns\n",
    "\n",
    "    for datapoint in dataset.hart:\n",
    "        rollingmean = dataset.hart_rollingmean[listpos] #Get local mean\n",
    "        if (datapoint < rollingmean) and (len(window) < 1): #If no detectable R-complex activity -> do nothing\n",
    "            listpos += 1\n",
    "        elif (datapoint > rollingmean): #If signal comes above local mean, mark ROI\n",
    "            window.append(datapoint)\n",
    "            listpos += 1\n",
    "        else: #If signal drops below local mean -> determine highest point\n",
    "            maximum = max(window)\n",
    "            beatposition = listpos - len(window) + (window.index(max(window))) #Notate the position of the point on the X-axis\n",
    "            peaklist.append(beatposition) #Add detected peak to list\n",
    "            window = [] #Clear marked ROI\n",
    "            listpos += 1\n",
    "\n",
    "    ybeat = [dataset.hart[x] for x in peaklist] #Get the y-value of all peaks for plotting purposes\n",
    "\n",
    "    plt.title(\"Detected peaks in signal\")\n",
    "    plt.plot(dataset.hart, alpha=0.5, color='blue') #Plot semi-transparent HR\n",
    "    plt.plot(mov_avg, color ='green') #Plot moving average\n",
    "    plt.scatter(peaklist, ybeat, color='red') #Plot detected peaks\n",
    "    plt.show()\n",
    "    \n",
    "    RR_list = []\n",
    "    cnt = 0\n",
    "\n",
    "    while (cnt < (len(peaklist)-1)):\n",
    "        RR_interval = (peaklist[cnt+1] - peaklist[cnt]) #Calculate distance between beats in # of samples\n",
    "        ms_dist = ((RR_interval / fs) * 1000.0) #Convert sample distances to ms distances\n",
    "        RR_list.append(ms_dist) #Append to list\n",
    "        cnt += 1\n",
    "\n",
    "    bpm = 60000 / np.mean(RR_list) #60000 ms (1 minute) / average R-R interval of signal\n",
    "    print(\"Average Heart Beat is: %.01f\" %bpm) #Round off to 1 decimal and print\n",
    "    \n",
    "    return peaklist"
   ]
  },
  {
   "cell_type": "code",
   "execution_count": 9,
   "id": "authentic-strategy",
   "metadata": {},
   "outputs": [
    {
     "name": "stdout",
     "output_type": "stream",
     "text": [
      "1.0240243232340351\n"
     ]
    },
    {
     "data": {
      "image/png": "[encoded data removed]",
      "text/plain": [
       "<Figure size 432x288 with 1 Axes>"
      ]
     },
     "metadata": {
      "needs_background": "light"
     },
     "output_type": "display_data"
    },
    {
     "name": "stdout",
     "output_type": "stream",
     "text": [
      "Average Heart Beat is: 77.0\n"
     ]
    },
    {
     "data": {
      "text/plain": [
       "124"
      ]
     },
     "execution_count": 9,
     "metadata": {},
     "output_type": "execute_result"
    }
   ],
   "source": [
    "len(doIt(df1))"
   ]
  },
  {
   "cell_type": "code",
   "execution_count": 10,
   "id": "quiet-picture",
   "metadata": {
    "scrolled": true
   },
   "outputs": [
    {
     "name": "stdout",
     "output_type": "stream",
     "text": [
      "1.0654268894629138\n"
     ]
    },
    {
     "data": {
      "image/png": "[encoded data removed]",
      "text/plain": [
       "<Figure size 432x288 with 1 Axes>"
      ]
     },
     "metadata": {
      "needs_background": "light"
     },
     "output_type": "display_data"
    },
    {
     "name": "stdout",
     "output_type": "stream",
     "text": [
      "Average Heart Beat is: 75.9\n"
     ]
    },
    {
     "data": {
      "text/plain": [
       "138"
      ]
     },
     "execution_count": 10,
     "metadata": {},
     "output_type": "execute_result"
    }
   ],
   "source": [
    "len(doIt(df2))"
   ]
  },
  {
   "cell_type": "code",
   "execution_count": 27,
   "id": "recovered-flexibility",
   "metadata": {},
   "outputs": [],
   "source": [
    "def calculateBPM(seriesIn, colName):\n",
    "#Calculate moving average with 0.75s in both directions, then append to dataset\n",
    "    print('\\n' + colName)\n",
    "    hrw = 0.75 #One-sided window size, as proportion of the sampling frequency\n",
    "    fs = 256 #The example dataset was recorded at 256Hz\n",
    "    \n",
    "    series = seriesIn.copy()\n",
    "    dropIdx = len(series.dropna())\n",
    "    series = series.truncate(after=dropIdx)\n",
    "\n",
    "    minuteHz = 15360\n",
    "    currIdx = 15360\n",
    "    bpmList = []\n",
    "    \n",
    "    while currIdx < len(series):\n",
    "#         print(currIdx)\n",
    "        currSlice = pd.DataFrame({colName : list(series.iloc[currIdx-minuteHz:currIdx])})\n",
    "        currIdx += 256\n",
    "    \n",
    "        numValues = int(len(currSlice)*0.05)\n",
    "\n",
    "        peakAvg = currSlice[colName].nlargest(numValues).mean()\n",
    "        avg = currSlice[colName].mean()\n",
    "\n",
    "        raiseVal = peakAvg/avg\n",
    "\n",
    "        mov_avg = currSlice[colName].rolling(int(hrw*fs)).mean() #Calculate moving average\n",
    "        #Impute where moving average function returns NaN, which is the beginning of the signal where x hrw\n",
    "        avg_hr = (np.mean(currSlice[colName]))\n",
    "        mov_avg = [avg_hr if math.isnan(x) else x for x in mov_avg]\n",
    "        mov_avg = [x*raiseVal for x in mov_avg] #For now we raise the average by 20% to prevent the secondary heart contraction from interfering, in part 2 we will do this dynamically\n",
    "        currSlice['rollingmean'] = mov_avg #Append the moving average to the dataframe\n",
    "\n",
    "        #Mark regions of interest\n",
    "        window = []\n",
    "        peaklist = []\n",
    "        listpos = 0 #We use a counter to move over the different data columns\n",
    "\n",
    "        for datapoint in currSlice[colName]:\n",
    "            rollingmean = currSlice.rollingmean[listpos] #Get local mean\n",
    "            if (datapoint < rollingmean) and (len(window) < 1): #If no detectable R-complex activity -> do nothing\n",
    "                listpos += 1\n",
    "            elif (datapoint > rollingmean): #If signal comes above local mean, mark ROI\n",
    "                window.append(datapoint)\n",
    "                listpos += 1\n",
    "            else: #If signal drops below local mean -> determine highest point\n",
    "                maximum = max(window)\n",
    "                beatposition = listpos - len(window) + (window.index(max(window))) #Notate the position of the point on the X-axis\n",
    "                peaklist.append(beatposition) #Add detected peak to list\n",
    "                window = [] #Clear marked ROI\n",
    "                listpos += 1\n",
    "\n",
    "        ybeat = [currSlice[colName][x] for x in peaklist] #Get the y-value of all peaks for plotting purposes\n",
    "\n",
    "#         plt.title(\"Detected peaks in signal\")\n",
    "#         plt.plot(currSlice[colName], alpha=0.5, color='blue') #Plot semi-transparent HR\n",
    "#         plt.plot(mov_avg, color ='green') #Plot moving average\n",
    "#         plt.scatter(peaklist, ybeat, color='red') #Plot detected peaks\n",
    "#         plt.show()\n",
    "\n",
    "        RR_list = []\n",
    "        cnt = 0\n",
    "#         print(peaklist[-1])\n",
    "\n",
    "        while (cnt < (len(peaklist)-1)):\n",
    "            RR_interval = (peaklist[cnt+1] - peaklist[cnt]) #Calculate distance between beats in # of samples\n",
    "            ms_dist = ((RR_interval / fs) * 1000.0) #Convert sample distances to ms distances\n",
    "            RR_list.append(ms_dist) #Append to list\n",
    "            cnt += 1\n",
    "            \n",
    "#         if(str(np.mean(RR_list)) != 'nan'):\n",
    "        bpm = round(60000 / np.mean(RR_list)) #60000 ms (1 minute) / average R-R interval of signal\n",
    "        bpmList.append(bpm)\n",
    "    #     print(\"Average Heart Beat is: %.01f\" %bpm) #Round off to 1 decimal and print\n",
    "\n",
    "    return bpmList"
   ]
  },
  {
   "cell_type": "code",
   "execution_count": 28,
   "id": "plastic-republican",
   "metadata": {},
   "outputs": [
    {
     "name": "stdout",
     "output_type": "stream",
     "text": [
      "\n",
      "hart\n"
     ]
    },
    {
     "data": {
      "text/plain": [
       "[75,\n",
       " 75,\n",
       " 75,\n",
       " 75,\n",
       " 76,\n",
       " 89,\n",
       " 99,\n",
       " 86,\n",
       " 87,\n",
       " 88,\n",
       " 88,\n",
       " 88,\n",
       " 89,\n",
       " 90,\n",
       " 89,\n",
       " 90,\n",
       " 91,\n",
       " 91,\n",
       " 91,\n",
       " 91,\n",
       " 91,\n",
       " 91,\n",
       " 91,\n",
       " 88,\n",
       " 86,\n",
       " 85,\n",
       " 84,\n",
       " 85,\n",
       " 85,\n",
       " 86,\n",
       " 84,\n",
       " 84,\n",
       " 84,\n",
       " 83,\n",
       " 83,\n",
       " 82,\n",
       " 82]"
      ]
     },
     "execution_count": 28,
     "metadata": {},
     "output_type": "execute_result"
    }
   ],
   "source": [
    "calculateBPM(df1['hart'], 'hart')"
   ]
  },
  {
   "cell_type": "code",
   "execution_count": 30,
   "id": "cordless-hamilton",
   "metadata": {},
   "outputs": [
    {
     "name": "stdout",
     "output_type": "stream",
     "text": [
      "\n",
      "hart\n"
     ]
    },
    {
     "data": {
      "text/plain": [
       "[76,\n",
       " 77,\n",
       " 77,\n",
       " 78,\n",
       " 77,\n",
       " 77,\n",
       " 78,\n",
       " 78,\n",
       " 77,\n",
       " 76,\n",
       " 77,\n",
       " 77,\n",
       " 77,\n",
       " 77,\n",
       " 77,\n",
       " 77,\n",
       " 77,\n",
       " 77,\n",
       " 77,\n",
       " 77,\n",
       " 77,\n",
       " 77,\n",
       " 77,\n",
       " 76,\n",
       " 76,\n",
       " 77,\n",
       " 77,\n",
       " 77,\n",
       " 77,\n",
       " 77,\n",
       " 76,\n",
       " 76,\n",
       " 75,\n",
       " 73,\n",
       " 73,\n",
       " 73,\n",
       " 73,\n",
       " 73,\n",
       " 73,\n",
       " 73,\n",
       " 73,\n",
       " 73,\n",
       " 73,\n",
       " 73,\n",
       " 73,\n",
       " 73,\n",
       " 73,\n",
       " 73,\n",
       " 73,\n",
       " 73]"
      ]
     },
     "execution_count": 30,
     "metadata": {},
     "output_type": "execute_result"
    }
   ],
   "source": [
    "calculateBPM(df2['hart'], 'hart')"
   ]
  },
  {
   "cell_type": "code",
   "execution_count": null,
   "id": "bottom-memorabilia",
   "metadata": {},
   "outputs": [],
   "source": []
  }
 ],
 "metadata": {
  "kernelspec": {
   "display_name": "Python 3",
   "language": "python",
   "name": "python3"
  },
  "language_info": {
   "codemirror_mode": {
    "name": "ipython",
    "version": 3
   },
   "file_extension": ".py",
   "mimetype": "text/x-python",
   "name": "python",
   "nbconvert_exporter": "python",
   "pygments_lexer": "ipython3",
   "version": "3.8.5"
  }
 },
 "nbformat": 4,
 "nbformat_minor": 5
}
