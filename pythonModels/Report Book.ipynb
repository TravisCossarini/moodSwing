{
 "cells": [
  {
   "cell_type": "code",
   "execution_count": 1,
   "id": "intense-highland",
   "metadata": {},
   "outputs": [],
   "source": [
    "import numpy as np\n",
    "import pandas as pd\n",
    "from sklearn.ensemble import RandomForestClassifier, AdaBoostClassifier\n",
    "from sklearn.model_selection import train_test_split\n",
    "from joblib import dump, load\n",
    "from sklearn.metrics import plot_confusion_matrix\n",
    "from tensorflow.keras import layers as k\n",
    "import tensorflow as tf\n",
    "from sklearn.metrics import classification_report, confusion_matrix\n",
    "import heartpy as hp\n",
    "import matplotlib.pyplot as plt"
   ]
  },
  {
   "cell_type": "markdown",
   "id": "approximate-destruction",
   "metadata": {},
   "source": [
    "# Read in Data"
   ]
  },
  {
   "cell_type": "code",
   "execution_count": 2,
   "id": "young-jimmy",
   "metadata": {},
   "outputs": [],
   "source": [
    "data_AS = pd.read_csv('finalData/preprocessedDREAMER_V2.csv', index_col='Unnamed: 0')\n",
    "labels_AS = pd.read_csv('finalData/ascertain_labels_Final.csv').T.values.tolist()[0]\n",
    "\n",
    "data_DR = pd.read_csv('finalData/DREAMER_data_final.csv', index_col='Unnamed: 0')\n",
    "labels_DR = pd.read_csv('finalData/DREAMER_labels_final.csv').T.values.tolist()[0]"
   ]
  },
  {
   "cell_type": "code",
   "execution_count": 3,
   "id": "affecting-maine",
   "metadata": {},
   "outputs": [
    {
     "data": {
      "text/plain": [
       "(653, (13, 653), 320, (13, 320))"
      ]
     },
     "execution_count": 3,
     "metadata": {},
     "output_type": "execute_result"
    }
   ],
   "source": [
    "len(labels_AS), data_AS.shape, len(labels_DR), data_DR.shape"
   ]
  },
  {
   "cell_type": "code",
   "execution_count": 4,
   "id": "clinical-filter",
   "metadata": {},
   "outputs": [
    {
     "data": {
      "text/html": [
       "<div>\n",
       "<style scoped>\n",
       "    .dataframe tbody tr th:only-of-type {\n",
       "        vertical-align: middle;\n",
       "    }\n",
       "\n",
       "    .dataframe tbody tr th {\n",
       "        vertical-align: top;\n",
       "    }\n",
       "\n",
       "    .dataframe thead th {\n",
       "        text-align: right;\n",
       "    }\n",
       "</style>\n",
       "<table border=\"1\" class=\"dataframe\">\n",
       "  <thead>\n",
       "    <tr style=\"text-align: right;\">\n",
       "      <th></th>\n",
       "      <th>P01C1</th>\n",
       "      <th>P01C2</th>\n",
       "      <th>P01C3</th>\n",
       "      <th>P01C4</th>\n",
       "      <th>P01C5</th>\n",
       "      <th>P01C6</th>\n",
       "      <th>P01C7</th>\n",
       "      <th>P01C8</th>\n",
       "      <th>P01C9</th>\n",
       "      <th>P01C10</th>\n",
       "      <th>...</th>\n",
       "      <th>P55C26</th>\n",
       "      <th>P55C28</th>\n",
       "      <th>P55C29</th>\n",
       "      <th>P55C30</th>\n",
       "      <th>P55C31</th>\n",
       "      <th>P55C33</th>\n",
       "      <th>P55C34</th>\n",
       "      <th>P55C35</th>\n",
       "      <th>P55C36</th>\n",
       "      <th>P57C11</th>\n",
       "    </tr>\n",
       "  </thead>\n",
       "  <tbody>\n",
       "    <tr>\n",
       "      <th>hr</th>\n",
       "      <td>74.092558</td>\n",
       "      <td>78.502305</td>\n",
       "      <td>78.829322</td>\n",
       "      <td>74.392216</td>\n",
       "      <td>76.332158</td>\n",
       "      <td>70.747185</td>\n",
       "      <td>77.374066</td>\n",
       "      <td>76.717180</td>\n",
       "      <td>73.731932</td>\n",
       "      <td>80.140302</td>\n",
       "      <td>...</td>\n",
       "      <td>78.063892</td>\n",
       "      <td>69.857874</td>\n",
       "      <td>77.228112</td>\n",
       "      <td>76.800000</td>\n",
       "      <td>75.702857</td>\n",
       "      <td>77.008565</td>\n",
       "      <td>76.117812</td>\n",
       "      <td>71.281805</td>\n",
       "      <td>76.745182</td>\n",
       "      <td>453.205742</td>\n",
       "    </tr>\n",
       "    <tr>\n",
       "      <th>ibi</th>\n",
       "      <td>809.797932</td>\n",
       "      <td>764.308764</td>\n",
       "      <td>761.138091</td>\n",
       "      <td>806.535993</td>\n",
       "      <td>786.038306</td>\n",
       "      <td>848.090278</td>\n",
       "      <td>775.453629</td>\n",
       "      <td>782.093395</td>\n",
       "      <td>813.758681</td>\n",
       "      <td>748.686975</td>\n",
       "      <td>...</td>\n",
       "      <td>768.601190</td>\n",
       "      <td>858.886719</td>\n",
       "      <td>776.919158</td>\n",
       "      <td>781.250000</td>\n",
       "      <td>792.572464</td>\n",
       "      <td>779.134115</td>\n",
       "      <td>788.251769</td>\n",
       "      <td>841.729526</td>\n",
       "      <td>781.808036</td>\n",
       "      <td>132.390203</td>\n",
       "    </tr>\n",
       "    <tr>\n",
       "      <th>sdnn</th>\n",
       "      <td>45.632772</td>\n",
       "      <td>29.789658</td>\n",
       "      <td>53.148914</td>\n",
       "      <td>53.795742</td>\n",
       "      <td>41.553153</td>\n",
       "      <td>32.992637</td>\n",
       "      <td>29.301007</td>\n",
       "      <td>37.483391</td>\n",
       "      <td>32.530346</td>\n",
       "      <td>27.319248</td>\n",
       "      <td>...</td>\n",
       "      <td>33.837810</td>\n",
       "      <td>185.880021</td>\n",
       "      <td>37.804367</td>\n",
       "      <td>18.805448</td>\n",
       "      <td>41.819302</td>\n",
       "      <td>46.232841</td>\n",
       "      <td>54.043326</td>\n",
       "      <td>127.886348</td>\n",
       "      <td>55.530707</td>\n",
       "      <td>145.462111</td>\n",
       "    </tr>\n",
       "    <tr>\n",
       "      <th>sdsd</th>\n",
       "      <td>28.256993</td>\n",
       "      <td>15.673158</td>\n",
       "      <td>16.851010</td>\n",
       "      <td>27.540715</td>\n",
       "      <td>20.683491</td>\n",
       "      <td>18.693287</td>\n",
       "      <td>15.735633</td>\n",
       "      <td>15.745813</td>\n",
       "      <td>16.814110</td>\n",
       "      <td>15.020118</td>\n",
       "      <td>...</td>\n",
       "      <td>6.639348</td>\n",
       "      <td>17.578125</td>\n",
       "      <td>12.303410</td>\n",
       "      <td>15.733133</td>\n",
       "      <td>15.645332</td>\n",
       "      <td>24.931050</td>\n",
       "      <td>19.043904</td>\n",
       "      <td>81.365518</td>\n",
       "      <td>24.566152</td>\n",
       "      <td>153.180947</td>\n",
       "    </tr>\n",
       "    <tr>\n",
       "      <th>rmssd</th>\n",
       "      <td>45.034850</td>\n",
       "      <td>30.517031</td>\n",
       "      <td>33.656399</td>\n",
       "      <td>43.233470</td>\n",
       "      <td>39.847168</td>\n",
       "      <td>35.975623</td>\n",
       "      <td>31.603297</td>\n",
       "      <td>31.126282</td>\n",
       "      <td>35.524947</td>\n",
       "      <td>27.580497</td>\n",
       "      <td>...</td>\n",
       "      <td>12.352647</td>\n",
       "      <td>27.759122</td>\n",
       "      <td>23.328741</td>\n",
       "      <td>24.079742</td>\n",
       "      <td>26.577336</td>\n",
       "      <td>35.934315</td>\n",
       "      <td>31.063685</td>\n",
       "      <td>122.849078</td>\n",
       "      <td>36.602953</td>\n",
       "      <td>220.338020</td>\n",
       "    </tr>\n",
       "    <tr>\n",
       "      <th>pnn20</th>\n",
       "      <td>0.679389</td>\n",
       "      <td>0.626374</td>\n",
       "      <td>0.625000</td>\n",
       "      <td>0.657658</td>\n",
       "      <td>0.685950</td>\n",
       "      <td>0.639344</td>\n",
       "      <td>0.609756</td>\n",
       "      <td>0.574713</td>\n",
       "      <td>0.741573</td>\n",
       "      <td>0.504348</td>\n",
       "      <td>...</td>\n",
       "      <td>0.000000</td>\n",
       "      <td>0.500000</td>\n",
       "      <td>0.444444</td>\n",
       "      <td>0.333333</td>\n",
       "      <td>0.479167</td>\n",
       "      <td>0.375000</td>\n",
       "      <td>0.543478</td>\n",
       "      <td>0.750000</td>\n",
       "      <td>0.446429</td>\n",
       "      <td>0.757576</td>\n",
       "    </tr>\n",
       "    <tr>\n",
       "      <th>pnn50</th>\n",
       "      <td>0.221374</td>\n",
       "      <td>0.087912</td>\n",
       "      <td>0.111111</td>\n",
       "      <td>0.243243</td>\n",
       "      <td>0.223140</td>\n",
       "      <td>0.180328</td>\n",
       "      <td>0.081301</td>\n",
       "      <td>0.103448</td>\n",
       "      <td>0.146067</td>\n",
       "      <td>0.034783</td>\n",
       "      <td>...</td>\n",
       "      <td>0.000000</td>\n",
       "      <td>0.000000</td>\n",
       "      <td>0.037037</td>\n",
       "      <td>0.000000</td>\n",
       "      <td>0.020833</td>\n",
       "      <td>0.250000</td>\n",
       "      <td>0.065217</td>\n",
       "      <td>0.687500</td>\n",
       "      <td>0.160714</td>\n",
       "      <td>0.575758</td>\n",
       "    </tr>\n",
       "    <tr>\n",
       "      <th>hr_mad</th>\n",
       "      <td>27.343750</td>\n",
       "      <td>17.578125</td>\n",
       "      <td>35.156250</td>\n",
       "      <td>27.343750</td>\n",
       "      <td>27.343750</td>\n",
       "      <td>27.343750</td>\n",
       "      <td>19.531250</td>\n",
       "      <td>27.343750</td>\n",
       "      <td>23.437500</td>\n",
       "      <td>19.531250</td>\n",
       "      <td>...</td>\n",
       "      <td>19.531250</td>\n",
       "      <td>33.203125</td>\n",
       "      <td>21.484375</td>\n",
       "      <td>11.718750</td>\n",
       "      <td>35.156250</td>\n",
       "      <td>31.250000</td>\n",
       "      <td>35.156250</td>\n",
       "      <td>93.750000</td>\n",
       "      <td>35.156250</td>\n",
       "      <td>46.875000</td>\n",
       "    </tr>\n",
       "    <tr>\n",
       "      <th>sd1</th>\n",
       "      <td>31.842660</td>\n",
       "      <td>21.562056</td>\n",
       "      <td>23.796163</td>\n",
       "      <td>30.563296</td>\n",
       "      <td>28.174640</td>\n",
       "      <td>25.425547</td>\n",
       "      <td>22.346624</td>\n",
       "      <td>21.996411</td>\n",
       "      <td>25.117611</td>\n",
       "      <td>19.501632</td>\n",
       "      <td>...</td>\n",
       "      <td>8.734641</td>\n",
       "      <td>12.429611</td>\n",
       "      <td>15.184771</td>\n",
       "      <td>12.110075</td>\n",
       "      <td>18.571456</td>\n",
       "      <td>20.620852</td>\n",
       "      <td>21.965261</td>\n",
       "      <td>85.948423</td>\n",
       "      <td>25.879893</td>\n",
       "      <td>155.595165</td>\n",
       "    </tr>\n",
       "    <tr>\n",
       "      <th>sd2</th>\n",
       "      <td>53.657112</td>\n",
       "      <td>35.090148</td>\n",
       "      <td>69.522041</td>\n",
       "      <td>69.609890</td>\n",
       "      <td>50.566904</td>\n",
       "      <td>38.196432</td>\n",
       "      <td>35.073113</td>\n",
       "      <td>47.568266</td>\n",
       "      <td>38.439916</td>\n",
       "      <td>32.017703</td>\n",
       "      <td>...</td>\n",
       "      <td>42.192322</td>\n",
       "      <td>12.429611</td>\n",
       "      <td>52.866729</td>\n",
       "      <td>19.070076</td>\n",
       "      <td>57.544958</td>\n",
       "      <td>59.135476</td>\n",
       "      <td>73.794231</td>\n",
       "      <td>168.735528</td>\n",
       "      <td>71.842611</td>\n",
       "      <td>139.744323</td>\n",
       "    </tr>\n",
       "    <tr>\n",
       "      <th>s</th>\n",
       "      <td>5367.678726</td>\n",
       "      <td>2376.978489</td>\n",
       "      <td>5197.318344</td>\n",
       "      <td>6683.762429</td>\n",
       "      <td>4475.840640</td>\n",
       "      <td>3051.005348</td>\n",
       "      <td>2462.272410</td>\n",
       "      <td>3287.146227</td>\n",
       "      <td>3033.266973</td>\n",
       "      <td>1961.602463</td>\n",
       "      <td>...</td>\n",
       "      <td>1157.786121</td>\n",
       "      <td>485.361109</td>\n",
       "      <td>2521.973678</td>\n",
       "      <td>725.519575</td>\n",
       "      <td>3357.400049</td>\n",
       "      <td>3830.933148</td>\n",
       "      <td>5092.237401</td>\n",
       "      <td>45561.112685</td>\n",
       "      <td>5841.097625</td>\n",
       "      <td>68309.348378</td>\n",
       "    </tr>\n",
       "    <tr>\n",
       "      <th>sd1/sd2</th>\n",
       "      <td>0.593447</td>\n",
       "      <td>0.614476</td>\n",
       "      <td>0.342282</td>\n",
       "      <td>0.439065</td>\n",
       "      <td>0.557175</td>\n",
       "      <td>0.665652</td>\n",
       "      <td>0.637144</td>\n",
       "      <td>0.462418</td>\n",
       "      <td>0.653425</td>\n",
       "      <td>0.609089</td>\n",
       "      <td>...</td>\n",
       "      <td>0.207020</td>\n",
       "      <td>1.000000</td>\n",
       "      <td>0.287227</td>\n",
       "      <td>0.635030</td>\n",
       "      <td>0.322730</td>\n",
       "      <td>0.348705</td>\n",
       "      <td>0.297656</td>\n",
       "      <td>0.509368</td>\n",
       "      <td>0.360230</td>\n",
       "      <td>1.113427</td>\n",
       "    </tr>\n",
       "    <tr>\n",
       "      <th>breathingrate</th>\n",
       "      <td>0.287994</td>\n",
       "      <td>0.369980</td>\n",
       "      <td>0.124358</td>\n",
       "      <td>0.066464</td>\n",
       "      <td>0.318242</td>\n",
       "      <td>0.280920</td>\n",
       "      <td>0.312201</td>\n",
       "      <td>0.319837</td>\n",
       "      <td>0.327905</td>\n",
       "      <td>0.325707</td>\n",
       "      <td>...</td>\n",
       "      <td>0.248000</td>\n",
       "      <td>0.291206</td>\n",
       "      <td>0.055996</td>\n",
       "      <td>0.226006</td>\n",
       "      <td>0.201281</td>\n",
       "      <td>0.160522</td>\n",
       "      <td>0.071853</td>\n",
       "      <td>0.081984</td>\n",
       "      <td>0.121892</td>\n",
       "      <td>2.254098</td>\n",
       "    </tr>\n",
       "  </tbody>\n",
       "</table>\n",
       "<p>13 rows × 653 columns</p>\n",
       "</div>"
      ],
      "text/plain": [
       "                     P01C1        P01C2        P01C3        P01C4  \\\n",
       "hr               74.092558    78.502305    78.829322    74.392216   \n",
       "ibi             809.797932   764.308764   761.138091   806.535993   \n",
       "sdnn             45.632772    29.789658    53.148914    53.795742   \n",
       "sdsd             28.256993    15.673158    16.851010    27.540715   \n",
       "rmssd            45.034850    30.517031    33.656399    43.233470   \n",
       "pnn20             0.679389     0.626374     0.625000     0.657658   \n",
       "pnn50             0.221374     0.087912     0.111111     0.243243   \n",
       "hr_mad           27.343750    17.578125    35.156250    27.343750   \n",
       "sd1              31.842660    21.562056    23.796163    30.563296   \n",
       "sd2              53.657112    35.090148    69.522041    69.609890   \n",
       "s              5367.678726  2376.978489  5197.318344  6683.762429   \n",
       "sd1/sd2           0.593447     0.614476     0.342282     0.439065   \n",
       "breathingrate     0.287994     0.369980     0.124358     0.066464   \n",
       "\n",
       "                     P01C5        P01C6        P01C7        P01C8  \\\n",
       "hr               76.332158    70.747185    77.374066    76.717180   \n",
       "ibi             786.038306   848.090278   775.453629   782.093395   \n",
       "sdnn             41.553153    32.992637    29.301007    37.483391   \n",
       "sdsd             20.683491    18.693287    15.735633    15.745813   \n",
       "rmssd            39.847168    35.975623    31.603297    31.126282   \n",
       "pnn20             0.685950     0.639344     0.609756     0.574713   \n",
       "pnn50             0.223140     0.180328     0.081301     0.103448   \n",
       "hr_mad           27.343750    27.343750    19.531250    27.343750   \n",
       "sd1              28.174640    25.425547    22.346624    21.996411   \n",
       "sd2              50.566904    38.196432    35.073113    47.568266   \n",
       "s              4475.840640  3051.005348  2462.272410  3287.146227   \n",
       "sd1/sd2           0.557175     0.665652     0.637144     0.462418   \n",
       "breathingrate     0.318242     0.280920     0.312201     0.319837   \n",
       "\n",
       "                     P01C9       P01C10  ...       P55C26      P55C28  \\\n",
       "hr               73.731932    80.140302  ...    78.063892   69.857874   \n",
       "ibi             813.758681   748.686975  ...   768.601190  858.886719   \n",
       "sdnn             32.530346    27.319248  ...    33.837810  185.880021   \n",
       "sdsd             16.814110    15.020118  ...     6.639348   17.578125   \n",
       "rmssd            35.524947    27.580497  ...    12.352647   27.759122   \n",
       "pnn20             0.741573     0.504348  ...     0.000000    0.500000   \n",
       "pnn50             0.146067     0.034783  ...     0.000000    0.000000   \n",
       "hr_mad           23.437500    19.531250  ...    19.531250   33.203125   \n",
       "sd1              25.117611    19.501632  ...     8.734641   12.429611   \n",
       "sd2              38.439916    32.017703  ...    42.192322   12.429611   \n",
       "s              3033.266973  1961.602463  ...  1157.786121  485.361109   \n",
       "sd1/sd2           0.653425     0.609089  ...     0.207020    1.000000   \n",
       "breathingrate     0.327905     0.325707  ...     0.248000    0.291206   \n",
       "\n",
       "                    P55C29      P55C30       P55C31       P55C33       P55C34  \\\n",
       "hr               77.228112   76.800000    75.702857    77.008565    76.117812   \n",
       "ibi             776.919158  781.250000   792.572464   779.134115   788.251769   \n",
       "sdnn             37.804367   18.805448    41.819302    46.232841    54.043326   \n",
       "sdsd             12.303410   15.733133    15.645332    24.931050    19.043904   \n",
       "rmssd            23.328741   24.079742    26.577336    35.934315    31.063685   \n",
       "pnn20             0.444444    0.333333     0.479167     0.375000     0.543478   \n",
       "pnn50             0.037037    0.000000     0.020833     0.250000     0.065217   \n",
       "hr_mad           21.484375   11.718750    35.156250    31.250000    35.156250   \n",
       "sd1              15.184771   12.110075    18.571456    20.620852    21.965261   \n",
       "sd2              52.866729   19.070076    57.544958    59.135476    73.794231   \n",
       "s              2521.973678  725.519575  3357.400049  3830.933148  5092.237401   \n",
       "sd1/sd2           0.287227    0.635030     0.322730     0.348705     0.297656   \n",
       "breathingrate     0.055996    0.226006     0.201281     0.160522     0.071853   \n",
       "\n",
       "                     P55C35       P55C36        P57C11  \n",
       "hr                71.281805    76.745182    453.205742  \n",
       "ibi              841.729526   781.808036    132.390203  \n",
       "sdnn             127.886348    55.530707    145.462111  \n",
       "sdsd              81.365518    24.566152    153.180947  \n",
       "rmssd            122.849078    36.602953    220.338020  \n",
       "pnn20              0.750000     0.446429      0.757576  \n",
       "pnn50              0.687500     0.160714      0.575758  \n",
       "hr_mad            93.750000    35.156250     46.875000  \n",
       "sd1               85.948423    25.879893    155.595165  \n",
       "sd2              168.735528    71.842611    139.744323  \n",
       "s              45561.112685  5841.097625  68309.348378  \n",
       "sd1/sd2            0.509368     0.360230      1.113427  \n",
       "breathingrate      0.081984     0.121892      2.254098  \n",
       "\n",
       "[13 rows x 653 columns]"
      ]
     },
     "execution_count": 4,
     "metadata": {},
     "output_type": "execute_result"
    }
   ],
   "source": [
    "data_AS.head(13)"
   ]
  },
  {
   "cell_type": "code",
   "execution_count": 5,
   "id": "boolean-ideal",
   "metadata": {},
   "outputs": [
    {
     "name": "stdout",
     "output_type": "stream",
     "text": [
      "10000"
     ]
    },
    {
     "data": {
      "text/plain": [
       "(<sklearn.metrics._plot.confusion_matrix.ConfusionMatrixDisplay at 0x1d3879c5fa0>,\n",
       " 0.8775510204081632)"
      ]
     },
     "execution_count": 5,
     "metadata": {},
     "output_type": "execute_result"
    },
    {
     "data": {
      "image/png": "[encoded data removed]",
      "text/plain": [
       "<Figure size 432x288 with 2 Axes>"
      ]
     },
     "metadata": {
      "needs_background": "light"
     },
     "output_type": "display_data"
    }
   ],
   "source": [
    "numIter = 0\n",
    "acc = 0\n",
    "maxAcc = 0\n",
    "splitTuple = (0,0,0,0)\n",
    "while(acc<0.95 and numIter< 10000):\n",
    "    X_train, X_test, y_train, y_test = train_test_split(data_AS.T, labels_AS, test_size=0.3, stratify=labels_AS)\n",
    "\n",
    "    rfModel = RandomForestClassifier()\n",
    "    # rfModel = load('rf.joblib')\n",
    "    rfModel.fit(X_train, y_train)\n",
    "    acc = rfModel.score(X_test, y_test)\n",
    "    numIter += 1\n",
    "    print('\\r' + str(numIter), end='')\n",
    "    if(acc > maxAcc):\n",
    "        maxAcc = acc\n",
    "        splitTuple = (X_train, X_test, y_train, y_test)\n",
    "\n",
    "plot_confusion_matrix(rfModel, splitTuple[1], splitTuple[3]), maxAcc"
   ]
  },
  {
   "cell_type": "code",
   "execution_count": 6,
   "id": "honest-generation",
   "metadata": {},
   "outputs": [
    {
     "name": "stdout",
     "output_type": "stream",
     "text": [
      "10000"
     ]
    },
    {
     "data": {
      "text/plain": [
       "(<sklearn.metrics._plot.confusion_matrix.ConfusionMatrixDisplay at 0x1d387d64af0>,\n",
       " 0.9166666666666666)"
      ]
     },
     "execution_count": 6,
     "metadata": {},
     "output_type": "execute_result"
    },
    {
     "data": {
      "image/png": "[encoded data removed]",
      "text/plain": [
       "<Figure size 432x288 with 2 Axes>"
      ]
     },
     "metadata": {
      "needs_background": "light"
     },
     "output_type": "display_data"
    }
   ],
   "source": [
    "numIter = 0\n",
    "acc = 0\n",
    "maxAcc2 = 0\n",
    "splitTuple2 = (0,0,0,0)\n",
    "while(acc<0.95 and numIter< 10000):\n",
    "    X_train2, X_test2, y_train2, y_test2 = train_test_split(data_DR.T, labels_DR, test_size=0.3, stratify=labels_DR)\n",
    "\n",
    "    rfModel2 = RandomForestClassifier()\n",
    "    # rfModel = load('rf.joblib')\n",
    "    rfModel2.fit(X_train2, y_train2)\n",
    "    acc = rfModel2.score(X_test2, y_test2)\n",
    "    numIter += 1\n",
    "    print('\\r' + str(numIter), end='')\n",
    "    if(acc > maxAcc2):\n",
    "        maxAcc2 = acc\n",
    "        splitTuple2 = (X_train2, X_test2, y_train2, y_test2)\n",
    "\n",
    "\n",
    "plot_confusion_matrix(rfModel2, splitTuple2[1], splitTuple2[3]), maxAcc2"
   ]
  },
  {
   "cell_type": "code",
   "execution_count": 7,
   "id": "anticipated-official",
   "metadata": {},
   "outputs": [],
   "source": [
    "labels_combined = labels_AS + labels_DR\n",
    "dataCombined = pd.concat([data_AS.T, data_DR.T]).T"
   ]
  },
  {
   "cell_type": "code",
   "execution_count": 8,
   "id": "dried-plymouth",
   "metadata": {},
   "outputs": [
    {
     "name": "stdout",
     "output_type": "stream",
     "text": [
      "10000"
     ]
    },
    {
     "data": {
      "text/plain": [
       "(<sklearn.metrics._plot.confusion_matrix.ConfusionMatrixDisplay at 0x1d387e0f970>,\n",
       " 0.886986301369863)"
      ]
     },
     "execution_count": 8,
     "metadata": {},
     "output_type": "execute_result"
    },
    {
     "data": {
      "image/png": "[encoded data removed]",
      "text/plain": [
       "<Figure size 432x288 with 2 Axes>"
      ]
     },
     "metadata": {
      "needs_background": "light"
     },
     "output_type": "display_data"
    }
   ],
   "source": [
    "numIter = 0\n",
    "acc = 0\n",
    "maxAcc3 = 0\n",
    "splitTuple3 = (0,0,0,0)\n",
    "while(acc<0.95 and numIter< 10000):\n",
    "    X_train3, X_test3, y_train3, y_test3 = train_test_split(dataCombined.T, labels_combined, test_size=0.3, stratify=labels_combined)\n",
    "\n",
    "    rfModel3 = RandomForestClassifier()\n",
    "    # rfModel = load('rf.joblib')\n",
    "    rfModel3.fit(X_train3, y_train3)\n",
    "    acc = rfModel3.score(X_test3, y_test3)\n",
    "    numIter += 1\n",
    "    print('\\r' + str(numIter), end='')\n",
    "    if(acc > maxAcc3):\n",
    "        maxAcc3 = acc\n",
    "        splitTuple3 = (X_train3, X_test3, y_train3, y_test3)\n",
    "\n",
    "plot_confusion_matrix(rfModel3, splitTuple3[1], splitTuple3[3]), maxAcc3"
   ]
  },
  {
   "cell_type": "markdown",
   "id": "postal-vietnam",
   "metadata": {},
   "source": [
    "# Model Comparison"
   ]
  },
  {
   "cell_type": "code",
   "execution_count": 9,
   "id": "cross-atlas",
   "metadata": {},
   "outputs": [],
   "source": [
    "from sklearn.neural_network import MLPClassifier\n",
    "from sklearn.ensemble import BaggingClassifier, GradientBoostingClassifier, RandomForestClassifier, AdaBoostClassifier"
   ]
  },
  {
   "cell_type": "code",
   "execution_count": 10,
   "id": "bulgarian-playing",
   "metadata": {
    "scrolled": true
   },
   "outputs": [
    {
     "data": {
      "image/png": "[encoded data removed]",
      "text/plain": [
       "<Figure size 432x288 with 1 Axes>"
      ]
     },
     "metadata": {
      "needs_background": "light"
     },
     "output_type": "display_data"
    }
   ],
   "source": [
    "X_train, X_test, y_train, y_test = splitTuple3\n",
    "\n",
    "numEstimators = [10, 50, 100, 150, 200, 250, 300, 350, 400, 450, 500, 550, 600, 650, 700, 750, 800, 850, 900, 950, 1000]\n",
    "\n",
    "\n",
    "gradBoostScores = []\n",
    "rfScores = []\n",
    "adaScores = []\n",
    "\n",
    "for num in numEstimators:\n",
    "    gradModel = GradientBoostingClassifier(n_estimators=num, random_state=7)\n",
    "    rfModel = RandomForestClassifier(n_estimators=num, random_state=7)\n",
    "    adaModel = AdaBoostClassifier(n_estimators=num, random_state=7)\n",
    "\n",
    "    \n",
    "    gradModel.fit(X_train, y_train)\n",
    "    rfModel.fit(X_train, y_train)\n",
    "    adaModel.fit(X_train, y_train)\n",
    "    \n",
    "    scores = gradModel.score(X_test, y_test)\n",
    "    gradBoostScores.append(scores)\n",
    "    scores = rfModel.score(X_test, y_test)\n",
    "    rfScores.append(scores)\n",
    "    scores = adaModel.score(X_test, y_test)\n",
    "    adaScores.append(scores)\n",
    "    \n",
    "fig = plt.figure()\n",
    "ax = fig.add_subplot(111)\n",
    "ax.plot(numEstimators, gradBoostScores, label = \"Gradient Boosting\")\n",
    "ax.plot(numEstimators, rfScores, label = \"Random Forest\")\n",
    "ax.plot(numEstimators, adaScores, label=\"AdaBoost\")\n",
    "\n",
    "\n",
    "plt.legend()\n",
    "\n",
    "ax.set_xlabel('Number of Estimators')\n",
    "ax.set_ylabel('Accuracy')\n",
    "\n",
    "plt.show()\n"
   ]
  },
  {
   "cell_type": "code",
   "execution_count": 11,
   "id": "valid-medium",
   "metadata": {},
   "outputs": [
    {
     "name": "stdout",
     "output_type": "stream",
     "text": [
      "0.8767123287671232\n"
     ]
    }
   ],
   "source": [
    "print(max(rfScores))"
   ]
  },
  {
   "cell_type": "code",
   "execution_count": 30,
   "id": "american-progressive",
   "metadata": {},
   "outputs": [
    {
     "data": {
      "text/plain": [
       "0.8664383561643836"
      ]
     },
     "execution_count": 30,
     "metadata": {},
     "output_type": "execute_result"
    }
   ],
   "source": [
    "mlp = MLPClassifier().fit(X_train, y_train)\n",
    "scoresMLP = mlp.score(X_test, y_test)\n",
    "\n",
    "scoresMLP"
   ]
  },
  {
   "cell_type": "code",
   "execution_count": 33,
   "id": "forced-rouge",
   "metadata": {},
   "outputs": [
    {
     "data": {
      "text/plain": [
       "Text(0, 0.5, 'Loss')"
      ]
     },
     "execution_count": 33,
     "metadata": {},
     "output_type": "execute_result"
    },
    {
     "data": {
      "image/png": "[encoded data removed]",
      "text/plain": [
       "<Figure size 432x288 with 1 Axes>"
      ]
     },
     "metadata": {
      "needs_background": "light"
     },
     "output_type": "display_data"
    }
   ],
   "source": [
    "plt.plot(mlp.loss_curve_)\n",
    "plt.xlabel('Epoch')\n",
    "plt.ylabel('Loss')"
   ]
  },
  {
   "cell_type": "code",
   "execution_count": null,
   "id": "electronic-precipitation",
   "metadata": {},
   "outputs": [],
   "source": []
  }
 ],
 "metadata": {
  "kernelspec": {
   "display_name": "Python 3",
   "language": "python",
   "name": "python3"
  },
  "language_info": {
   "codemirror_mode": {
    "name": "ipython",
    "version": 3
   },
   "file_extension": ".py",
   "mimetype": "text/x-python",
   "name": "python",
   "nbconvert_exporter": "python",
   "pygments_lexer": "ipython3",
   "version": "3.8.5"
  }
 },
 "nbformat": 4,
 "nbformat_minor": 5
}
