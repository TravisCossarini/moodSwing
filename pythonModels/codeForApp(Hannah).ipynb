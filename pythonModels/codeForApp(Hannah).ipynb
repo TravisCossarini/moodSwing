{
 "cells": [
  {
   "cell_type": "code",
   "execution_count": 1,
   "id": "binding-model",
   "metadata": {},
   "outputs": [],
   "source": [
    "from joblib import load\n",
    "import numpy as np\n",
    "import pandas as pd"
   ]
  },
  {
   "cell_type": "code",
   "execution_count": 2,
   "id": "express-neighborhood",
   "metadata": {},
   "outputs": [],
   "source": [
    "input_features = 13 #13 different metrics\n",
    "\n",
    "# importing data, 3 rows of data corresponding to 3, 5 minute video clips\n",
    "inputData = pd.read_csv('appDataMeasures.csv')\n",
    "\n",
    "# load in pretrained classifier - This is equivalent to training the model\n",
    "classifier = load('rf.joblib')\n",
    "\n",
    "# At this point, you can put it into coreMl (the \"classifier\" variable, which now contains the trained model)"
   ]
  },
  {
   "cell_type": "markdown",
   "id": "international-newport",
   "metadata": {},
   "source": [
    " Below, I use the model to make predictions, this is how it should function in the app through coreML (give the same output)"
   ]
  },
  {
   "cell_type": "code",
   "execution_count": 4,
   "id": "invalid-fiction",
   "metadata": {},
   "outputs": [],
   "source": [
    "# Reading the rows of the csv into separate variables\n",
    "row1 = inputData.iloc[0]\n",
    "row2 = inputData.iloc[1]\n",
    "row3 = inputData.iloc[2]"
   ]
  },
  {
   "cell_type": "code",
   "execution_count": 5,
   "id": "duplicate-baseline",
   "metadata": {},
   "outputs": [
    {
     "name": "stdout",
     "output_type": "stream",
     "text": [
      "[0] [1] [0]\n"
     ]
    }
   ],
   "source": [
    "# Making predicitons on each row. The row.values.reshape(-1,1) is because the \"row\" is a Pandas series object so \n",
    "# .values converts it to a regular array, and .reshape(-1,1) ensures that the array is 1D. \n",
    "p1 = classifier.predict(row1.values.reshape(1, -1))\n",
    "p2 = classifier.predict(row2.values.reshape(1, -1))\n",
    "p3 = classifier.predict(row3.values.reshape(1, -1))\n",
    "\n",
    "# This prints the predictions, which should be 0, 1, 0\n",
    "print(p1, p2, p3)"
   ]
  },
  {
   "cell_type": "markdown",
   "id": "fourth-scoop",
   "metadata": {},
   "source": [
    "# Junk\n",
    "These cells below are junk, but illustrate the pythonic syntax used above in the predictions"
   ]
  },
  {
   "cell_type": "code",
   "execution_count": 6,
   "id": "mechanical-banner",
   "metadata": {
    "scrolled": true
   },
   "outputs": [
    {
     "data": {
      "text/plain": [
       "bpm                78.335477\n",
       "ibi               765.936490\n",
       "sdnn               34.416059\n",
       "sdsd               31.222584\n",
       "rmssd              43.055715\n",
       "pnn20               0.632829\n",
       "pnn50               0.103672\n",
       "hr_mad             19.531250\n",
       "sd1                30.444530\n",
       "sd2                37.782526\n",
       "s                3613.683681\n",
       "sd1/sd2             0.805783\n",
       "breathingrate       0.098541\n",
       "Name: 0, dtype: float64"
      ]
     },
     "execution_count": 6,
     "metadata": {},
     "output_type": "execute_result"
    }
   ],
   "source": [
    "row1"
   ]
  },
  {
   "cell_type": "code",
   "execution_count": 7,
   "id": "universal-coordination",
   "metadata": {
    "scrolled": true
   },
   "outputs": [
    {
     "data": {
      "text/plain": [
       "array([7.83354766e+01, 7.65936490e+02, 3.44160592e+01, 3.12225842e+01,\n",
       "       4.30557147e+01, 6.32829374e-01, 1.03671706e-01, 1.95312500e+01,\n",
       "       3.04445296e+01, 3.77825264e+01, 3.61368368e+03, 8.05783321e-01,\n",
       "       9.85410297e-02])"
      ]
     },
     "execution_count": 7,
     "metadata": {},
     "output_type": "execute_result"
    }
   ],
   "source": [
    "row1.values"
   ]
  },
  {
   "cell_type": "code",
   "execution_count": 8,
   "id": "small-robin",
   "metadata": {},
   "outputs": [
    {
     "data": {
      "text/plain": [
       "(13,)"
      ]
     },
     "execution_count": 8,
     "metadata": {},
     "output_type": "execute_result"
    }
   ],
   "source": [
    "row1.values.shape"
   ]
  },
  {
   "cell_type": "code",
   "execution_count": 9,
   "id": "professional-hindu",
   "metadata": {},
   "outputs": [
    {
     "data": {
      "text/plain": [
       "array([[7.83354766e+01, 7.65936490e+02, 3.44160592e+01, 3.12225842e+01,\n",
       "        4.30557147e+01, 6.32829374e-01, 1.03671706e-01, 1.95312500e+01,\n",
       "        3.04445296e+01, 3.77825264e+01, 3.61368368e+03, 8.05783321e-01,\n",
       "        9.85410297e-02]])"
      ]
     },
     "execution_count": 9,
     "metadata": {},
     "output_type": "execute_result"
    }
   ],
   "source": [
    "row1.values.reshape(1, -1)"
   ]
  },
  {
   "cell_type": "code",
   "execution_count": 10,
   "id": "stupid-explorer",
   "metadata": {},
   "outputs": [
    {
     "data": {
      "text/plain": [
       "(1, 13)"
      ]
     },
     "execution_count": 10,
     "metadata": {},
     "output_type": "execute_result"
    }
   ],
   "source": [
    "row1.values.reshape(1, -1).shape"
   ]
  },
  {
   "cell_type": "markdown",
   "id": "periodic-ballet",
   "metadata": {},
   "source": [
    "# Model Training"
   ]
  },
  {
   "cell_type": "code",
   "execution_count": 1,
   "id": "searching-toronto",
   "metadata": {},
   "outputs": [],
   "source": [
    "from sklearn.ensemble import RandomForestClassifier\n",
    "from sklearn.model_selection import train_test_split"
   ]
  },
  {
   "cell_type": "code",
   "execution_count": null,
   "id": "forward-removal",
   "metadata": {},
   "outputs": [],
   "source": []
  }
 ],
 "metadata": {
  "kernelspec": {
   "display_name": "Python 3",
   "language": "python",
   "name": "python3"
  },
  "language_info": {
   "codemirror_mode": {
    "name": "ipython",
    "version": 3
   },
   "file_extension": ".py",
   "mimetype": "text/x-python",
   "name": "python",
   "nbconvert_exporter": "python",
   "pygments_lexer": "ipython3",
   "version": "3.8.5"
  }
 },
 "nbformat": 4,
 "nbformat_minor": 5
}
