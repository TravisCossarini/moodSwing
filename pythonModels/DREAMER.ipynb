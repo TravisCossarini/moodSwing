{
 "cells": [
  {
   "cell_type": "markdown",
   "metadata": {},
   "source": [
    "# DREAMER Dataset"
   ]
  },
  {
   "cell_type": "code",
   "execution_count": 1,
   "metadata": {},
   "outputs": [],
   "source": [
    "import numpy as np\n",
    "import pandas as pd\n",
    "import matplotlib.pyplot as plt\n",
    "import sklearn as sk\n",
    "from scipy.io import loadmat\n",
    "import heartpy as hp"
   ]
  },
  {
   "cell_type": "code",
   "execution_count": 2,
   "metadata": {},
   "outputs": [],
   "source": [
    "from sklearn.ensemble import RandomForestClassifier, AdaBoostClassifier\n",
    "from sklearn.model_selection import cross_val_score, ShuffleSplit, train_test_split"
   ]
  },
  {
   "cell_type": "code",
   "execution_count": 3,
   "metadata": {},
   "outputs": [],
   "source": [
    "# def preprocessing_and_feature(data):\n",
    "#     data_ECG = {}\n",
    "#     for participant in range(0,23):\n",
    "#         for video in range(0,18):\n",
    "#             # load raw baseline and stimuli data for left and right\n",
    "#             basl_l=raw['DREAMER'][0,0]['Data'][0,participant]['ECG'][0,0]['baseline'][0,0][video,0][:,0]\n",
    "#             stim_l=raw['DREAMER'][0,0]['Data'][0,participant]['ECG'][0,0]['stimuli'][0,0][video,0][:,0]\n",
    "#             basl_r=raw['DREAMER'][0,0]['Data'][0,participant]['ECG'][0,0]['baseline'][0,0][video,0][:,1]\n",
    "#             stim_r=raw['DREAMER'][0,0]['Data'][0,participant]['ECG'][0,0]['stimuli'][0,0][video,0][:,1]\n",
    "#             # process with neurokit\n",
    "#             ecg_signals_b_l, info_b_l = nk.ecg_process(basl_l,sampling_rate=256)\n",
    "#             ecg_signals_s_l, info_s_l = nk.ecg_process(stim_l,sampling_rate=256)\n",
    "#             ecg_signals_b_r, info_b_r = nk.ecg_process(basl_r,sampling_rate=256)\n",
    "#             ecg_signals_s_r, info_s_r = nk.ecg_process(stim_r,sampling_rate=256)\n",
    "#             # divide stimuli features by baseline features\n",
    "#             # would be interesting to compare classification accuracy when we\n",
    "#             # don't do this\n",
    "#             features_ecg_l=nk.ecg_intervalrelated(ecg_signals_s_l)/nk.ecg_intervalrelated(ecg_signals_b_l)\n",
    "#             features_ecg_r=nk.ecg_intervalrelated(ecg_signals_s_r)/nk.ecg_intervalrelated(ecg_signals_b_r)\n",
    "#             # average left and right features\n",
    "#             # would be interesting to compare classification accuracy when we\n",
    "#             # rather include both left and right features\n",
    "#             features_ecg=(features_ecg_l+features_ecg_r)/2\n",
    "#             if not len(data_ECG):\n",
    "#                 data_ECG=features_ecg\n",
    "#             else:\n",
    "#                 data_ECG=pd.concat([data_ECG,features_ecg],ignore_index=True)\n",
    "#     return data_ECG"
   ]
  },
  {
   "cell_type": "code",
   "execution_count": 4,
   "metadata": {},
   "outputs": [],
   "source": [
    "raw = loadmat(\"data/DREAMER.mat\")"
   ]
  },
  {
   "cell_type": "code",
   "execution_count": 5,
   "metadata": {},
   "outputs": [],
   "source": [
    "def preprocessing_and_feature(data):\n",
    "    data_ECG = {}\n",
    "    ecgDf = pd.DataFrame()\n",
    "    for participant in range(0,23):\n",
    "        for video in range(0,18):\n",
    "            # load raw baseline and stimuli data for left and right\n",
    "            basl_l=raw['DREAMER'][0,0]['Data'][0,participant]['ECG'][0,0]['baseline'][0,0][video,0][:,0]\n",
    "            stim_l=raw['DREAMER'][0,0]['Data'][0,participant]['ECG'][0,0]['stimuli'][0,0][video,0][:,0]\n",
    "            basl_r=raw['DREAMER'][0,0]['Data'][0,participant]['ECG'][0,0]['baseline'][0,0][video,0][:,1]\n",
    "            stim_r=raw['DREAMER'][0,0]['Data'][0,participant]['ECG'][0,0]['stimuli'][0,0][video,0][:,1]\n",
    "\n",
    "            colName = \"P\" + str(participant+1) + \"V\" + str(video+1)\n",
    "           \n",
    "            ecgDf = pd.concat([ecgDf, pd.DataFrame({colName : stim_l})], axis=1)\n",
    "            \n",
    "    \n",
    "    return ecgDf"
   ]
  },
  {
   "cell_type": "code",
   "execution_count": 6,
   "metadata": {},
   "outputs": [],
   "source": [
    "# ecg = preprocessing_and_feature(raw)"
   ]
  },
  {
   "cell_type": "code",
   "execution_count": 7,
   "metadata": {},
   "outputs": [],
   "source": [
    "# ecg.head()"
   ]
  },
  {
   "cell_type": "code",
   "execution_count": 8,
   "metadata": {},
   "outputs": [],
   "source": [
    "# ecg.to_csv('data/DREAMER_ECG_Raw.csv')"
   ]
  },
  {
   "cell_type": "code",
   "execution_count": null,
   "metadata": {},
   "outputs": [],
   "source": []
  },
  {
   "cell_type": "code",
   "execution_count": 9,
   "metadata": {},
   "outputs": [],
   "source": [
    "def calculateBPMLib(seriesIn, colName):\n",
    "    print(colName)\n",
    "    fs = 256 #The example dataset was recorded at 256Hz\n",
    "    \n",
    "    series = seriesIn.copy()\n",
    "#     print(series.shape)\n",
    "    dropIdx = len(series.dropna())\n",
    "    series = series.truncate(after=dropIdx-1)\n",
    "    print(series.shape)\n",
    "\n",
    "    minuteHz = 7680\n",
    "    currIdx = 7680\n",
    "    bpmList = []\n",
    "    \n",
    "#     if(len(series)<minuteHz):\n",
    "#         print('ERROR0')\n",
    "#         return []\n",
    "    \n",
    "    while currIdx < len(series):\n",
    "#         print(currIdx)\n",
    "        currSlice = series.iloc[currIdx-minuteHz:currIdx]\n",
    "        currIdx += 256\n",
    "        currSlice = np.array(currSlice.to_list())\n",
    "        try:\n",
    "            bpmList.append(hp.process(currSlice, fs)[1]['bpm'])\n",
    "        except hp.exceptions.BadSignalWarning:\n",
    "            bpmList.append(np.nan)\n",
    "\n",
    "    return bpmList"
   ]
  },
  {
   "cell_type": "code",
   "execution_count": 10,
   "metadata": {},
   "outputs": [],
   "source": [
    "# hrDf = pd.DataFrame()\n",
    "\n",
    "# for col in ecg.columns:\n",
    "#     hrDf = pd.concat([hrDf, pd.DataFrame({col : calculateBPMLib(ecg[col], col)})], axis=1)"
   ]
  },
  {
   "cell_type": "code",
   "execution_count": 11,
   "metadata": {
    "scrolled": false
   },
   "outputs": [],
   "source": [
    "# hrDf.shape"
   ]
  },
  {
   "cell_type": "code",
   "execution_count": 12,
   "metadata": {},
   "outputs": [],
   "source": [
    "\n",
    "# count = 0\n",
    "\n",
    "# for i in temp.iteritems():\n",
    "#     if i[1]/364 > 0.7:\n",
    "#         hrDf = hrDf.drop([i[0]], axis=1)\n",
    "#         df_Participants_Data = df_Participants_Data.drop([i[0]], axis=1)\n",
    "#         count+=1\n",
    "# print(count)"
   ]
  },
  {
   "cell_type": "code",
   "execution_count": 13,
   "metadata": {},
   "outputs": [
    {
     "ename": "NameError",
     "evalue": "name 'df_Participants_Data' is not defined",
     "output_type": "error",
     "traceback": [
      "\u001b[1;31m---------------------------------------------------------------------------\u001b[0m",
      "\u001b[1;31mNameError\u001b[0m                                 Traceback (most recent call last)",
      "\u001b[1;32m<ipython-input-13-603696a0ab9d>\u001b[0m in \u001b[0;36m<module>\u001b[1;34m\u001b[0m\n\u001b[1;32m----> 1\u001b[1;33m \u001b[0mdf_Participants_Data\u001b[0m\u001b[1;33m.\u001b[0m\u001b[0mhead\u001b[0m\u001b[1;33m(\u001b[0m\u001b[1;33m)\u001b[0m\u001b[1;33m\u001b[0m\u001b[1;33m\u001b[0m\u001b[0m\n\u001b[0m",
      "\u001b[1;31mNameError\u001b[0m: name 'df_Participants_Data' is not defined"
     ]
    }
   ],
   "source": [
    "df_Participants_Data.head()"
   ]
  },
  {
   "cell_type": "code",
   "execution_count": null,
   "metadata": {},
   "outputs": [],
   "source": [
    "df_Participants_Data.to_csv('data/DREAMER_emotLabels.csv', index=False)"
   ]
  },
  {
   "cell_type": "code",
   "execution_count": null,
   "metadata": {},
   "outputs": [],
   "source": [
    "hrDf.to_csv('data/preprocessedDREAMER.csv', index=False)"
   ]
  },
  {
   "cell_type": "code",
   "execution_count": 14,
   "metadata": {},
   "outputs": [
    {
     "ename": "NameError",
     "evalue": "name 'hrDf' is not defined",
     "output_type": "error",
     "traceback": [
      "\u001b[1;31m---------------------------------------------------------------------------\u001b[0m",
      "\u001b[1;31mNameError\u001b[0m                                 Traceback (most recent call last)",
      "\u001b[1;32m<ipython-input-14-32ecbeddc97a>\u001b[0m in \u001b[0;36m<module>\u001b[1;34m\u001b[0m\n\u001b[0;32m      1\u001b[0m \u001b[0mlenList\u001b[0m \u001b[1;33m=\u001b[0m \u001b[1;33m[\u001b[0m\u001b[1;33m]\u001b[0m\u001b[1;33m\u001b[0m\u001b[1;33m\u001b[0m\u001b[0m\n\u001b[1;32m----> 2\u001b[1;33m \u001b[1;32mfor\u001b[0m \u001b[0mcol\u001b[0m \u001b[1;32min\u001b[0m \u001b[0mhrDf\u001b[0m\u001b[1;33m.\u001b[0m\u001b[0mcolumns\u001b[0m\u001b[1;33m:\u001b[0m\u001b[1;33m\u001b[0m\u001b[1;33m\u001b[0m\u001b[0m\n\u001b[0m\u001b[0;32m      3\u001b[0m     \u001b[0mlenList\u001b[0m\u001b[1;33m.\u001b[0m\u001b[0mappend\u001b[0m\u001b[1;33m(\u001b[0m\u001b[0mlen\u001b[0m\u001b[1;33m(\u001b[0m\u001b[0mhrDf\u001b[0m\u001b[1;33m[\u001b[0m\u001b[0mcol\u001b[0m\u001b[1;33m]\u001b[0m\u001b[1;33m.\u001b[0m\u001b[0mdropna\u001b[0m\u001b[1;33m(\u001b[0m\u001b[1;33m)\u001b[0m\u001b[1;33m)\u001b[0m\u001b[1;33m)\u001b[0m\u001b[1;33m\u001b[0m\u001b[1;33m\u001b[0m\u001b[0m\n",
      "\u001b[1;31mNameError\u001b[0m: name 'hrDf' is not defined"
     ]
    }
   ],
   "source": [
    "lenList = []\n",
    "for col in hrDf.columns:\n",
    "    lenList.append(len(hrDf[col].dropna()))"
   ]
  },
  {
   "cell_type": "code",
   "execution_count": 15,
   "metadata": {},
   "outputs": [],
   "source": [
    "def Participants_Data(raw):\n",
    "    cols = []\n",
    "    # Create new dataframe with emotion, participant, and video data\n",
    "    a=np.zeros((23,18,9),dtype=object)\n",
    "    for participant in range(0,23):\n",
    "        for video in range(0,18):\n",
    "            cols.append(\"P\" + str(participant+1) + \"V\" + str(video+1))\n",
    "            a[participant,video,0]=raw['DREAMER'][0,0]['Data'][0,participant]['Age'][0][0][0]\n",
    "            a[participant,video,1]=raw['DREAMER'][0,0]['Data'][0,participant]['Gender'][0][0][0]\n",
    "            a[participant,video,2]=participant+1\n",
    "            a[participant,video,3]=video+1\n",
    "            a[participant,video,4]=['Searching for Bobby Fischer','D.O.A.', 'The Hangover', 'The Ring', '300',\n",
    "                      'National Lampoon\\'s VanWilder', 'Wall-E', 'Crash', 'My Girl', 'The Fly',\n",
    "                      'Pride and Prejudice', 'Modern Times', 'Remember the Titans', 'Gentlemans Agreement',\n",
    "                      'Psycho', 'The Bourne Identitiy', 'The Shawshank Redemption', 'The Departed'][video]\n",
    "            a[participant,video,5]=['calmness', 'surprise', 'amusement', 'fear', 'excitement', 'disgust',\n",
    "                      'happiness', 'anger', 'sadness', 'disgust', 'calmness', 'amusement',\n",
    "                      'happiness', 'anger', 'fear', 'excitement', 'sadness', 'surprise'][video]\n",
    "            a[participant,video,6]=raw['DREAMER'][0,0]['Data'][0,participant]['ScoreValence'][0,0][video,0].astype(float)\n",
    "            a[participant,video,7]=raw['DREAMER'][0,0]['Data'][0,participant]['ScoreArousal'][0,0][video,0].astype(float)\n",
    "            a[participant,video,8]=raw['DREAMER'][0,0]['Data'][0,participant]['ScoreDominance'][0,0][video,0].astype(float)\n",
    "    b=pd.DataFrame(a.reshape((23*18,a.shape[2])),columns=['Age','Gender','Participant','Video','Video_Name','Target_Emotion','Valence','Arousal','Dominance'])\n",
    "    \n",
    "    c = pd.DataFrame(b[['Valence', 'Arousal', 'Dominance']].T.values, columns=cols, index=['Valence', 'Arousal', 'Dominance'])\n",
    "    ## combine feature extraction dataframes with the new dataframe\n",
    "    #all_data=pd.concat([data_EEG,data_ECG,b],axis=1)\n",
    "    return c"
   ]
  },
  {
   "cell_type": "code",
   "execution_count": 16,
   "metadata": {
    "scrolled": true
   },
   "outputs": [
    {
     "data": {
      "text/html": [
       "<div>\n",
       "<style scoped>\n",
       "    .dataframe tbody tr th:only-of-type {\n",
       "        vertical-align: middle;\n",
       "    }\n",
       "\n",
       "    .dataframe tbody tr th {\n",
       "        vertical-align: top;\n",
       "    }\n",
       "\n",
       "    .dataframe thead th {\n",
       "        text-align: right;\n",
       "    }\n",
       "</style>\n",
       "<table border=\"1\" class=\"dataframe\">\n",
       "  <thead>\n",
       "    <tr style=\"text-align: right;\">\n",
       "      <th></th>\n",
       "      <th>P1V1</th>\n",
       "      <th>P1V2</th>\n",
       "      <th>P1V3</th>\n",
       "      <th>P1V4</th>\n",
       "      <th>P1V5</th>\n",
       "      <th>P1V6</th>\n",
       "      <th>P1V7</th>\n",
       "      <th>P1V8</th>\n",
       "      <th>P1V9</th>\n",
       "      <th>P1V10</th>\n",
       "      <th>...</th>\n",
       "      <th>P23V9</th>\n",
       "      <th>P23V10</th>\n",
       "      <th>P23V11</th>\n",
       "      <th>P23V12</th>\n",
       "      <th>P23V13</th>\n",
       "      <th>P23V14</th>\n",
       "      <th>P23V15</th>\n",
       "      <th>P23V16</th>\n",
       "      <th>P23V17</th>\n",
       "      <th>P23V18</th>\n",
       "    </tr>\n",
       "  </thead>\n",
       "  <tbody>\n",
       "    <tr>\n",
       "      <th>Valence</th>\n",
       "      <td>4.0</td>\n",
       "      <td>3.0</td>\n",
       "      <td>5.0</td>\n",
       "      <td>4.0</td>\n",
       "      <td>4.0</td>\n",
       "      <td>1.0</td>\n",
       "      <td>5.0</td>\n",
       "      <td>1.0</td>\n",
       "      <td>1.0</td>\n",
       "      <td>5.0</td>\n",
       "      <td>...</td>\n",
       "      <td>2.0</td>\n",
       "      <td>2.0</td>\n",
       "      <td>4.0</td>\n",
       "      <td>4.0</td>\n",
       "      <td>4.0</td>\n",
       "      <td>2.0</td>\n",
       "      <td>2.0</td>\n",
       "      <td>3.0</td>\n",
       "      <td>2.0</td>\n",
       "      <td>2.0</td>\n",
       "    </tr>\n",
       "    <tr>\n",
       "      <th>Arousal</th>\n",
       "      <td>3.0</td>\n",
       "      <td>3.0</td>\n",
       "      <td>4.0</td>\n",
       "      <td>3.0</td>\n",
       "      <td>4.0</td>\n",
       "      <td>2.0</td>\n",
       "      <td>4.0</td>\n",
       "      <td>2.0</td>\n",
       "      <td>2.0</td>\n",
       "      <td>3.0</td>\n",
       "      <td>...</td>\n",
       "      <td>2.0</td>\n",
       "      <td>5.0</td>\n",
       "      <td>1.0</td>\n",
       "      <td>2.0</td>\n",
       "      <td>3.0</td>\n",
       "      <td>2.0</td>\n",
       "      <td>2.0</td>\n",
       "      <td>3.0</td>\n",
       "      <td>2.0</td>\n",
       "      <td>4.0</td>\n",
       "    </tr>\n",
       "    <tr>\n",
       "      <th>Dominance</th>\n",
       "      <td>2.0</td>\n",
       "      <td>1.0</td>\n",
       "      <td>4.0</td>\n",
       "      <td>2.0</td>\n",
       "      <td>4.0</td>\n",
       "      <td>5.0</td>\n",
       "      <td>4.0</td>\n",
       "      <td>4.0</td>\n",
       "      <td>3.0</td>\n",
       "      <td>4.0</td>\n",
       "      <td>...</td>\n",
       "      <td>2.0</td>\n",
       "      <td>5.0</td>\n",
       "      <td>1.0</td>\n",
       "      <td>2.0</td>\n",
       "      <td>3.0</td>\n",
       "      <td>2.0</td>\n",
       "      <td>2.0</td>\n",
       "      <td>2.0</td>\n",
       "      <td>4.0</td>\n",
       "      <td>2.0</td>\n",
       "    </tr>\n",
       "  </tbody>\n",
       "</table>\n",
       "<p>3 rows × 414 columns</p>\n",
       "</div>"
      ],
      "text/plain": [
       "          P1V1 P1V2 P1V3 P1V4 P1V5 P1V6 P1V7 P1V8 P1V9 P1V10  ... P23V9  \\\n",
       "Valence    4.0  3.0  5.0  4.0  4.0  1.0  5.0  1.0  1.0   5.0  ...   2.0   \n",
       "Arousal    3.0  3.0  4.0  3.0  4.0  2.0  4.0  2.0  2.0   3.0  ...   2.0   \n",
       "Dominance  2.0  1.0  4.0  2.0  4.0  5.0  4.0  4.0  3.0   4.0  ...   2.0   \n",
       "\n",
       "          P23V10 P23V11 P23V12 P23V13 P23V14 P23V15 P23V16 P23V17 P23V18  \n",
       "Valence      2.0    4.0    4.0    4.0    2.0    2.0    3.0    2.0    2.0  \n",
       "Arousal      5.0    1.0    2.0    3.0    2.0    2.0    3.0    2.0    4.0  \n",
       "Dominance    5.0    1.0    2.0    3.0    2.0    2.0    2.0    4.0    2.0  \n",
       "\n",
       "[3 rows x 414 columns]"
      ]
     },
     "execution_count": 16,
     "metadata": {},
     "output_type": "execute_result"
    }
   ],
   "source": [
    "df_Participants_Data = Participants_Data(raw)\n",
    "df_Participants_Data.head()"
   ]
  },
  {
   "cell_type": "code",
   "execution_count": 30,
   "metadata": {},
   "outputs": [
    {
     "data": {
      "text/html": [
       "<div>\n",
       "<style scoped>\n",
       "    .dataframe tbody tr th:only-of-type {\n",
       "        vertical-align: middle;\n",
       "    }\n",
       "\n",
       "    .dataframe tbody tr th {\n",
       "        vertical-align: top;\n",
       "    }\n",
       "\n",
       "    .dataframe thead th {\n",
       "        text-align: right;\n",
       "    }\n",
       "</style>\n",
       "<table border=\"1\" class=\"dataframe\">\n",
       "  <thead>\n",
       "    <tr style=\"text-align: right;\">\n",
       "      <th></th>\n",
       "      <th>Unnamed: 0</th>\n",
       "      <th>P01C1</th>\n",
       "      <th>P01C2</th>\n",
       "      <th>P01C3</th>\n",
       "      <th>P01C4</th>\n",
       "      <th>P01C5</th>\n",
       "      <th>P01C6</th>\n",
       "      <th>P01C7</th>\n",
       "      <th>P01C8</th>\n",
       "      <th>P01C9</th>\n",
       "      <th>...</th>\n",
       "      <th>P58C27</th>\n",
       "      <th>P58C28</th>\n",
       "      <th>P58C29</th>\n",
       "      <th>P58C30</th>\n",
       "      <th>P58C31</th>\n",
       "      <th>P58C32</th>\n",
       "      <th>P58C33</th>\n",
       "      <th>P58C34</th>\n",
       "      <th>P58C35</th>\n",
       "      <th>P58C36</th>\n",
       "    </tr>\n",
       "  </thead>\n",
       "  <tbody>\n",
       "    <tr>\n",
       "      <th>0</th>\n",
       "      <td>0</td>\n",
       "      <td>0</td>\n",
       "      <td>1</td>\n",
       "      <td>0</td>\n",
       "      <td>1</td>\n",
       "      <td>1</td>\n",
       "      <td>0</td>\n",
       "      <td>1</td>\n",
       "      <td>1</td>\n",
       "      <td>1</td>\n",
       "      <td>...</td>\n",
       "      <td>0</td>\n",
       "      <td>0</td>\n",
       "      <td>0</td>\n",
       "      <td>0</td>\n",
       "      <td>0</td>\n",
       "      <td>0</td>\n",
       "      <td>0</td>\n",
       "      <td>0</td>\n",
       "      <td>0</td>\n",
       "      <td>0</td>\n",
       "    </tr>\n",
       "  </tbody>\n",
       "</table>\n",
       "<p>1 rows × 2089 columns</p>\n",
       "</div>"
      ],
      "text/plain": [
       "   Unnamed: 0  P01C1  P01C2  P01C3  P01C4  P01C5  P01C6  P01C7  P01C8  P01C9  \\\n",
       "0           0      0      1      0      1      1      0      1      1      1   \n",
       "\n",
       "   ...  P58C27  P58C28  P58C29  P58C30  P58C31  P58C32  P58C33  P58C34  \\\n",
       "0  ...       0       0       0       0       0       0       0       0   \n",
       "\n",
       "   P58C35  P58C36  \n",
       "0       0       0  \n",
       "\n",
       "[1 rows x 2089 columns]"
      ]
     },
     "execution_count": 30,
     "metadata": {},
     "output_type": "execute_result"
    }
   ],
   "source": [
    "df_Participants_Data = pd.read_csv('data/ASCERTAIN_labels.csv')\n",
    "df_Participants_Data"
   ]
  },
  {
   "cell_type": "code",
   "execution_count": 18,
   "metadata": {},
   "outputs": [],
   "source": [
    "outList = []\n",
    "for col in df_Participants_Data.columns:\n",
    "    val = df_Participants_Data[col]['Valence']\n",
    "    arousal = df_Participants_Data[col]['Arousal']\n",
    "    if(val <=2.5 and arousal <= 2.5):\n",
    "        outList.append(1)\n",
    "    else:\n",
    "        outList.append(0)"
   ]
  },
  {
   "cell_type": "code",
   "execution_count": 24,
   "metadata": {},
   "outputs": [],
   "source": [
    "outDf = pd.DataFrame(outList, index=df_Participants_Data.columns)\n",
    "outDf = outDf.T"
   ]
  },
  {
   "cell_type": "code",
   "execution_count": 26,
   "metadata": {},
   "outputs": [],
   "source": [
    "# outDf.to_csv(\"finalData/DR_fullLabels.csv\")"
   ]
  },
  {
   "cell_type": "code",
   "execution_count": null,
   "metadata": {},
   "outputs": [],
   "source": [
    "df_Participants_Data.to_csv('data/DREAMER_labels_raw.csv')"
   ]
  },
  {
   "cell_type": "code",
   "execution_count": null,
   "metadata": {
    "scrolled": true
   },
   "outputs": [],
   "source": [
    "df_Participants_Data = Participants_Data(raw)\n",
    "df_Participants_Data.head()"
   ]
  },
  {
   "cell_type": "code",
   "execution_count": null,
   "metadata": {
    "scrolled": false
   },
   "outputs": [],
   "source": [
    "df_Features.head()"
   ]
  },
  {
   "cell_type": "code",
   "execution_count": null,
   "metadata": {},
   "outputs": [],
   "source": [
    "len(testList)"
   ]
  },
  {
   "cell_type": "code",
   "execution_count": null,
   "metadata": {},
   "outputs": [],
   "source": [
    "df_Features = pd.DataFrame()\n",
    "df_Features = preprocessing_and_feature(raw)"
   ]
  },
  {
   "cell_type": "code",
   "execution_count": null,
   "metadata": {},
   "outputs": [],
   "source": [
    "cleanedDf = df_Features.dropna(axis=1, how='any')\n",
    "cleanedDf.to_csv(\"data/preprocessedDREAMER.csv\", index=False)"
   ]
  },
  {
   "cell_type": "code",
   "execution_count": null,
   "metadata": {},
   "outputs": [],
   "source": [
    "labels = df_Participants_Data['Target_Emotion']\n",
    "labels.shape"
   ]
  },
  {
   "cell_type": "code",
   "execution_count": null,
   "metadata": {},
   "outputs": [],
   "source": [
    "cleanedDf = pd.read_csv(\"data/preprocessedDREAMER.csv\")"
   ]
  },
  {
   "cell_type": "code",
   "execution_count": null,
   "metadata": {},
   "outputs": [],
   "source": [
    "cvf = ShuffleSplit(n_splits=5, test_size=0.3, random_state=0)"
   ]
  },
  {
   "cell_type": "code",
   "execution_count": null,
   "metadata": {},
   "outputs": [],
   "source": [
    "rfModel = RandomForestClassifier(n_estimators=1000, random_state=0)\n",
    "score = np.mean(cross_val_score(rfModel, cleanedDf, labels, cv=cvf))"
   ]
  },
  {
   "cell_type": "code",
   "execution_count": null,
   "metadata": {},
   "outputs": [],
   "source": [
    "score"
   ]
  },
  {
   "cell_type": "code",
   "execution_count": null,
   "metadata": {},
   "outputs": [],
   "source": [
    "cleanedDf.shape"
   ]
  },
  {
   "cell_type": "markdown",
   "metadata": {},
   "source": [
    "# Labels"
   ]
  },
  {
   "cell_type": "code",
   "execution_count": null,
   "metadata": {},
   "outputs": [],
   "source": [
    "df_Participants_Data.head()"
   ]
  },
  {
   "cell_type": "code",
   "execution_count": null,
   "metadata": {},
   "outputs": [],
   "source": []
  },
  {
   "cell_type": "code",
   "execution_count": null,
   "metadata": {},
   "outputs": [],
   "source": []
  }
 ],
 "metadata": {
  "kernelspec": {
   "display_name": "Python 3",
   "language": "python",
   "name": "python3"
  },
  "language_info": {
   "codemirror_mode": {
    "name": "ipython",
    "version": 3
   },
   "file_extension": ".py",
   "mimetype": "text/x-python",
   "name": "python",
   "nbconvert_exporter": "python",
   "pygments_lexer": "ipython3",
   "version": "3.8.5"
  }
 },
 "nbformat": 4,
 "nbformat_minor": 4
}
