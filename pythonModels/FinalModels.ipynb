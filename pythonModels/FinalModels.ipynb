{
 "cells": [
  {
   "cell_type": "code",
   "execution_count": 1,
   "id": "august-tsunami",
   "metadata": {},
   "outputs": [],
   "source": [
    "import numpy as np\n",
    "import pandas as pd\n",
    "from sklearn.ensemble import RandomForestClassifier, AdaBoostClassifier\n",
    "from sklearn.model_selection import train_test_split\n",
    "from joblib import dump, load\n",
    "from sklearn.metrics import plot_confusion_matrix\n",
    "from tensorflow.keras import layers as k\n",
    "import tensorflow as tf\n",
    "from sklearn.metrics import classification_report, confusion_matrix\n",
    "import heartpy as hp"
   ]
  },
  {
   "cell_type": "code",
   "execution_count": 2,
   "id": "representative-dispute",
   "metadata": {},
   "outputs": [],
   "source": [
    "data = pd.read_csv('data/preprocessedDREAMER_V2.csv', index_col='Unnamed: 0')\n",
    "labels = pd.read_csv('data/ASCERTAIN_labels_cleaned.csv', index_col='RowIdx')"
   ]
  },
  {
   "cell_type": "markdown",
   "id": "appropriate-lounge",
   "metadata": {},
   "source": [
    "# Fixing Data"
   ]
  },
  {
   "cell_type": "code",
   "execution_count": 3,
   "id": "liberal-cheat",
   "metadata": {
    "scrolled": true
   },
   "outputs": [
    {
     "data": {
      "text/html": [
       "<div>\n",
       "<style scoped>\n",
       "    .dataframe tbody tr th:only-of-type {\n",
       "        vertical-align: middle;\n",
       "    }\n",
       "\n",
       "    .dataframe tbody tr th {\n",
       "        vertical-align: top;\n",
       "    }\n",
       "\n",
       "    .dataframe thead th {\n",
       "        text-align: right;\n",
       "    }\n",
       "</style>\n",
       "<table border=\"1\" class=\"dataframe\">\n",
       "  <thead>\n",
       "    <tr style=\"text-align: right;\">\n",
       "      <th></th>\n",
       "      <th>P01C1</th>\n",
       "      <th>P01C2</th>\n",
       "      <th>P01C3</th>\n",
       "      <th>P01C4</th>\n",
       "      <th>P01C5</th>\n",
       "      <th>P01C6</th>\n",
       "      <th>P01C7</th>\n",
       "      <th>P01C8</th>\n",
       "      <th>P01C9</th>\n",
       "      <th>P01C10</th>\n",
       "      <th>...</th>\n",
       "      <th>P55C26</th>\n",
       "      <th>P55C28</th>\n",
       "      <th>P55C29</th>\n",
       "      <th>P55C30</th>\n",
       "      <th>P55C31</th>\n",
       "      <th>P55C33</th>\n",
       "      <th>P55C34</th>\n",
       "      <th>P55C35</th>\n",
       "      <th>P55C36</th>\n",
       "      <th>P57C11</th>\n",
       "    </tr>\n",
       "  </thead>\n",
       "  <tbody>\n",
       "    <tr>\n",
       "      <th>hr</th>\n",
       "      <td>74.092558</td>\n",
       "      <td>78.502305</td>\n",
       "      <td>78.829322</td>\n",
       "      <td>74.392216</td>\n",
       "      <td>76.332158</td>\n",
       "      <td>70.747185</td>\n",
       "      <td>77.374066</td>\n",
       "      <td>76.717180</td>\n",
       "      <td>73.731932</td>\n",
       "      <td>80.140302</td>\n",
       "      <td>...</td>\n",
       "      <td>78.063892</td>\n",
       "      <td>69.857874</td>\n",
       "      <td>77.228112</td>\n",
       "      <td>76.800000</td>\n",
       "      <td>75.702857</td>\n",
       "      <td>77.008565</td>\n",
       "      <td>76.117812</td>\n",
       "      <td>71.281805</td>\n",
       "      <td>76.745182</td>\n",
       "      <td>453.205742</td>\n",
       "    </tr>\n",
       "    <tr>\n",
       "      <th>ibi</th>\n",
       "      <td>809.797932</td>\n",
       "      <td>764.308764</td>\n",
       "      <td>761.138091</td>\n",
       "      <td>806.535993</td>\n",
       "      <td>786.038306</td>\n",
       "      <td>848.090278</td>\n",
       "      <td>775.453629</td>\n",
       "      <td>782.093395</td>\n",
       "      <td>813.758681</td>\n",
       "      <td>748.686975</td>\n",
       "      <td>...</td>\n",
       "      <td>768.601190</td>\n",
       "      <td>858.886719</td>\n",
       "      <td>776.919158</td>\n",
       "      <td>781.250000</td>\n",
       "      <td>792.572464</td>\n",
       "      <td>779.134115</td>\n",
       "      <td>788.251769</td>\n",
       "      <td>841.729526</td>\n",
       "      <td>781.808036</td>\n",
       "      <td>132.390203</td>\n",
       "    </tr>\n",
       "    <tr>\n",
       "      <th>sdnn</th>\n",
       "      <td>45.632772</td>\n",
       "      <td>29.789658</td>\n",
       "      <td>53.148914</td>\n",
       "      <td>53.795742</td>\n",
       "      <td>41.553153</td>\n",
       "      <td>32.992637</td>\n",
       "      <td>29.301007</td>\n",
       "      <td>37.483391</td>\n",
       "      <td>32.530346</td>\n",
       "      <td>27.319248</td>\n",
       "      <td>...</td>\n",
       "      <td>33.837810</td>\n",
       "      <td>185.880021</td>\n",
       "      <td>37.804367</td>\n",
       "      <td>18.805448</td>\n",
       "      <td>41.819302</td>\n",
       "      <td>46.232841</td>\n",
       "      <td>54.043326</td>\n",
       "      <td>127.886348</td>\n",
       "      <td>55.530707</td>\n",
       "      <td>145.462111</td>\n",
       "    </tr>\n",
       "    <tr>\n",
       "      <th>sdsd</th>\n",
       "      <td>28.256993</td>\n",
       "      <td>15.673158</td>\n",
       "      <td>16.851010</td>\n",
       "      <td>27.540715</td>\n",
       "      <td>20.683491</td>\n",
       "      <td>18.693287</td>\n",
       "      <td>15.735633</td>\n",
       "      <td>15.745813</td>\n",
       "      <td>16.814110</td>\n",
       "      <td>15.020118</td>\n",
       "      <td>...</td>\n",
       "      <td>6.639348</td>\n",
       "      <td>17.578125</td>\n",
       "      <td>12.303410</td>\n",
       "      <td>15.733133</td>\n",
       "      <td>15.645332</td>\n",
       "      <td>24.931050</td>\n",
       "      <td>19.043904</td>\n",
       "      <td>81.365518</td>\n",
       "      <td>24.566152</td>\n",
       "      <td>153.180947</td>\n",
       "    </tr>\n",
       "    <tr>\n",
       "      <th>rmssd</th>\n",
       "      <td>45.034850</td>\n",
       "      <td>30.517031</td>\n",
       "      <td>33.656399</td>\n",
       "      <td>43.233470</td>\n",
       "      <td>39.847168</td>\n",
       "      <td>35.975623</td>\n",
       "      <td>31.603297</td>\n",
       "      <td>31.126282</td>\n",
       "      <td>35.524947</td>\n",
       "      <td>27.580497</td>\n",
       "      <td>...</td>\n",
       "      <td>12.352647</td>\n",
       "      <td>27.759122</td>\n",
       "      <td>23.328741</td>\n",
       "      <td>24.079742</td>\n",
       "      <td>26.577336</td>\n",
       "      <td>35.934315</td>\n",
       "      <td>31.063685</td>\n",
       "      <td>122.849078</td>\n",
       "      <td>36.602953</td>\n",
       "      <td>220.338020</td>\n",
       "    </tr>\n",
       "  </tbody>\n",
       "</table>\n",
       "<p>5 rows × 653 columns</p>\n",
       "</div>"
      ],
      "text/plain": [
       "            P01C1       P01C2       P01C3       P01C4       P01C5       P01C6  \\\n",
       "hr      74.092558   78.502305   78.829322   74.392216   76.332158   70.747185   \n",
       "ibi    809.797932  764.308764  761.138091  806.535993  786.038306  848.090278   \n",
       "sdnn    45.632772   29.789658   53.148914   53.795742   41.553153   32.992637   \n",
       "sdsd    28.256993   15.673158   16.851010   27.540715   20.683491   18.693287   \n",
       "rmssd   45.034850   30.517031   33.656399   43.233470   39.847168   35.975623   \n",
       "\n",
       "            P01C7       P01C8       P01C9      P01C10  ...      P55C26  \\\n",
       "hr      77.374066   76.717180   73.731932   80.140302  ...   78.063892   \n",
       "ibi    775.453629  782.093395  813.758681  748.686975  ...  768.601190   \n",
       "sdnn    29.301007   37.483391   32.530346   27.319248  ...   33.837810   \n",
       "sdsd    15.735633   15.745813   16.814110   15.020118  ...    6.639348   \n",
       "rmssd   31.603297   31.126282   35.524947   27.580497  ...   12.352647   \n",
       "\n",
       "           P55C28      P55C29      P55C30      P55C31      P55C33      P55C34  \\\n",
       "hr      69.857874   77.228112   76.800000   75.702857   77.008565   76.117812   \n",
       "ibi    858.886719  776.919158  781.250000  792.572464  779.134115  788.251769   \n",
       "sdnn   185.880021   37.804367   18.805448   41.819302   46.232841   54.043326   \n",
       "sdsd    17.578125   12.303410   15.733133   15.645332   24.931050   19.043904   \n",
       "rmssd   27.759122   23.328741   24.079742   26.577336   35.934315   31.063685   \n",
       "\n",
       "           P55C35      P55C36      P57C11  \n",
       "hr      71.281805   76.745182  453.205742  \n",
       "ibi    841.729526  781.808036  132.390203  \n",
       "sdnn   127.886348   55.530707  145.462111  \n",
       "sdsd    81.365518   24.566152  153.180947  \n",
       "rmssd  122.849078   36.602953  220.338020  \n",
       "\n",
       "[5 rows x 653 columns]"
      ]
     },
     "execution_count": 3,
     "metadata": {},
     "output_type": "execute_result"
    }
   ],
   "source": [
    "data.head()"
   ]
  },
  {
   "cell_type": "code",
   "execution_count": 4,
   "id": "coordinate-mortgage",
   "metadata": {},
   "outputs": [
    {
     "data": {
      "text/plain": [
       "(13, 653)"
      ]
     },
     "execution_count": 4,
     "metadata": {},
     "output_type": "execute_result"
    }
   ],
   "source": [
    "data.shape"
   ]
  },
  {
   "cell_type": "code",
   "execution_count": 5,
   "id": "adjusted-sigma",
   "metadata": {},
   "outputs": [
    {
     "data": {
      "text/html": [
       "<div>\n",
       "<style scoped>\n",
       "    .dataframe tbody tr th:only-of-type {\n",
       "        vertical-align: middle;\n",
       "    }\n",
       "\n",
       "    .dataframe tbody tr th {\n",
       "        vertical-align: top;\n",
       "    }\n",
       "\n",
       "    .dataframe thead th {\n",
       "        text-align: right;\n",
       "    }\n",
       "</style>\n",
       "<table border=\"1\" class=\"dataframe\">\n",
       "  <thead>\n",
       "    <tr style=\"text-align: right;\">\n",
       "      <th></th>\n",
       "      <th>P01C1</th>\n",
       "      <th>P01C2</th>\n",
       "      <th>P01C3</th>\n",
       "      <th>P01C4</th>\n",
       "      <th>P01C5</th>\n",
       "      <th>P01C6</th>\n",
       "      <th>P01C7</th>\n",
       "      <th>P01C8</th>\n",
       "      <th>P01C9</th>\n",
       "      <th>P01C10</th>\n",
       "      <th>...</th>\n",
       "      <th>P58C27</th>\n",
       "      <th>P58C28</th>\n",
       "      <th>P58C29</th>\n",
       "      <th>P58C30</th>\n",
       "      <th>P58C31</th>\n",
       "      <th>P58C32</th>\n",
       "      <th>P58C33</th>\n",
       "      <th>P58C34</th>\n",
       "      <th>P58C35</th>\n",
       "      <th>P58C36</th>\n",
       "    </tr>\n",
       "    <tr>\n",
       "      <th>RowIdx</th>\n",
       "      <th></th>\n",
       "      <th></th>\n",
       "      <th></th>\n",
       "      <th></th>\n",
       "      <th></th>\n",
       "      <th></th>\n",
       "      <th></th>\n",
       "      <th></th>\n",
       "      <th></th>\n",
       "      <th></th>\n",
       "      <th></th>\n",
       "      <th></th>\n",
       "      <th></th>\n",
       "      <th></th>\n",
       "      <th></th>\n",
       "      <th></th>\n",
       "      <th></th>\n",
       "      <th></th>\n",
       "      <th></th>\n",
       "      <th></th>\n",
       "      <th></th>\n",
       "    </tr>\n",
       "  </thead>\n",
       "  <tbody>\n",
       "    <tr>\n",
       "      <th>Arousal</th>\n",
       "      <td>1</td>\n",
       "      <td>3</td>\n",
       "      <td>1</td>\n",
       "      <td>6</td>\n",
       "      <td>4</td>\n",
       "      <td>4</td>\n",
       "      <td>3</td>\n",
       "      <td>4</td>\n",
       "      <td>4</td>\n",
       "      <td>4</td>\n",
       "      <td>...</td>\n",
       "      <td>3</td>\n",
       "      <td>5</td>\n",
       "      <td>4</td>\n",
       "      <td>4</td>\n",
       "      <td>4</td>\n",
       "      <td>4</td>\n",
       "      <td>4</td>\n",
       "      <td>4</td>\n",
       "      <td>4</td>\n",
       "      <td>4</td>\n",
       "    </tr>\n",
       "    <tr>\n",
       "      <th>Valence</th>\n",
       "      <td>1</td>\n",
       "      <td>2</td>\n",
       "      <td>-2</td>\n",
       "      <td>0</td>\n",
       "      <td>1</td>\n",
       "      <td>0</td>\n",
       "      <td>1</td>\n",
       "      <td>2</td>\n",
       "      <td>2</td>\n",
       "      <td>3</td>\n",
       "      <td>...</td>\n",
       "      <td>-2</td>\n",
       "      <td>-2</td>\n",
       "      <td>-2</td>\n",
       "      <td>-1</td>\n",
       "      <td>-1</td>\n",
       "      <td>-1</td>\n",
       "      <td>-1</td>\n",
       "      <td>-3</td>\n",
       "      <td>-2</td>\n",
       "      <td>-2</td>\n",
       "    </tr>\n",
       "    <tr>\n",
       "      <th>Engagement</th>\n",
       "      <td>4</td>\n",
       "      <td>5</td>\n",
       "      <td>3</td>\n",
       "      <td>5</td>\n",
       "      <td>4</td>\n",
       "      <td>4</td>\n",
       "      <td>5</td>\n",
       "      <td>5</td>\n",
       "      <td>5</td>\n",
       "      <td>5</td>\n",
       "      <td>...</td>\n",
       "      <td>5</td>\n",
       "      <td>5</td>\n",
       "      <td>5</td>\n",
       "      <td>5</td>\n",
       "      <td>5</td>\n",
       "      <td>5</td>\n",
       "      <td>5</td>\n",
       "      <td>4</td>\n",
       "      <td>5</td>\n",
       "      <td>5</td>\n",
       "    </tr>\n",
       "  </tbody>\n",
       "</table>\n",
       "<p>3 rows × 2088 columns</p>\n",
       "</div>"
      ],
      "text/plain": [
       "            P01C1  P01C2  P01C3  P01C4  P01C5  P01C6  P01C7  P01C8  P01C9  \\\n",
       "RowIdx                                                                      \n",
       "Arousal         1      3      1      6      4      4      3      4      4   \n",
       "Valence         1      2     -2      0      1      0      1      2      2   \n",
       "Engagement      4      5      3      5      4      4      5      5      5   \n",
       "\n",
       "            P01C10  ...  P58C27  P58C28  P58C29  P58C30  P58C31  P58C32  \\\n",
       "RowIdx              ...                                                   \n",
       "Arousal          4  ...       3       5       4       4       4       4   \n",
       "Valence          3  ...      -2      -2      -2      -1      -1      -1   \n",
       "Engagement       5  ...       5       5       5       5       5       5   \n",
       "\n",
       "            P58C33  P58C34  P58C35  P58C36  \n",
       "RowIdx                                      \n",
       "Arousal          4       4       4       4  \n",
       "Valence         -1      -3      -2      -2  \n",
       "Engagement       5       4       5       5  \n",
       "\n",
       "[3 rows x 2088 columns]"
      ]
     },
     "execution_count": 5,
     "metadata": {},
     "output_type": "execute_result"
    }
   ],
   "source": [
    "labels.head()"
   ]
  },
  {
   "cell_type": "code",
   "execution_count": 6,
   "id": "limited-samba",
   "metadata": {},
   "outputs": [],
   "source": [
    "stressLabel = []\n",
    "for col in data:\n",
    "    if labels[col].values[1] <= 2.5 and labels[col].values[0] <= 2.5:\n",
    "        stressLabel.append(1)\n",
    "    else:\n",
    "        stressLabel.append(0)"
   ]
  },
  {
   "cell_type": "code",
   "execution_count": 7,
   "id": "indie-tamil",
   "metadata": {},
   "outputs": [
    {
     "data": {
      "text/plain": [
       "100"
      ]
     },
     "execution_count": 7,
     "metadata": {},
     "output_type": "execute_result"
    }
   ],
   "source": [
    "stressLabel.count(1)"
   ]
  },
  {
   "cell_type": "code",
   "execution_count": 8,
   "id": "fantastic-supervision",
   "metadata": {},
   "outputs": [
    {
     "data": {
      "text/plain": [
       "653"
      ]
     },
     "execution_count": 8,
     "metadata": {},
     "output_type": "execute_result"
    }
   ],
   "source": [
    "len(stressLabel)"
   ]
  },
  {
   "cell_type": "code",
   "execution_count": 9,
   "id": "sharing-growth",
   "metadata": {},
   "outputs": [
    {
     "data": {
      "text/plain": [
       "0.8061224489795918"
      ]
     },
     "execution_count": 9,
     "metadata": {},
     "output_type": "execute_result"
    }
   ],
   "source": [
    "X_train, X_test, y_train, y_test = train_test_split(data.T, stressLabel, test_size=0.3)\n",
    "\n",
    "rfModel = RandomForestClassifier()\n",
    "rfModel.fit(X_train, y_train)\n",
    "rfModel.score(X_test, y_test)\n",
    "\n"
   ]
  },
  {
   "cell_type": "code",
   "execution_count": 40,
   "id": "patent-neighborhood",
   "metadata": {
    "scrolled": true
   },
   "outputs": [
    {
     "data": {
      "text/plain": [
       "hr                  89.901876\n",
       "ibi                667.394301\n",
       "sdnn               135.413055\n",
       "sdsd                34.806214\n",
       "rmssd               51.674830\n",
       "pnn20                0.500000\n",
       "pnn50                0.222222\n",
       "hr_mad              50.781250\n",
       "sd1                 36.353551\n",
       "sd2                113.982504\n",
       "s                13017.719376\n",
       "sd1/sd2              0.318940\n",
       "breathingrate        0.044103\n",
       "Name: P40C5, dtype: float64"
      ]
     },
     "execution_count": 40,
     "metadata": {},
     "output_type": "execute_result"
    }
   ],
   "source": [
    "data['P40C5']"
   ]
  },
  {
   "cell_type": "code",
   "execution_count": 11,
   "id": "complex-diary",
   "metadata": {
    "scrolled": true
   },
   "outputs": [
    {
     "data": {
      "text/html": [
       "<div>\n",
       "<style scoped>\n",
       "    .dataframe tbody tr th:only-of-type {\n",
       "        vertical-align: middle;\n",
       "    }\n",
       "\n",
       "    .dataframe tbody tr th {\n",
       "        vertical-align: top;\n",
       "    }\n",
       "\n",
       "    .dataframe thead th {\n",
       "        text-align: right;\n",
       "    }\n",
       "</style>\n",
       "<table border=\"1\" class=\"dataframe\">\n",
       "  <thead>\n",
       "    <tr style=\"text-align: right;\">\n",
       "      <th></th>\n",
       "      <th>2056.0</th>\n",
       "    </tr>\n",
       "  </thead>\n",
       "  <tbody>\n",
       "    <tr>\n",
       "      <th>0</th>\n",
       "      <td>2056.0</td>\n",
       "    </tr>\n",
       "    <tr>\n",
       "      <th>1</th>\n",
       "      <td>2054.0</td>\n",
       "    </tr>\n",
       "    <tr>\n",
       "      <th>2</th>\n",
       "      <td>2053.0</td>\n",
       "    </tr>\n",
       "    <tr>\n",
       "      <th>3</th>\n",
       "      <td>2069.0</td>\n",
       "    </tr>\n",
       "    <tr>\n",
       "      <th>4</th>\n",
       "      <td>2064.0</td>\n",
       "    </tr>\n",
       "  </tbody>\n",
       "</table>\n",
       "</div>"
      ],
      "text/plain": [
       "   2056.0\n",
       "0  2056.0\n",
       "1  2054.0\n",
       "2  2053.0\n",
       "3  2069.0\n",
       "4  2064.0"
      ]
     },
     "execution_count": 11,
     "metadata": {},
     "output_type": "execute_result"
    }
   ],
   "source": [
    "testSeriesData = pd.read_csv('appData.csv')\n",
    "testSeriesData.head()"
   ]
  },
  {
   "cell_type": "code",
   "execution_count": 12,
   "id": "certain-jackson",
   "metadata": {},
   "outputs": [],
   "source": [
    "o1 = pd.read_csv('appData1.csv')\n",
    "o2 = pd.read_csv('appData2.csv')\n",
    "o3 = pd.read_csv('appData3.csv')"
   ]
  },
  {
   "cell_type": "code",
   "execution_count": 13,
   "id": "fleet-practice",
   "metadata": {},
   "outputs": [
    {
     "data": {
      "text/html": [
       "<div>\n",
       "<style scoped>\n",
       "    .dataframe tbody tr th:only-of-type {\n",
       "        vertical-align: middle;\n",
       "    }\n",
       "\n",
       "    .dataframe tbody tr th {\n",
       "        vertical-align: top;\n",
       "    }\n",
       "\n",
       "    .dataframe thead th {\n",
       "        text-align: right;\n",
       "    }\n",
       "</style>\n",
       "<table border=\"1\" class=\"dataframe\">\n",
       "  <thead>\n",
       "    <tr style=\"text-align: right;\">\n",
       "      <th></th>\n",
       "      <th>2056.0</th>\n",
       "    </tr>\n",
       "  </thead>\n",
       "  <tbody>\n",
       "    <tr>\n",
       "      <th>0</th>\n",
       "      <td>2056.0</td>\n",
       "    </tr>\n",
       "    <tr>\n",
       "      <th>1</th>\n",
       "      <td>2054.0</td>\n",
       "    </tr>\n",
       "    <tr>\n",
       "      <th>2</th>\n",
       "      <td>2053.0</td>\n",
       "    </tr>\n",
       "    <tr>\n",
       "      <th>3</th>\n",
       "      <td>2069.0</td>\n",
       "    </tr>\n",
       "    <tr>\n",
       "      <th>4</th>\n",
       "      <td>2064.0</td>\n",
       "    </tr>\n",
       "  </tbody>\n",
       "</table>\n",
       "</div>"
      ],
      "text/plain": [
       "   2056.0\n",
       "0  2056.0\n",
       "1  2054.0\n",
       "2  2053.0\n",
       "3  2069.0\n",
       "4  2064.0"
      ]
     },
     "execution_count": 13,
     "metadata": {},
     "output_type": "execute_result"
    }
   ],
   "source": [
    "o1.head()"
   ]
  },
  {
   "cell_type": "code",
   "execution_count": 14,
   "id": "suited-discussion",
   "metadata": {},
   "outputs": [
    {
     "data": {
      "text/html": [
       "<div>\n",
       "<style scoped>\n",
       "    .dataframe tbody tr th:only-of-type {\n",
       "        vertical-align: middle;\n",
       "    }\n",
       "\n",
       "    .dataframe tbody tr th {\n",
       "        vertical-align: top;\n",
       "    }\n",
       "\n",
       "    .dataframe thead th {\n",
       "        text-align: right;\n",
       "    }\n",
       "</style>\n",
       "<table border=\"1\" class=\"dataframe\">\n",
       "  <thead>\n",
       "    <tr style=\"text-align: right;\">\n",
       "      <th></th>\n",
       "      <th>1984.0</th>\n",
       "    </tr>\n",
       "  </thead>\n",
       "  <tbody>\n",
       "    <tr>\n",
       "      <th>0</th>\n",
       "      <td>1982.0</td>\n",
       "    </tr>\n",
       "    <tr>\n",
       "      <th>1</th>\n",
       "      <td>1979.0</td>\n",
       "    </tr>\n",
       "    <tr>\n",
       "      <th>2</th>\n",
       "      <td>1979.0</td>\n",
       "    </tr>\n",
       "    <tr>\n",
       "      <th>3</th>\n",
       "      <td>1981.0</td>\n",
       "    </tr>\n",
       "    <tr>\n",
       "      <th>4</th>\n",
       "      <td>1983.0</td>\n",
       "    </tr>\n",
       "  </tbody>\n",
       "</table>\n",
       "</div>"
      ],
      "text/plain": [
       "   1984.0\n",
       "0  1982.0\n",
       "1  1979.0\n",
       "2  1979.0\n",
       "3  1981.0\n",
       "4  1983.0"
      ]
     },
     "execution_count": 14,
     "metadata": {},
     "output_type": "execute_result"
    }
   ],
   "source": [
    "o2.head()"
   ]
  },
  {
   "cell_type": "code",
   "execution_count": 15,
   "id": "automatic-helmet",
   "metadata": {},
   "outputs": [
    {
     "data": {
      "text/html": [
       "<div>\n",
       "<style scoped>\n",
       "    .dataframe tbody tr th:only-of-type {\n",
       "        vertical-align: middle;\n",
       "    }\n",
       "\n",
       "    .dataframe tbody tr th {\n",
       "        vertical-align: top;\n",
       "    }\n",
       "\n",
       "    .dataframe thead th {\n",
       "        text-align: right;\n",
       "    }\n",
       "</style>\n",
       "<table border=\"1\" class=\"dataframe\">\n",
       "  <thead>\n",
       "    <tr style=\"text-align: right;\">\n",
       "      <th></th>\n",
       "      <th>2052.0</th>\n",
       "    </tr>\n",
       "  </thead>\n",
       "  <tbody>\n",
       "    <tr>\n",
       "      <th>0</th>\n",
       "      <td>2040.0</td>\n",
       "    </tr>\n",
       "    <tr>\n",
       "      <th>1</th>\n",
       "      <td>2049.0</td>\n",
       "    </tr>\n",
       "    <tr>\n",
       "      <th>2</th>\n",
       "      <td>2058.0</td>\n",
       "    </tr>\n",
       "    <tr>\n",
       "      <th>3</th>\n",
       "      <td>2038.0</td>\n",
       "    </tr>\n",
       "    <tr>\n",
       "      <th>4</th>\n",
       "      <td>2039.0</td>\n",
       "    </tr>\n",
       "  </tbody>\n",
       "</table>\n",
       "</div>"
      ],
      "text/plain": [
       "   2052.0\n",
       "0  2040.0\n",
       "1  2049.0\n",
       "2  2058.0\n",
       "3  2038.0\n",
       "4  2039.0"
      ]
     },
     "execution_count": 15,
     "metadata": {},
     "output_type": "execute_result"
    }
   ],
   "source": [
    "o3.head()"
   ]
  },
  {
   "cell_type": "code",
   "execution_count": 16,
   "id": "corporate-accuracy",
   "metadata": {
    "scrolled": true
   },
   "outputs": [
    {
     "data": {
      "text/plain": [
       "0        2056.0\n",
       "1        2054.0\n",
       "2        2053.0\n",
       "3        2069.0\n",
       "4        2064.0\n",
       "          ...  \n",
       "15355    2291.0\n",
       "15356    2237.0\n",
       "15357    2165.0\n",
       "15358    2115.0\n",
       "15359    2103.0\n",
       "Name: 2056.0, Length: 15360, dtype: float64"
      ]
     },
     "execution_count": 16,
     "metadata": {},
     "output_type": "execute_result"
    }
   ],
   "source": [
    "testSeriesData['2056.0'].iloc[0:15360]"
   ]
  },
  {
   "cell_type": "code",
   "execution_count": 17,
   "id": "noticed-casting",
   "metadata": {
    "scrolled": true
   },
   "outputs": [
    {
     "data": {
      "text/plain": [
       "{'bpm': 78.33547663797935,\n",
       " 'ibi': 765.936489762931,\n",
       " 'sdnn': 34.41605920305109,\n",
       " 'sdsd': 31.22258423691327,\n",
       " 'rmssd': 43.055714690716115,\n",
       " 'pnn20': 0.6328293736501079,\n",
       " 'pnn50': 0.10367170626349892,\n",
       " 'hr_mad': 19.53125,\n",
       " 'sd1': 30.4445295775368,\n",
       " 'sd2': 37.78252635849141,\n",
       " 's': 3613.683681099977,\n",
       " 'sd1/sd2': 0.8057833213340581,\n",
       " 'breathingrate': 0.0985410296692963}"
      ]
     },
     "execution_count": 17,
     "metadata": {},
     "output_type": "execute_result"
    }
   ],
   "source": [
    "temp = hp.process(o1['2056.0'], 256)[1]\n",
    "temp"
   ]
  },
  {
   "cell_type": "code",
   "execution_count": 18,
   "id": "presidential-deficit",
   "metadata": {},
   "outputs": [
    {
     "data": {
      "text/html": [
       "<div>\n",
       "<style scoped>\n",
       "    .dataframe tbody tr th:only-of-type {\n",
       "        vertical-align: middle;\n",
       "    }\n",
       "\n",
       "    .dataframe tbody tr th {\n",
       "        vertical-align: top;\n",
       "    }\n",
       "\n",
       "    .dataframe thead th {\n",
       "        text-align: right;\n",
       "    }\n",
       "</style>\n",
       "<table border=\"1\" class=\"dataframe\">\n",
       "  <thead>\n",
       "    <tr style=\"text-align: right;\">\n",
       "      <th></th>\n",
       "      <th>bpm</th>\n",
       "      <th>ibi</th>\n",
       "      <th>sdnn</th>\n",
       "      <th>sdsd</th>\n",
       "      <th>rmssd</th>\n",
       "      <th>pnn20</th>\n",
       "      <th>pnn50</th>\n",
       "      <th>hr_mad</th>\n",
       "      <th>sd1</th>\n",
       "      <th>sd2</th>\n",
       "      <th>s</th>\n",
       "      <th>sd1/sd2</th>\n",
       "      <th>breathingrate</th>\n",
       "    </tr>\n",
       "  </thead>\n",
       "  <tbody>\n",
       "    <tr>\n",
       "      <th>0</th>\n",
       "      <td>78.335477</td>\n",
       "      <td>765.93649</td>\n",
       "      <td>34.416059</td>\n",
       "      <td>31.222584</td>\n",
       "      <td>43.055715</td>\n",
       "      <td>0.632829</td>\n",
       "      <td>0.103672</td>\n",
       "      <td>19.53125</td>\n",
       "      <td>30.44453</td>\n",
       "      <td>37.782526</td>\n",
       "      <td>3613.683681</td>\n",
       "      <td>0.805783</td>\n",
       "      <td>0.098541</td>\n",
       "    </tr>\n",
       "  </tbody>\n",
       "</table>\n",
       "</div>"
      ],
      "text/plain": [
       "         bpm        ibi       sdnn       sdsd      rmssd     pnn20     pnn50  \\\n",
       "0  78.335477  765.93649  34.416059  31.222584  43.055715  0.632829  0.103672   \n",
       "\n",
       "     hr_mad       sd1        sd2            s   sd1/sd2  breathingrate  \n",
       "0  19.53125  30.44453  37.782526  3613.683681  0.805783       0.098541  "
      ]
     },
     "execution_count": 18,
     "metadata": {},
     "output_type": "execute_result"
    }
   ],
   "source": [
    "pd.DataFrame(temp, index=[0])"
   ]
  },
  {
   "cell_type": "code",
   "execution_count": 42,
   "id": "looking-timothy",
   "metadata": {},
   "outputs": [
    {
     "data": {
      "text/html": [
       "<div>\n",
       "<style scoped>\n",
       "    .dataframe tbody tr th:only-of-type {\n",
       "        vertical-align: middle;\n",
       "    }\n",
       "\n",
       "    .dataframe tbody tr th {\n",
       "        vertical-align: top;\n",
       "    }\n",
       "\n",
       "    .dataframe thead th {\n",
       "        text-align: right;\n",
       "    }\n",
       "</style>\n",
       "<table border=\"1\" class=\"dataframe\">\n",
       "  <thead>\n",
       "    <tr style=\"text-align: right;\">\n",
       "      <th></th>\n",
       "      <th>bpm</th>\n",
       "      <th>ibi</th>\n",
       "      <th>sdnn</th>\n",
       "      <th>sdsd</th>\n",
       "      <th>rmssd</th>\n",
       "      <th>pnn20</th>\n",
       "      <th>pnn50</th>\n",
       "      <th>hr_mad</th>\n",
       "      <th>sd1</th>\n",
       "      <th>sd2</th>\n",
       "      <th>s</th>\n",
       "      <th>sd1/sd2</th>\n",
       "      <th>breathingrate</th>\n",
       "    </tr>\n",
       "  </thead>\n",
       "  <tbody>\n",
       "    <tr>\n",
       "      <th>0</th>\n",
       "      <td>76.974232</td>\n",
       "      <td>779.48163</td>\n",
       "      <td>46.289217</td>\n",
       "      <td>29.750128</td>\n",
       "      <td>41.738161</td>\n",
       "      <td>0.578588</td>\n",
       "      <td>0.111617</td>\n",
       "      <td>27.34375</td>\n",
       "      <td>29.491598</td>\n",
       "      <td>51.148482</td>\n",
       "      <td>4738.937027</td>\n",
       "      <td>0.576588</td>\n",
       "      <td>0.101187</td>\n",
       "    </tr>\n",
       "  </tbody>\n",
       "</table>\n",
       "</div>"
      ],
      "text/plain": [
       "         bpm        ibi       sdnn       sdsd      rmssd     pnn20     pnn50  \\\n",
       "0  76.974232  779.48163  46.289217  29.750128  41.738161  0.578588  0.111617   \n",
       "\n",
       "     hr_mad        sd1        sd2            s   sd1/sd2  breathingrate  \n",
       "0  27.34375  29.491598  51.148482  4738.937027  0.576588       0.101187  "
      ]
     },
     "execution_count": 42,
     "metadata": {},
     "output_type": "execute_result"
    }
   ],
   "source": [
    "m1 = pd.DataFrame(hp.process(o1['2056.0'], 256)[1], index=[0])\n",
    "m2 = pd.DataFrame(data['P40C5'])\n",
    "m3 = pd.DataFrame(hp.process(o3['2052.0'], 256)[1], index=[0])\n",
    "m3.head()"
   ]
  },
  {
   "cell_type": "code",
   "execution_count": 43,
   "id": "guided-cradle",
   "metadata": {},
   "outputs": [
    {
     "data": {
      "text/html": [
       "<div>\n",
       "<style scoped>\n",
       "    .dataframe tbody tr th:only-of-type {\n",
       "        vertical-align: middle;\n",
       "    }\n",
       "\n",
       "    .dataframe tbody tr th {\n",
       "        vertical-align: top;\n",
       "    }\n",
       "\n",
       "    .dataframe thead th {\n",
       "        text-align: right;\n",
       "    }\n",
       "</style>\n",
       "<table border=\"1\" class=\"dataframe\">\n",
       "  <thead>\n",
       "    <tr style=\"text-align: right;\">\n",
       "      <th></th>\n",
       "      <th>bpm</th>\n",
       "      <th>ibi</th>\n",
       "      <th>sdnn</th>\n",
       "      <th>sdsd</th>\n",
       "      <th>rmssd</th>\n",
       "      <th>pnn20</th>\n",
       "      <th>pnn50</th>\n",
       "      <th>hr_mad</th>\n",
       "      <th>sd1</th>\n",
       "      <th>sd2</th>\n",
       "      <th>s</th>\n",
       "      <th>sd1/sd2</th>\n",
       "      <th>breathingrate</th>\n",
       "      <th>P40C5</th>\n",
       "    </tr>\n",
       "  </thead>\n",
       "  <tbody>\n",
       "    <tr>\n",
       "      <th>0</th>\n",
       "      <td>78.335477</td>\n",
       "      <td>765.93649</td>\n",
       "      <td>34.416059</td>\n",
       "      <td>31.222584</td>\n",
       "      <td>43.055715</td>\n",
       "      <td>0.632829</td>\n",
       "      <td>0.103672</td>\n",
       "      <td>19.53125</td>\n",
       "      <td>30.44453</td>\n",
       "      <td>37.782526</td>\n",
       "      <td>3613.683681</td>\n",
       "      <td>0.805783</td>\n",
       "      <td>0.098541</td>\n",
       "      <td>NaN</td>\n",
       "    </tr>\n",
       "    <tr>\n",
       "      <th>hr</th>\n",
       "      <td>NaN</td>\n",
       "      <td>NaN</td>\n",
       "      <td>NaN</td>\n",
       "      <td>NaN</td>\n",
       "      <td>NaN</td>\n",
       "      <td>NaN</td>\n",
       "      <td>NaN</td>\n",
       "      <td>NaN</td>\n",
       "      <td>NaN</td>\n",
       "      <td>NaN</td>\n",
       "      <td>NaN</td>\n",
       "      <td>NaN</td>\n",
       "      <td>NaN</td>\n",
       "      <td>89.901876</td>\n",
       "    </tr>\n",
       "    <tr>\n",
       "      <th>ibi</th>\n",
       "      <td>NaN</td>\n",
       "      <td>NaN</td>\n",
       "      <td>NaN</td>\n",
       "      <td>NaN</td>\n",
       "      <td>NaN</td>\n",
       "      <td>NaN</td>\n",
       "      <td>NaN</td>\n",
       "      <td>NaN</td>\n",
       "      <td>NaN</td>\n",
       "      <td>NaN</td>\n",
       "      <td>NaN</td>\n",
       "      <td>NaN</td>\n",
       "      <td>NaN</td>\n",
       "      <td>667.394301</td>\n",
       "    </tr>\n",
       "    <tr>\n",
       "      <th>sdnn</th>\n",
       "      <td>NaN</td>\n",
       "      <td>NaN</td>\n",
       "      <td>NaN</td>\n",
       "      <td>NaN</td>\n",
       "      <td>NaN</td>\n",
       "      <td>NaN</td>\n",
       "      <td>NaN</td>\n",
       "      <td>NaN</td>\n",
       "      <td>NaN</td>\n",
       "      <td>NaN</td>\n",
       "      <td>NaN</td>\n",
       "      <td>NaN</td>\n",
       "      <td>NaN</td>\n",
       "      <td>135.413055</td>\n",
       "    </tr>\n",
       "    <tr>\n",
       "      <th>sdsd</th>\n",
       "      <td>NaN</td>\n",
       "      <td>NaN</td>\n",
       "      <td>NaN</td>\n",
       "      <td>NaN</td>\n",
       "      <td>NaN</td>\n",
       "      <td>NaN</td>\n",
       "      <td>NaN</td>\n",
       "      <td>NaN</td>\n",
       "      <td>NaN</td>\n",
       "      <td>NaN</td>\n",
       "      <td>NaN</td>\n",
       "      <td>NaN</td>\n",
       "      <td>NaN</td>\n",
       "      <td>34.806214</td>\n",
       "    </tr>\n",
       "  </tbody>\n",
       "</table>\n",
       "</div>"
      ],
      "text/plain": [
       "            bpm        ibi       sdnn       sdsd      rmssd     pnn20  \\\n",
       "0     78.335477  765.93649  34.416059  31.222584  43.055715  0.632829   \n",
       "hr          NaN        NaN        NaN        NaN        NaN       NaN   \n",
       "ibi         NaN        NaN        NaN        NaN        NaN       NaN   \n",
       "sdnn        NaN        NaN        NaN        NaN        NaN       NaN   \n",
       "sdsd        NaN        NaN        NaN        NaN        NaN       NaN   \n",
       "\n",
       "         pnn50    hr_mad       sd1        sd2            s   sd1/sd2  \\\n",
       "0     0.103672  19.53125  30.44453  37.782526  3613.683681  0.805783   \n",
       "hr         NaN       NaN       NaN        NaN          NaN       NaN   \n",
       "ibi        NaN       NaN       NaN        NaN          NaN       NaN   \n",
       "sdnn       NaN       NaN       NaN        NaN          NaN       NaN   \n",
       "sdsd       NaN       NaN       NaN        NaN          NaN       NaN   \n",
       "\n",
       "      breathingrate       P40C5  \n",
       "0          0.098541         NaN  \n",
       "hr              NaN   89.901876  \n",
       "ibi             NaN  667.394301  \n",
       "sdnn            NaN  135.413055  \n",
       "sdsd            NaN   34.806214  "
      ]
     },
     "execution_count": 43,
     "metadata": {},
     "output_type": "execute_result"
    }
   ],
   "source": [
    "measureDf = pd.concat([m1, m2, m3], axis=0)\n",
    "measureDf.to_csv('appDataMeasures.csv', index=False)\n",
    "measureDf.head()"
   ]
  },
  {
   "cell_type": "code",
   "execution_count": 21,
   "id": "popular-pitch",
   "metadata": {},
   "outputs": [],
   "source": [
    "rfModel = load('rf.joblib')"
   ]
  },
  {
   "cell_type": "code",
   "execution_count": 22,
   "id": "hired-drink",
   "metadata": {},
   "outputs": [
    {
     "name": "stdout",
     "output_type": "stream",
     "text": [
      "[0] [1] [0]\n"
     ]
    }
   ],
   "source": [
    "p1 = rfModel.predict(m1.values.reshape(1, -1))\n",
    "p2 = rfModel.predict(m2.values.reshape(1, -1))\n",
    "p3 = rfModel.predict(m3.values.reshape(1, -1))\n",
    "\n",
    "print(p1, p2, p3)"
   ]
  },
  {
   "cell_type": "code",
   "execution_count": 23,
   "id": "dated-schedule",
   "metadata": {},
   "outputs": [],
   "source": [
    "# hp.process(testSeriesData['2056.0'].iloc[15360:30720], 256)"
   ]
  },
  {
   "cell_type": "code",
   "execution_count": 24,
   "id": "wireless-favor",
   "metadata": {},
   "outputs": [],
   "source": [
    "# testSeriesData = testSeriesData['2056.0'].to_list()"
   ]
  },
  {
   "cell_type": "code",
   "execution_count": 25,
   "id": "sufficient-graph",
   "metadata": {},
   "outputs": [],
   "source": [
    "# mult = 256*60\n",
    "# # for i in range(1,5):\n",
    "#     print((i-1)*mult, i*mult)\n",
    "#     readings = hp.process(testSeriesData['2056.0'].iloc[(i-1)*mult: i*mult], 256)[1].values()"
   ]
  },
  {
   "cell_type": "code",
   "execution_count": 39,
   "id": "continental-casting",
   "metadata": {
    "scrolled": true
   },
   "outputs": [
    {
     "name": "stdout",
     "output_type": "stream",
     "text": [
      "P01C1\n",
      "[[0.29 0.71]]\n",
      "P01C3\n",
      "[[0.36 0.64]]\n",
      "P01C11\n",
      "[[0.27 0.73]]\n",
      "P01C13\n",
      "[[0.21 0.79]]\n",
      "P01C16\n",
      "[[0.35 0.65]]\n",
      "P01C17\n",
      "[[0.22 0.78]]\n",
      "P01C34\n",
      "[[0.32 0.68]]\n",
      "P03C10\n",
      "[[0.44 0.56]]\n",
      "P03C11\n",
      "[[0.24 0.76]]\n",
      "P03C12\n",
      "[[0.33 0.67]]\n",
      "P03C13\n",
      "[[0.23 0.77]]\n",
      "P03C19\n",
      "[[0.33 0.67]]\n",
      "P03C24\n",
      "[[0.23 0.77]]\n",
      "P03C27\n",
      "[[0.26 0.74]]\n",
      "P04C19\n",
      "[[0.37 0.63]]\n",
      "P05C10\n",
      "[[0.33 0.67]]\n",
      "P05C17\n",
      "[[0.32 0.68]]\n",
      "P05C24\n",
      "[[0.32 0.68]]\n",
      "P05C27\n",
      "[[0.47 0.53]]\n",
      "P05C29\n",
      "[[0.28 0.72]]\n",
      "P08C2\n",
      "[[0.28 0.72]]\n",
      "P08C18\n",
      "[[0.45 0.55]]\n",
      "P13C13\n",
      "[[0.4 0.6]]\n",
      "P13C14\n",
      "[[0.47 0.53]]\n",
      "P13C18\n",
      "[[0.4 0.6]]\n",
      "P13C23\n",
      "[[0.29 0.71]]\n",
      "P13C34\n",
      "[[0.35 0.65]]\n",
      "P15C10\n",
      "[[0.34 0.66]]\n",
      "P20C10\n",
      "[[0.37 0.63]]\n",
      "P20C28\n",
      "[[0.37 0.63]]\n",
      "P24C17\n",
      "[[0.29 0.71]]\n",
      "P24C18\n",
      "[[0.21 0.79]]\n",
      "P24C24\n",
      "[[0.25 0.75]]\n",
      "P24C26\n",
      "[[0.21 0.79]]\n",
      "P25C22\n",
      "[[0.26 0.74]]\n",
      "P27C2\n",
      "[[0.37 0.63]]\n",
      "P27C10\n",
      "[[0.33 0.67]]\n",
      "P27C15\n",
      "[[0.29 0.71]]\n",
      "P27C20\n",
      "[[0.27 0.73]]\n",
      "P32C12\n",
      "[[0.31 0.69]]\n",
      "P35C1\n",
      "[[0.25 0.75]]\n",
      "P35C6\n",
      "[[0.44 0.56]]\n",
      "P35C11\n",
      "[[0.24 0.76]]\n",
      "P35C13\n",
      "[[0.27 0.73]]\n",
      "P35C34\n",
      "[[0.37 0.63]]\n",
      "P36C15\n",
      "[[0.41 0.59]]\n",
      "P36C19\n",
      "[[0.25 0.75]]\n",
      "P37C1\n",
      "[[0.24 0.76]]\n",
      "P37C17\n",
      "[[0.26 0.74]]\n",
      "P39C1\n",
      "[[0.36 0.64]]\n",
      "P40C1\n",
      "[[0.46 0.54]]\n",
      "P40C4\n",
      "[[0.16 0.84]]\n",
      "P40C5\n",
      "[[0.19 0.81]]\n",
      "P40C6\n",
      "[[0.41 0.59]]\n",
      "P40C8\n",
      "[[0.2 0.8]]\n",
      "P40C11\n",
      "[[0.26 0.74]]\n",
      "P40C13\n",
      "[[0.45 0.55]]\n",
      "P40C14\n",
      "[[0.39 0.61]]\n",
      "P40C17\n",
      "[[0.34 0.66]]\n",
      "P40C18\n",
      "[[0.21 0.79]]\n",
      "P40C21\n",
      "[[0.17 0.83]]\n",
      "P40C22\n",
      "[[0.28 0.72]]\n",
      "P40C23\n",
      "[[0.34 0.66]]\n",
      "P40C24\n",
      "[[0.2 0.8]]\n",
      "P40C25\n",
      "[[0.31 0.69]]\n",
      "P52C1\n",
      "[[0.24 0.76]]\n",
      "P54C11\n",
      "[[0.25 0.75]]\n",
      "P54C18\n",
      "[[0.38 0.62]]\n",
      "P54C27\n",
      "[[0.29 0.71]]\n",
      "P55C24\n",
      "[[0.33 0.67]]\n"
     ]
    }
   ],
   "source": [
    "idx = 0\n",
    "count = 0\n",
    "for row in data.columns:\n",
    "    if(rfModel.predict(data[row].T.values.reshape(1, -1)) == 1 and stressLabel[idx] == 1):\n",
    "        print(row)\n",
    "        print(rfModel.predict_proba(data[row].T.values.reshape(1, -1)))\n",
    "        count += 1\n",
    "    idx += 1"
   ]
  },
  {
   "cell_type": "code",
   "execution_count": 27,
   "id": "understanding-silence",
   "metadata": {},
   "outputs": [
    {
     "data": {
      "text/plain": [
       "hr                 74.092558\n",
       "ibi               809.797932\n",
       "sdnn               45.632772\n",
       "sdsd               28.256993\n",
       "rmssd              45.034850\n",
       "pnn20               0.679389\n",
       "pnn50               0.221374\n",
       "hr_mad             27.343750\n",
       "sd1                31.842660\n",
       "sd2                53.657112\n",
       "s                5367.678726\n",
       "sd1/sd2             0.593447\n",
       "breathingrate       0.287994\n",
       "Name: P01C1, dtype: float64"
      ]
     },
     "execution_count": 27,
     "metadata": {},
     "output_type": "execute_result"
    }
   ],
   "source": [
    "data['P01C1']"
   ]
  },
  {
   "cell_type": "code",
   "execution_count": 28,
   "id": "persistent-cornwall",
   "metadata": {},
   "outputs": [
    {
     "data": {
      "text/plain": [
       "70"
      ]
     },
     "execution_count": 28,
     "metadata": {},
     "output_type": "execute_result"
    }
   ],
   "source": [
    "count"
   ]
  },
  {
   "cell_type": "code",
   "execution_count": 29,
   "id": "patient-quantum",
   "metadata": {},
   "outputs": [],
   "source": [
    "model = tf.keras.Sequential()\n",
    "model.add(k.Dense(16, input_dim=13, activation='relu'))\n",
    "model.add(k.Dense(8, activation='relu'))\n",
    "model.add(k.Dense(4, activation='relu'))\n",
    "model.add(k.Dense(2, activation='relu'))\n",
    "\n",
    "model.compile(loss='binary_crossentropy', optimizer='adam', metrics=['accuracy'])"
   ]
  },
  {
   "cell_type": "code",
   "execution_count": 30,
   "id": "identical-dividend",
   "metadata": {},
   "outputs": [],
   "source": [
    "# model.fit(X_train.values, np.array(y_train), epochs=50, batch_size=10)\n",
    "\n",
    "# loss, accuracy = model.evaluate(X_test, np.array(y_test))\n",
    "# print('Accuracy: %.2f' % (accuracy*100))"
   ]
  },
  {
   "cell_type": "code",
   "execution_count": 31,
   "id": "sixth-minneapolis",
   "metadata": {},
   "outputs": [
    {
     "name": "stdout",
     "output_type": "stream",
     "text": [
      "Confusion Matrix\n",
      "[[163   0]\n",
      " [ 33   0]]\n"
     ]
    }
   ],
   "source": [
    "# Confution Matrix and Classification Report\n",
    "Y_pred = model.predict(X_test)\n",
    "y_pred = np.argmax(Y_pred, axis=1)\n",
    "print('Confusion Matrix')\n",
    "print(confusion_matrix(y_test, y_pred))"
   ]
  },
  {
   "cell_type": "code",
   "execution_count": 32,
   "id": "decimal-fleece",
   "metadata": {
    "scrolled": true
   },
   "outputs": [
    {
     "data": {
      "text/plain": [
       "<sklearn.metrics._plot.confusion_matrix.ConfusionMatrixDisplay at 0x131360cd040>"
      ]
     },
     "execution_count": 32,
     "metadata": {},
     "output_type": "execute_result"
    },
    {
     "data": {
      "image/png": "[encoded data removed]",
      "text/plain": [
       "<Figure size 432x288 with 2 Axes>"
      ]
     },
     "metadata": {
      "needs_background": "light"
     },
     "output_type": "display_data"
    }
   ],
   "source": [
    "plot_confusion_matrix(rfModel, X_test, y_test)"
   ]
  },
  {
   "cell_type": "code",
   "execution_count": 33,
   "id": "appreciated-twins",
   "metadata": {},
   "outputs": [
    {
     "data": {
      "text/plain": [
       "['rf.joblib']"
      ]
     },
     "execution_count": 33,
     "metadata": {},
     "output_type": "execute_result"
    }
   ],
   "source": [
    "dump(rfModel, 'rf.joblib')"
   ]
  },
  {
   "cell_type": "code",
   "execution_count": 34,
   "id": "stretch-riverside",
   "metadata": {},
   "outputs": [],
   "source": [
    "rfModel2 = load('rf.joblib')"
   ]
  },
  {
   "cell_type": "code",
   "execution_count": 35,
   "id": "rapid-china",
   "metadata": {},
   "outputs": [
    {
     "data": {
      "text/plain": [
       "0.9285714285714286"
      ]
     },
     "execution_count": 35,
     "metadata": {},
     "output_type": "execute_result"
    }
   ],
   "source": [
    "rfModel2.score(X_test, y_test)"
   ]
  },
  {
   "cell_type": "code",
   "execution_count": 36,
   "id": "utility-architect",
   "metadata": {},
   "outputs": [
    {
     "data": {
      "text/html": [
       "<div>\n",
       "<style scoped>\n",
       "    .dataframe tbody tr th:only-of-type {\n",
       "        vertical-align: middle;\n",
       "    }\n",
       "\n",
       "    .dataframe tbody tr th {\n",
       "        vertical-align: top;\n",
       "    }\n",
       "\n",
       "    .dataframe thead th {\n",
       "        text-align: right;\n",
       "    }\n",
       "</style>\n",
       "<table border=\"1\" class=\"dataframe\">\n",
       "  <thead>\n",
       "    <tr style=\"text-align: right;\">\n",
       "      <th></th>\n",
       "      <th>hr</th>\n",
       "      <th>ibi</th>\n",
       "      <th>sdnn</th>\n",
       "      <th>sdsd</th>\n",
       "      <th>rmssd</th>\n",
       "      <th>pnn20</th>\n",
       "      <th>pnn50</th>\n",
       "      <th>hr_mad</th>\n",
       "      <th>sd1</th>\n",
       "      <th>sd2</th>\n",
       "      <th>s</th>\n",
       "      <th>sd1/sd2</th>\n",
       "      <th>breathingrate</th>\n",
       "    </tr>\n",
       "  </thead>\n",
       "  <tbody>\n",
       "    <tr>\n",
       "      <th>P24C3</th>\n",
       "      <td>77.803667</td>\n",
       "      <td>771.171875</td>\n",
       "      <td>35.929772</td>\n",
       "      <td>18.582813</td>\n",
       "      <td>31.464341</td>\n",
       "      <td>0.523810</td>\n",
       "      <td>0.119048</td>\n",
       "      <td>25.390625</td>\n",
       "      <td>22.084655</td>\n",
       "      <td>45.944234</td>\n",
       "      <td>3187.656407</td>\n",
       "      <td>0.480684</td>\n",
       "      <td>0.051904</td>\n",
       "    </tr>\n",
       "    <tr>\n",
       "      <th>P13C21</th>\n",
       "      <td>77.528090</td>\n",
       "      <td>773.913043</td>\n",
       "      <td>26.985462</td>\n",
       "      <td>9.762060</td>\n",
       "      <td>17.957173</td>\n",
       "      <td>0.256637</td>\n",
       "      <td>0.000000</td>\n",
       "      <td>19.531250</td>\n",
       "      <td>12.681724</td>\n",
       "      <td>35.654340</td>\n",
       "      <td>1420.497849</td>\n",
       "      <td>0.355685</td>\n",
       "      <td>0.078699</td>\n",
       "    </tr>\n",
       "    <tr>\n",
       "      <th>P40C18</th>\n",
       "      <td>80.913082</td>\n",
       "      <td>741.536458</td>\n",
       "      <td>74.087283</td>\n",
       "      <td>38.131334</td>\n",
       "      <td>49.982796</td>\n",
       "      <td>0.363636</td>\n",
       "      <td>0.272727</td>\n",
       "      <td>54.687500</td>\n",
       "      <td>35.235076</td>\n",
       "      <td>98.967182</td>\n",
       "      <td>10955.098551</td>\n",
       "      <td>0.356028</td>\n",
       "      <td>0.056224</td>\n",
       "    </tr>\n",
       "    <tr>\n",
       "      <th>P20C24</th>\n",
       "      <td>77.986755</td>\n",
       "      <td>769.361413</td>\n",
       "      <td>36.561917</td>\n",
       "      <td>8.536305</td>\n",
       "      <td>20.297470</td>\n",
       "      <td>0.428571</td>\n",
       "      <td>0.000000</td>\n",
       "      <td>27.343750</td>\n",
       "      <td>11.718750</td>\n",
       "      <td>25.395224</td>\n",
       "      <td>934.938849</td>\n",
       "      <td>0.461455</td>\n",
       "      <td>0.056551</td>\n",
       "    </tr>\n",
       "    <tr>\n",
       "      <th>P03C13</th>\n",
       "      <td>64.753598</td>\n",
       "      <td>926.589440</td>\n",
       "      <td>60.570806</td>\n",
       "      <td>19.304762</td>\n",
       "      <td>31.614090</td>\n",
       "      <td>0.545455</td>\n",
       "      <td>0.090909</td>\n",
       "      <td>42.968750</td>\n",
       "      <td>21.967230</td>\n",
       "      <td>87.367788</td>\n",
       "      <td>6029.433584</td>\n",
       "      <td>0.251434</td>\n",
       "      <td>0.148937</td>\n",
       "    </tr>\n",
       "    <tr>\n",
       "      <th>...</th>\n",
       "      <td>...</td>\n",
       "      <td>...</td>\n",
       "      <td>...</td>\n",
       "      <td>...</td>\n",
       "      <td>...</td>\n",
       "      <td>...</td>\n",
       "      <td>...</td>\n",
       "      <td>...</td>\n",
       "      <td>...</td>\n",
       "      <td>...</td>\n",
       "      <td>...</td>\n",
       "      <td>...</td>\n",
       "      <td>...</td>\n",
       "    </tr>\n",
       "    <tr>\n",
       "      <th>P04C27</th>\n",
       "      <td>64.835660</td>\n",
       "      <td>925.416667</td>\n",
       "      <td>60.158527</td>\n",
       "      <td>34.083506</td>\n",
       "      <td>61.334412</td>\n",
       "      <td>0.756757</td>\n",
       "      <td>0.445946</td>\n",
       "      <td>42.968750</td>\n",
       "      <td>43.366830</td>\n",
       "      <td>71.792908</td>\n",
       "      <td>9781.131548</td>\n",
       "      <td>0.604055</td>\n",
       "      <td>0.259474</td>\n",
       "    </tr>\n",
       "    <tr>\n",
       "      <th>P31C5</th>\n",
       "      <td>82.483449</td>\n",
       "      <td>727.418664</td>\n",
       "      <td>62.427206</td>\n",
       "      <td>48.798993</td>\n",
       "      <td>62.790416</td>\n",
       "      <td>0.634615</td>\n",
       "      <td>0.192308</td>\n",
       "      <td>35.156250</td>\n",
       "      <td>44.326261</td>\n",
       "      <td>66.361282</td>\n",
       "      <td>9241.143917</td>\n",
       "      <td>0.667954</td>\n",
       "      <td>0.131911</td>\n",
       "    </tr>\n",
       "    <tr>\n",
       "      <th>P55C22</th>\n",
       "      <td>75.241428</td>\n",
       "      <td>797.433036</td>\n",
       "      <td>42.736210</td>\n",
       "      <td>18.480411</td>\n",
       "      <td>30.257682</td>\n",
       "      <td>0.466667</td>\n",
       "      <td>0.133333</td>\n",
       "      <td>35.156250</td>\n",
       "      <td>20.087563</td>\n",
       "      <td>49.491501</td>\n",
       "      <td>3123.257228</td>\n",
       "      <td>0.405879</td>\n",
       "      <td>0.089634</td>\n",
       "    </tr>\n",
       "    <tr>\n",
       "      <th>P18C27</th>\n",
       "      <td>67.758757</td>\n",
       "      <td>885.494403</td>\n",
       "      <td>76.060673</td>\n",
       "      <td>20.616860</td>\n",
       "      <td>32.462916</td>\n",
       "      <td>0.467742</td>\n",
       "      <td>0.145161</td>\n",
       "      <td>46.875000</td>\n",
       "      <td>22.552804</td>\n",
       "      <td>99.264167</td>\n",
       "      <td>7033.037197</td>\n",
       "      <td>0.227200</td>\n",
       "      <td>0.067456</td>\n",
       "    </tr>\n",
       "    <tr>\n",
       "      <th>P24C27</th>\n",
       "      <td>85.245225</td>\n",
       "      <td>703.851744</td>\n",
       "      <td>44.679347</td>\n",
       "      <td>14.405207</td>\n",
       "      <td>24.347566</td>\n",
       "      <td>0.412500</td>\n",
       "      <td>0.037500</td>\n",
       "      <td>31.250000</td>\n",
       "      <td>17.215775</td>\n",
       "      <td>62.468101</td>\n",
       "      <td>3378.584233</td>\n",
       "      <td>0.275593</td>\n",
       "      <td>0.099192</td>\n",
       "    </tr>\n",
       "  </tbody>\n",
       "</table>\n",
       "<p>457 rows × 13 columns</p>\n",
       "</div>"
      ],
      "text/plain": [
       "               hr         ibi       sdnn       sdsd      rmssd     pnn20  \\\n",
       "P24C3   77.803667  771.171875  35.929772  18.582813  31.464341  0.523810   \n",
       "P13C21  77.528090  773.913043  26.985462   9.762060  17.957173  0.256637   \n",
       "P40C18  80.913082  741.536458  74.087283  38.131334  49.982796  0.363636   \n",
       "P20C24  77.986755  769.361413  36.561917   8.536305  20.297470  0.428571   \n",
       "P03C13  64.753598  926.589440  60.570806  19.304762  31.614090  0.545455   \n",
       "...           ...         ...        ...        ...        ...       ...   \n",
       "P04C27  64.835660  925.416667  60.158527  34.083506  61.334412  0.756757   \n",
       "P31C5   82.483449  727.418664  62.427206  48.798993  62.790416  0.634615   \n",
       "P55C22  75.241428  797.433036  42.736210  18.480411  30.257682  0.466667   \n",
       "P18C27  67.758757  885.494403  76.060673  20.616860  32.462916  0.467742   \n",
       "P24C27  85.245225  703.851744  44.679347  14.405207  24.347566  0.412500   \n",
       "\n",
       "           pnn50     hr_mad        sd1        sd2             s   sd1/sd2  \\\n",
       "P24C3   0.119048  25.390625  22.084655  45.944234   3187.656407  0.480684   \n",
       "P13C21  0.000000  19.531250  12.681724  35.654340   1420.497849  0.355685   \n",
       "P40C18  0.272727  54.687500  35.235076  98.967182  10955.098551  0.356028   \n",
       "P20C24  0.000000  27.343750  11.718750  25.395224    934.938849  0.461455   \n",
       "P03C13  0.090909  42.968750  21.967230  87.367788   6029.433584  0.251434   \n",
       "...          ...        ...        ...        ...           ...       ...   \n",
       "P04C27  0.445946  42.968750  43.366830  71.792908   9781.131548  0.604055   \n",
       "P31C5   0.192308  35.156250  44.326261  66.361282   9241.143917  0.667954   \n",
       "P55C22  0.133333  35.156250  20.087563  49.491501   3123.257228  0.405879   \n",
       "P18C27  0.145161  46.875000  22.552804  99.264167   7033.037197  0.227200   \n",
       "P24C27  0.037500  31.250000  17.215775  62.468101   3378.584233  0.275593   \n",
       "\n",
       "        breathingrate  \n",
       "P24C3        0.051904  \n",
       "P13C21       0.078699  \n",
       "P40C18       0.056224  \n",
       "P20C24       0.056551  \n",
       "P03C13       0.148937  \n",
       "...               ...  \n",
       "P04C27       0.259474  \n",
       "P31C5        0.131911  \n",
       "P55C22       0.089634  \n",
       "P18C27       0.067456  \n",
       "P24C27       0.099192  \n",
       "\n",
       "[457 rows x 13 columns]"
      ]
     },
     "execution_count": 36,
     "metadata": {},
     "output_type": "execute_result"
    }
   ],
   "source": [
    "X_train"
   ]
  },
  {
   "cell_type": "markdown",
   "id": "dietary-safety",
   "metadata": {},
   "source": [
    "# Code for Hannah"
   ]
  },
  {
   "cell_type": "code",
   "execution_count": 37,
   "id": "negative-uzbekistan",
   "metadata": {},
   "outputs": [],
   "source": [
    "import numpy as np\n",
    "import pandas as pd\n",
    "from sklearn.ensemble import RandomForestClassifier\n",
    "from joblib import dump, load"
   ]
  },
  {
   "cell_type": "code",
   "execution_count": 38,
   "id": "insured-municipality",
   "metadata": {},
   "outputs": [
    {
     "ename": "NameError",
     "evalue": "name 'dataStretched' is not defined",
     "output_type": "error",
     "traceback": [
      "\u001b[1;31m---------------------------------------------------------------------------\u001b[0m",
      "\u001b[1;31mNameError\u001b[0m                                 Traceback (most recent call last)",
      "\u001b[1;32m<ipython-input-38-c6a3f4d8ae63>\u001b[0m in \u001b[0;36m<module>\u001b[1;34m\u001b[0m\n\u001b[1;32m----> 1\u001b[1;33m \u001b[0minputArray\u001b[0m \u001b[1;33m=\u001b[0m \u001b[0mdataStretched\u001b[0m\u001b[1;33m[\u001b[0m\u001b[1;34m'P1V1'\u001b[0m\u001b[1;33m]\u001b[0m\u001b[1;33m.\u001b[0m\u001b[0mvalues\u001b[0m \u001b[1;31m#Assuming this array is a array of 364 values\u001b[0m\u001b[1;33m\u001b[0m\u001b[1;33m\u001b[0m\u001b[0m\n\u001b[0m\u001b[0;32m      2\u001b[0m \u001b[1;33m\u001b[0m\u001b[0m\n\u001b[0;32m      3\u001b[0m \u001b[1;31m# Normalize the values of input\u001b[0m\u001b[1;33m\u001b[0m\u001b[1;33m\u001b[0m\u001b[1;33m\u001b[0m\u001b[0m\n\u001b[0;32m      4\u001b[0m \u001b[1;31m# Numpy array is just regular array\u001b[0m\u001b[1;33m\u001b[0m\u001b[1;33m\u001b[0m\u001b[1;33m\u001b[0m\u001b[0m\n\u001b[0;32m      5\u001b[0m \u001b[0mnormArr\u001b[0m \u001b[1;33m=\u001b[0m \u001b[0mnp\u001b[0m\u001b[1;33m.\u001b[0m\u001b[0mzeros\u001b[0m\u001b[1;33m(\u001b[0m\u001b[1;33m[\u001b[0m\u001b[1;36m364\u001b[0m\u001b[1;33m]\u001b[0m\u001b[1;33m)\u001b[0m\u001b[1;33m\u001b[0m\u001b[1;33m\u001b[0m\u001b[0m\n",
      "\u001b[1;31mNameError\u001b[0m: name 'dataStretched' is not defined"
     ]
    }
   ],
   "source": [
    "inputArray = dataStretched['P1V1'].values #Assuming this array is a array of 364 values\n",
    "\n",
    "# Normalize the values of input\n",
    "# Numpy array is just regular array\n",
    "normArr = np.zeros([364])\n",
    "amin, amax = min(inputArray), max(inputArray)\n",
    "for i in range(0,len(inputArray)):\n",
    "    val = inputArray[i]\n",
    "    normArr[i] = (val-amin) / (amax-amin)\n",
    "\n",
    "#Load model weights in from joblib file\n",
    "rfModel = load('ada.joblib')\n",
    "# label of 1 is stress, 0 otherwise\n",
    "pred = rfModel.predict(normArr.reshape(1,-1))"
   ]
  },
  {
   "cell_type": "code",
   "execution_count": null,
   "id": "anonymous-hometown",
   "metadata": {},
   "outputs": [],
   "source": [
    "adaModel = load('ada.joblib')"
   ]
  }
 ],
 "metadata": {
  "kernelspec": {
   "display_name": "Python 3",
   "language": "python",
   "name": "python3"
  },
  "language_info": {
   "codemirror_mode": {
    "name": "ipython",
    "version": 3
   },
   "file_extension": ".py",
   "mimetype": "text/x-python",
   "name": "python",
   "nbconvert_exporter": "python",
   "pygments_lexer": "ipython3",
   "version": "3.8.5"
  }
 },
 "nbformat": 4,
 "nbformat_minor": 5
}
