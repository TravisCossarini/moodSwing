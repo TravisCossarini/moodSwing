{
 "cells": [
  {
   "cell_type": "code",
   "execution_count": 46,
   "id": "august-tsunami",
   "metadata": {},
   "outputs": [],
   "source": [
    "import numpy as np\n",
    "import pandas as pd\n",
    "from sklearn.ensemble import RandomForestClassifier, AdaBoostClassifier\n",
    "from sklearn.model_selection import train_test_split\n",
    "from joblib import dump, load\n",
    "from sklearn.metrics import plot_confusion_matrix\n",
    "from tensorflow.keras import layers as k\n",
    "import tensorflow as tf\n",
    "from sklearn.metrics import classification_report, confusion_matrix\n",
    "import heartpy as hp"
   ]
  },
  {
   "cell_type": "code",
   "execution_count": 2,
   "id": "representative-dispute",
   "metadata": {},
   "outputs": [],
   "source": [
    "data = pd.read_csv('data/preprocessedDREAMER_V2.csv', index_col='Unnamed: 0')\n",
    "labels = pd.read_csv('data/ASCERTAIN_labels_cleaned.csv', index_col='RowIdx')"
   ]
  },
  {
   "cell_type": "markdown",
   "id": "appropriate-lounge",
   "metadata": {},
   "source": [
    "# Fixing Data"
   ]
  },
  {
   "cell_type": "code",
   "execution_count": 3,
   "id": "liberal-cheat",
   "metadata": {
    "scrolled": true
   },
   "outputs": [
    {
     "data": {
      "text/html": [
       "<div>\n",
       "<style scoped>\n",
       "    .dataframe tbody tr th:only-of-type {\n",
       "        vertical-align: middle;\n",
       "    }\n",
       "\n",
       "    .dataframe tbody tr th {\n",
       "        vertical-align: top;\n",
       "    }\n",
       "\n",
       "    .dataframe thead th {\n",
       "        text-align: right;\n",
       "    }\n",
       "</style>\n",
       "<table border=\"1\" class=\"dataframe\">\n",
       "  <thead>\n",
       "    <tr style=\"text-align: right;\">\n",
       "      <th></th>\n",
       "      <th>P01C1</th>\n",
       "      <th>P01C2</th>\n",
       "      <th>P01C3</th>\n",
       "      <th>P01C4</th>\n",
       "      <th>P01C5</th>\n",
       "      <th>P01C6</th>\n",
       "      <th>P01C7</th>\n",
       "      <th>P01C8</th>\n",
       "      <th>P01C9</th>\n",
       "      <th>P01C10</th>\n",
       "      <th>...</th>\n",
       "      <th>P55C26</th>\n",
       "      <th>P55C28</th>\n",
       "      <th>P55C29</th>\n",
       "      <th>P55C30</th>\n",
       "      <th>P55C31</th>\n",
       "      <th>P55C33</th>\n",
       "      <th>P55C34</th>\n",
       "      <th>P55C35</th>\n",
       "      <th>P55C36</th>\n",
       "      <th>P57C11</th>\n",
       "    </tr>\n",
       "  </thead>\n",
       "  <tbody>\n",
       "    <tr>\n",
       "      <th>hr</th>\n",
       "      <td>74.092558</td>\n",
       "      <td>78.502305</td>\n",
       "      <td>78.829322</td>\n",
       "      <td>74.392216</td>\n",
       "      <td>76.332158</td>\n",
       "      <td>70.747185</td>\n",
       "      <td>77.374066</td>\n",
       "      <td>76.717180</td>\n",
       "      <td>73.731932</td>\n",
       "      <td>80.140302</td>\n",
       "      <td>...</td>\n",
       "      <td>78.063892</td>\n",
       "      <td>69.857874</td>\n",
       "      <td>77.228112</td>\n",
       "      <td>76.800000</td>\n",
       "      <td>75.702857</td>\n",
       "      <td>77.008565</td>\n",
       "      <td>76.117812</td>\n",
       "      <td>71.281805</td>\n",
       "      <td>76.745182</td>\n",
       "      <td>453.205742</td>\n",
       "    </tr>\n",
       "    <tr>\n",
       "      <th>ibi</th>\n",
       "      <td>809.797932</td>\n",
       "      <td>764.308764</td>\n",
       "      <td>761.138091</td>\n",
       "      <td>806.535993</td>\n",
       "      <td>786.038306</td>\n",
       "      <td>848.090278</td>\n",
       "      <td>775.453629</td>\n",
       "      <td>782.093395</td>\n",
       "      <td>813.758681</td>\n",
       "      <td>748.686975</td>\n",
       "      <td>...</td>\n",
       "      <td>768.601190</td>\n",
       "      <td>858.886719</td>\n",
       "      <td>776.919158</td>\n",
       "      <td>781.250000</td>\n",
       "      <td>792.572464</td>\n",
       "      <td>779.134115</td>\n",
       "      <td>788.251769</td>\n",
       "      <td>841.729526</td>\n",
       "      <td>781.808036</td>\n",
       "      <td>132.390203</td>\n",
       "    </tr>\n",
       "    <tr>\n",
       "      <th>sdnn</th>\n",
       "      <td>45.632772</td>\n",
       "      <td>29.789658</td>\n",
       "      <td>53.148914</td>\n",
       "      <td>53.795742</td>\n",
       "      <td>41.553153</td>\n",
       "      <td>32.992637</td>\n",
       "      <td>29.301007</td>\n",
       "      <td>37.483391</td>\n",
       "      <td>32.530346</td>\n",
       "      <td>27.319248</td>\n",
       "      <td>...</td>\n",
       "      <td>33.837810</td>\n",
       "      <td>185.880021</td>\n",
       "      <td>37.804367</td>\n",
       "      <td>18.805448</td>\n",
       "      <td>41.819302</td>\n",
       "      <td>46.232841</td>\n",
       "      <td>54.043326</td>\n",
       "      <td>127.886348</td>\n",
       "      <td>55.530707</td>\n",
       "      <td>145.462111</td>\n",
       "    </tr>\n",
       "    <tr>\n",
       "      <th>sdsd</th>\n",
       "      <td>28.256993</td>\n",
       "      <td>15.673158</td>\n",
       "      <td>16.851010</td>\n",
       "      <td>27.540715</td>\n",
       "      <td>20.683491</td>\n",
       "      <td>18.693287</td>\n",
       "      <td>15.735633</td>\n",
       "      <td>15.745813</td>\n",
       "      <td>16.814110</td>\n",
       "      <td>15.020118</td>\n",
       "      <td>...</td>\n",
       "      <td>6.639348</td>\n",
       "      <td>17.578125</td>\n",
       "      <td>12.303410</td>\n",
       "      <td>15.733133</td>\n",
       "      <td>15.645332</td>\n",
       "      <td>24.931050</td>\n",
       "      <td>19.043904</td>\n",
       "      <td>81.365518</td>\n",
       "      <td>24.566152</td>\n",
       "      <td>153.180947</td>\n",
       "    </tr>\n",
       "    <tr>\n",
       "      <th>rmssd</th>\n",
       "      <td>45.034850</td>\n",
       "      <td>30.517031</td>\n",
       "      <td>33.656399</td>\n",
       "      <td>43.233470</td>\n",
       "      <td>39.847168</td>\n",
       "      <td>35.975623</td>\n",
       "      <td>31.603297</td>\n",
       "      <td>31.126282</td>\n",
       "      <td>35.524947</td>\n",
       "      <td>27.580497</td>\n",
       "      <td>...</td>\n",
       "      <td>12.352647</td>\n",
       "      <td>27.759122</td>\n",
       "      <td>23.328741</td>\n",
       "      <td>24.079742</td>\n",
       "      <td>26.577336</td>\n",
       "      <td>35.934315</td>\n",
       "      <td>31.063685</td>\n",
       "      <td>122.849078</td>\n",
       "      <td>36.602953</td>\n",
       "      <td>220.338020</td>\n",
       "    </tr>\n",
       "  </tbody>\n",
       "</table>\n",
       "<p>5 rows × 653 columns</p>\n",
       "</div>"
      ],
      "text/plain": [
       "            P01C1       P01C2       P01C3       P01C4       P01C5       P01C6  \\\n",
       "hr      74.092558   78.502305   78.829322   74.392216   76.332158   70.747185   \n",
       "ibi    809.797932  764.308764  761.138091  806.535993  786.038306  848.090278   \n",
       "sdnn    45.632772   29.789658   53.148914   53.795742   41.553153   32.992637   \n",
       "sdsd    28.256993   15.673158   16.851010   27.540715   20.683491   18.693287   \n",
       "rmssd   45.034850   30.517031   33.656399   43.233470   39.847168   35.975623   \n",
       "\n",
       "            P01C7       P01C8       P01C9      P01C10  ...      P55C26  \\\n",
       "hr      77.374066   76.717180   73.731932   80.140302  ...   78.063892   \n",
       "ibi    775.453629  782.093395  813.758681  748.686975  ...  768.601190   \n",
       "sdnn    29.301007   37.483391   32.530346   27.319248  ...   33.837810   \n",
       "sdsd    15.735633   15.745813   16.814110   15.020118  ...    6.639348   \n",
       "rmssd   31.603297   31.126282   35.524947   27.580497  ...   12.352647   \n",
       "\n",
       "           P55C28      P55C29      P55C30      P55C31      P55C33      P55C34  \\\n",
       "hr      69.857874   77.228112   76.800000   75.702857   77.008565   76.117812   \n",
       "ibi    858.886719  776.919158  781.250000  792.572464  779.134115  788.251769   \n",
       "sdnn   185.880021   37.804367   18.805448   41.819302   46.232841   54.043326   \n",
       "sdsd    17.578125   12.303410   15.733133   15.645332   24.931050   19.043904   \n",
       "rmssd   27.759122   23.328741   24.079742   26.577336   35.934315   31.063685   \n",
       "\n",
       "           P55C35      P55C36      P57C11  \n",
       "hr      71.281805   76.745182  453.205742  \n",
       "ibi    841.729526  781.808036  132.390203  \n",
       "sdnn   127.886348   55.530707  145.462111  \n",
       "sdsd    81.365518   24.566152  153.180947  \n",
       "rmssd  122.849078   36.602953  220.338020  \n",
       "\n",
       "[5 rows x 653 columns]"
      ]
     },
     "execution_count": 3,
     "metadata": {},
     "output_type": "execute_result"
    }
   ],
   "source": [
    "data.head()"
   ]
  },
  {
   "cell_type": "code",
   "execution_count": 4,
   "id": "ongoing-letter",
   "metadata": {},
   "outputs": [
    {
     "data": {
      "text/plain": [
       "(13, 653)"
      ]
     },
     "execution_count": 4,
     "metadata": {},
     "output_type": "execute_result"
    }
   ],
   "source": [
    "data.shape"
   ]
  },
  {
   "cell_type": "code",
   "execution_count": 5,
   "id": "adjusted-sigma",
   "metadata": {},
   "outputs": [
    {
     "data": {
      "text/html": [
       "<div>\n",
       "<style scoped>\n",
       "    .dataframe tbody tr th:only-of-type {\n",
       "        vertical-align: middle;\n",
       "    }\n",
       "\n",
       "    .dataframe tbody tr th {\n",
       "        vertical-align: top;\n",
       "    }\n",
       "\n",
       "    .dataframe thead th {\n",
       "        text-align: right;\n",
       "    }\n",
       "</style>\n",
       "<table border=\"1\" class=\"dataframe\">\n",
       "  <thead>\n",
       "    <tr style=\"text-align: right;\">\n",
       "      <th></th>\n",
       "      <th>P01C1</th>\n",
       "      <th>P01C2</th>\n",
       "      <th>P01C3</th>\n",
       "      <th>P01C4</th>\n",
       "      <th>P01C5</th>\n",
       "      <th>P01C6</th>\n",
       "      <th>P01C7</th>\n",
       "      <th>P01C8</th>\n",
       "      <th>P01C9</th>\n",
       "      <th>P01C10</th>\n",
       "      <th>...</th>\n",
       "      <th>P58C27</th>\n",
       "      <th>P58C28</th>\n",
       "      <th>P58C29</th>\n",
       "      <th>P58C30</th>\n",
       "      <th>P58C31</th>\n",
       "      <th>P58C32</th>\n",
       "      <th>P58C33</th>\n",
       "      <th>P58C34</th>\n",
       "      <th>P58C35</th>\n",
       "      <th>P58C36</th>\n",
       "    </tr>\n",
       "    <tr>\n",
       "      <th>RowIdx</th>\n",
       "      <th></th>\n",
       "      <th></th>\n",
       "      <th></th>\n",
       "      <th></th>\n",
       "      <th></th>\n",
       "      <th></th>\n",
       "      <th></th>\n",
       "      <th></th>\n",
       "      <th></th>\n",
       "      <th></th>\n",
       "      <th></th>\n",
       "      <th></th>\n",
       "      <th></th>\n",
       "      <th></th>\n",
       "      <th></th>\n",
       "      <th></th>\n",
       "      <th></th>\n",
       "      <th></th>\n",
       "      <th></th>\n",
       "      <th></th>\n",
       "      <th></th>\n",
       "    </tr>\n",
       "  </thead>\n",
       "  <tbody>\n",
       "    <tr>\n",
       "      <th>Arousal</th>\n",
       "      <td>1</td>\n",
       "      <td>3</td>\n",
       "      <td>1</td>\n",
       "      <td>6</td>\n",
       "      <td>4</td>\n",
       "      <td>4</td>\n",
       "      <td>3</td>\n",
       "      <td>4</td>\n",
       "      <td>4</td>\n",
       "      <td>4</td>\n",
       "      <td>...</td>\n",
       "      <td>3</td>\n",
       "      <td>5</td>\n",
       "      <td>4</td>\n",
       "      <td>4</td>\n",
       "      <td>4</td>\n",
       "      <td>4</td>\n",
       "      <td>4</td>\n",
       "      <td>4</td>\n",
       "      <td>4</td>\n",
       "      <td>4</td>\n",
       "    </tr>\n",
       "    <tr>\n",
       "      <th>Valence</th>\n",
       "      <td>1</td>\n",
       "      <td>2</td>\n",
       "      <td>-2</td>\n",
       "      <td>0</td>\n",
       "      <td>1</td>\n",
       "      <td>0</td>\n",
       "      <td>1</td>\n",
       "      <td>2</td>\n",
       "      <td>2</td>\n",
       "      <td>3</td>\n",
       "      <td>...</td>\n",
       "      <td>-2</td>\n",
       "      <td>-2</td>\n",
       "      <td>-2</td>\n",
       "      <td>-1</td>\n",
       "      <td>-1</td>\n",
       "      <td>-1</td>\n",
       "      <td>-1</td>\n",
       "      <td>-3</td>\n",
       "      <td>-2</td>\n",
       "      <td>-2</td>\n",
       "    </tr>\n",
       "    <tr>\n",
       "      <th>Engagement</th>\n",
       "      <td>4</td>\n",
       "      <td>5</td>\n",
       "      <td>3</td>\n",
       "      <td>5</td>\n",
       "      <td>4</td>\n",
       "      <td>4</td>\n",
       "      <td>5</td>\n",
       "      <td>5</td>\n",
       "      <td>5</td>\n",
       "      <td>5</td>\n",
       "      <td>...</td>\n",
       "      <td>5</td>\n",
       "      <td>5</td>\n",
       "      <td>5</td>\n",
       "      <td>5</td>\n",
       "      <td>5</td>\n",
       "      <td>5</td>\n",
       "      <td>5</td>\n",
       "      <td>4</td>\n",
       "      <td>5</td>\n",
       "      <td>5</td>\n",
       "    </tr>\n",
       "  </tbody>\n",
       "</table>\n",
       "<p>3 rows × 2088 columns</p>\n",
       "</div>"
      ],
      "text/plain": [
       "            P01C1  P01C2  P01C3  P01C4  P01C5  P01C6  P01C7  P01C8  P01C9  \\\n",
       "RowIdx                                                                      \n",
       "Arousal         1      3      1      6      4      4      3      4      4   \n",
       "Valence         1      2     -2      0      1      0      1      2      2   \n",
       "Engagement      4      5      3      5      4      4      5      5      5   \n",
       "\n",
       "            P01C10  ...  P58C27  P58C28  P58C29  P58C30  P58C31  P58C32  \\\n",
       "RowIdx              ...                                                   \n",
       "Arousal          4  ...       3       5       4       4       4       4   \n",
       "Valence          3  ...      -2      -2      -2      -1      -1      -1   \n",
       "Engagement       5  ...       5       5       5       5       5       5   \n",
       "\n",
       "            P58C33  P58C34  P58C35  P58C36  \n",
       "RowIdx                                      \n",
       "Arousal          4       4       4       4  \n",
       "Valence         -1      -3      -2      -2  \n",
       "Engagement       5       4       5       5  \n",
       "\n",
       "[3 rows x 2088 columns]"
      ]
     },
     "execution_count": 5,
     "metadata": {},
     "output_type": "execute_result"
    }
   ],
   "source": [
    "labels.head()"
   ]
  },
  {
   "cell_type": "code",
   "execution_count": 6,
   "id": "limited-samba",
   "metadata": {},
   "outputs": [],
   "source": [
    "stressLabel = []\n",
    "for col in data:\n",
    "    if labels[col].values[1] <= 2.5 and labels[col].values[0] <= 2.5:\n",
    "        stressLabel.append(1)\n",
    "    else:\n",
    "        stressLabel.append(0)"
   ]
  },
  {
   "cell_type": "code",
   "execution_count": 7,
   "id": "indie-tamil",
   "metadata": {},
   "outputs": [
    {
     "data": {
      "text/plain": [
       "100"
      ]
     },
     "execution_count": 7,
     "metadata": {},
     "output_type": "execute_result"
    }
   ],
   "source": [
    "stressLabel.count(1)"
   ]
  },
  {
   "cell_type": "code",
   "execution_count": 8,
   "id": "rubber-tenant",
   "metadata": {},
   "outputs": [
    {
     "data": {
      "text/plain": [
       "653"
      ]
     },
     "execution_count": 8,
     "metadata": {},
     "output_type": "execute_result"
    }
   ],
   "source": [
    "len(stressLabel)"
   ]
  },
  {
   "cell_type": "code",
   "execution_count": 9,
   "id": "sharing-growth",
   "metadata": {},
   "outputs": [
    {
     "data": {
      "text/plain": [
       "0.8469387755102041"
      ]
     },
     "execution_count": 9,
     "metadata": {},
     "output_type": "execute_result"
    }
   ],
   "source": [
    "X_train, X_test, y_train, y_test = train_test_split(data.T, stressLabel, test_size=0.3)\n",
    "\n",
    "rfModel = RandomForestClassifier()\n",
    "rfModel.fit(X_train, y_train)\n",
    "rfModel.score(X_test, y_test)\n",
    "\n"
   ]
  },
  {
   "cell_type": "code",
   "execution_count": 41,
   "id": "dated-hospital",
   "metadata": {
    "scrolled": true
   },
   "outputs": [
    {
     "data": {
      "text/plain": [
       "hr                 78.502305\n",
       "ibi               764.308764\n",
       "sdnn               29.789658\n",
       "sdsd               15.673158\n",
       "rmssd              30.517031\n",
       "pnn20               0.626374\n",
       "pnn50               0.087912\n",
       "hr_mad             17.578125\n",
       "sd1                21.562056\n",
       "sd2                35.090148\n",
       "s                2376.978489\n",
       "sd1/sd2             0.614476\n",
       "breathingrate       0.369980\n",
       "Name: P01C2, dtype: float64"
      ]
     },
     "execution_count": 41,
     "metadata": {},
     "output_type": "execute_result"
    }
   ],
   "source": [
    "data['P01C2']"
   ]
  },
  {
   "cell_type": "code",
   "execution_count": 65,
   "id": "eleven-hearing",
   "metadata": {
    "scrolled": true
   },
   "outputs": [
    {
     "data": {
      "text/html": [
       "<div>\n",
       "<style scoped>\n",
       "    .dataframe tbody tr th:only-of-type {\n",
       "        vertical-align: middle;\n",
       "    }\n",
       "\n",
       "    .dataframe tbody tr th {\n",
       "        vertical-align: top;\n",
       "    }\n",
       "\n",
       "    .dataframe thead th {\n",
       "        text-align: right;\n",
       "    }\n",
       "</style>\n",
       "<table border=\"1\" class=\"dataframe\">\n",
       "  <thead>\n",
       "    <tr style=\"text-align: right;\">\n",
       "      <th></th>\n",
       "      <th>2056.0</th>\n",
       "    </tr>\n",
       "  </thead>\n",
       "  <tbody>\n",
       "    <tr>\n",
       "      <th>0</th>\n",
       "      <td>2056.0</td>\n",
       "    </tr>\n",
       "    <tr>\n",
       "      <th>1</th>\n",
       "      <td>2054.0</td>\n",
       "    </tr>\n",
       "    <tr>\n",
       "      <th>2</th>\n",
       "      <td>2053.0</td>\n",
       "    </tr>\n",
       "    <tr>\n",
       "      <th>3</th>\n",
       "      <td>2069.0</td>\n",
       "    </tr>\n",
       "    <tr>\n",
       "      <th>4</th>\n",
       "      <td>2064.0</td>\n",
       "    </tr>\n",
       "  </tbody>\n",
       "</table>\n",
       "</div>"
      ],
      "text/plain": [
       "   2056.0\n",
       "0  2056.0\n",
       "1  2054.0\n",
       "2  2053.0\n",
       "3  2069.0\n",
       "4  2064.0"
      ]
     },
     "execution_count": 65,
     "metadata": {},
     "output_type": "execute_result"
    }
   ],
   "source": [
    "testSeriesData = pd.read_csv('appData.csv')\n",
    "testSeriesData.head()"
   ]
  },
  {
   "cell_type": "code",
   "execution_count": 78,
   "id": "stylish-baghdad",
   "metadata": {},
   "outputs": [],
   "source": [
    "o1 = pd.read_csv('appData1.csv')\n",
    "o2 = pd.read_csv('appData2.csv')\n",
    "o3 = pd.read_csv('appData3.csv')"
   ]
  },
  {
   "cell_type": "code",
   "execution_count": 81,
   "id": "desirable-handle",
   "metadata": {},
   "outputs": [
    {
     "data": {
      "text/html": [
       "<div>\n",
       "<style scoped>\n",
       "    .dataframe tbody tr th:only-of-type {\n",
       "        vertical-align: middle;\n",
       "    }\n",
       "\n",
       "    .dataframe tbody tr th {\n",
       "        vertical-align: top;\n",
       "    }\n",
       "\n",
       "    .dataframe thead th {\n",
       "        text-align: right;\n",
       "    }\n",
       "</style>\n",
       "<table border=\"1\" class=\"dataframe\">\n",
       "  <thead>\n",
       "    <tr style=\"text-align: right;\">\n",
       "      <th></th>\n",
       "      <th>2056.0</th>\n",
       "    </tr>\n",
       "  </thead>\n",
       "  <tbody>\n",
       "    <tr>\n",
       "      <th>0</th>\n",
       "      <td>2056.0</td>\n",
       "    </tr>\n",
       "    <tr>\n",
       "      <th>1</th>\n",
       "      <td>2054.0</td>\n",
       "    </tr>\n",
       "    <tr>\n",
       "      <th>2</th>\n",
       "      <td>2053.0</td>\n",
       "    </tr>\n",
       "    <tr>\n",
       "      <th>3</th>\n",
       "      <td>2069.0</td>\n",
       "    </tr>\n",
       "    <tr>\n",
       "      <th>4</th>\n",
       "      <td>2064.0</td>\n",
       "    </tr>\n",
       "  </tbody>\n",
       "</table>\n",
       "</div>"
      ],
      "text/plain": [
       "   2056.0\n",
       "0  2056.0\n",
       "1  2054.0\n",
       "2  2053.0\n",
       "3  2069.0\n",
       "4  2064.0"
      ]
     },
     "execution_count": 81,
     "metadata": {},
     "output_type": "execute_result"
    }
   ],
   "source": [
    "o1.head()"
   ]
  },
  {
   "cell_type": "code",
   "execution_count": 83,
   "id": "appropriate-tutorial",
   "metadata": {},
   "outputs": [
    {
     "data": {
      "text/html": [
       "<div>\n",
       "<style scoped>\n",
       "    .dataframe tbody tr th:only-of-type {\n",
       "        vertical-align: middle;\n",
       "    }\n",
       "\n",
       "    .dataframe tbody tr th {\n",
       "        vertical-align: top;\n",
       "    }\n",
       "\n",
       "    .dataframe thead th {\n",
       "        text-align: right;\n",
       "    }\n",
       "</style>\n",
       "<table border=\"1\" class=\"dataframe\">\n",
       "  <thead>\n",
       "    <tr style=\"text-align: right;\">\n",
       "      <th></th>\n",
       "      <th>1984.0</th>\n",
       "    </tr>\n",
       "  </thead>\n",
       "  <tbody>\n",
       "    <tr>\n",
       "      <th>0</th>\n",
       "      <td>1982.0</td>\n",
       "    </tr>\n",
       "    <tr>\n",
       "      <th>1</th>\n",
       "      <td>1979.0</td>\n",
       "    </tr>\n",
       "    <tr>\n",
       "      <th>2</th>\n",
       "      <td>1979.0</td>\n",
       "    </tr>\n",
       "    <tr>\n",
       "      <th>3</th>\n",
       "      <td>1981.0</td>\n",
       "    </tr>\n",
       "    <tr>\n",
       "      <th>4</th>\n",
       "      <td>1983.0</td>\n",
       "    </tr>\n",
       "  </tbody>\n",
       "</table>\n",
       "</div>"
      ],
      "text/plain": [
       "   1984.0\n",
       "0  1982.0\n",
       "1  1979.0\n",
       "2  1979.0\n",
       "3  1981.0\n",
       "4  1983.0"
      ]
     },
     "execution_count": 83,
     "metadata": {},
     "output_type": "execute_result"
    }
   ],
   "source": [
    "o2.head()"
   ]
  },
  {
   "cell_type": "code",
   "execution_count": 82,
   "id": "double-ukraine",
   "metadata": {},
   "outputs": [
    {
     "data": {
      "text/html": [
       "<div>\n",
       "<style scoped>\n",
       "    .dataframe tbody tr th:only-of-type {\n",
       "        vertical-align: middle;\n",
       "    }\n",
       "\n",
       "    .dataframe tbody tr th {\n",
       "        vertical-align: top;\n",
       "    }\n",
       "\n",
       "    .dataframe thead th {\n",
       "        text-align: right;\n",
       "    }\n",
       "</style>\n",
       "<table border=\"1\" class=\"dataframe\">\n",
       "  <thead>\n",
       "    <tr style=\"text-align: right;\">\n",
       "      <th></th>\n",
       "      <th>2052.0</th>\n",
       "    </tr>\n",
       "  </thead>\n",
       "  <tbody>\n",
       "    <tr>\n",
       "      <th>0</th>\n",
       "      <td>2040.0</td>\n",
       "    </tr>\n",
       "    <tr>\n",
       "      <th>1</th>\n",
       "      <td>2049.0</td>\n",
       "    </tr>\n",
       "    <tr>\n",
       "      <th>2</th>\n",
       "      <td>2058.0</td>\n",
       "    </tr>\n",
       "    <tr>\n",
       "      <th>3</th>\n",
       "      <td>2038.0</td>\n",
       "    </tr>\n",
       "    <tr>\n",
       "      <th>4</th>\n",
       "      <td>2039.0</td>\n",
       "    </tr>\n",
       "  </tbody>\n",
       "</table>\n",
       "</div>"
      ],
      "text/plain": [
       "   2052.0\n",
       "0  2040.0\n",
       "1  2049.0\n",
       "2  2058.0\n",
       "3  2038.0\n",
       "4  2039.0"
      ]
     },
     "execution_count": 82,
     "metadata": {},
     "output_type": "execute_result"
    }
   ],
   "source": [
    "o3.head()"
   ]
  },
  {
   "cell_type": "code",
   "execution_count": 66,
   "id": "fantastic-cycle",
   "metadata": {
    "scrolled": true
   },
   "outputs": [
    {
     "data": {
      "text/plain": [
       "0        2056.0\n",
       "1        2054.0\n",
       "2        2053.0\n",
       "3        2069.0\n",
       "4        2064.0\n",
       "          ...  \n",
       "15355    2291.0\n",
       "15356    2237.0\n",
       "15357    2165.0\n",
       "15358    2115.0\n",
       "15359    2103.0\n",
       "Name: 2056.0, Length: 15360, dtype: float64"
      ]
     },
     "execution_count": 66,
     "metadata": {},
     "output_type": "execute_result"
    }
   ],
   "source": [
    "testSeriesData['2056.0'].iloc[0:15360]"
   ]
  },
  {
   "cell_type": "code",
   "execution_count": 104,
   "id": "roman-trigger",
   "metadata": {
    "scrolled": true
   },
   "outputs": [
    {
     "data": {
      "text/plain": [
       "dict"
      ]
     },
     "execution_count": 104,
     "metadata": {},
     "output_type": "execute_result"
    }
   ],
   "source": [
    "temp = hp.process(o1['2056.0'], 256)[1]\n",
    "temp"
   ]
  },
  {
   "cell_type": "code",
   "execution_count": 106,
   "id": "loved-sauce",
   "metadata": {},
   "outputs": [
    {
     "data": {
      "text/html": [
       "<div>\n",
       "<style scoped>\n",
       "    .dataframe tbody tr th:only-of-type {\n",
       "        vertical-align: middle;\n",
       "    }\n",
       "\n",
       "    .dataframe tbody tr th {\n",
       "        vertical-align: top;\n",
       "    }\n",
       "\n",
       "    .dataframe thead th {\n",
       "        text-align: right;\n",
       "    }\n",
       "</style>\n",
       "<table border=\"1\" class=\"dataframe\">\n",
       "  <thead>\n",
       "    <tr style=\"text-align: right;\">\n",
       "      <th></th>\n",
       "      <th>bpm</th>\n",
       "      <th>ibi</th>\n",
       "      <th>sdnn</th>\n",
       "      <th>sdsd</th>\n",
       "      <th>rmssd</th>\n",
       "      <th>pnn20</th>\n",
       "      <th>pnn50</th>\n",
       "      <th>hr_mad</th>\n",
       "      <th>sd1</th>\n",
       "      <th>sd2</th>\n",
       "      <th>s</th>\n",
       "      <th>sd1/sd2</th>\n",
       "      <th>breathingrate</th>\n",
       "    </tr>\n",
       "  </thead>\n",
       "  <tbody>\n",
       "    <tr>\n",
       "      <th>0</th>\n",
       "      <td>78.335477</td>\n",
       "      <td>765.93649</td>\n",
       "      <td>34.416059</td>\n",
       "      <td>31.222584</td>\n",
       "      <td>43.055715</td>\n",
       "      <td>0.632829</td>\n",
       "      <td>0.103672</td>\n",
       "      <td>19.53125</td>\n",
       "      <td>30.44453</td>\n",
       "      <td>37.782526</td>\n",
       "      <td>3613.683681</td>\n",
       "      <td>0.805783</td>\n",
       "      <td>0.098541</td>\n",
       "    </tr>\n",
       "  </tbody>\n",
       "</table>\n",
       "</div>"
      ],
      "text/plain": [
       "         bpm        ibi       sdnn       sdsd      rmssd     pnn20     pnn50  \\\n",
       "0  78.335477  765.93649  34.416059  31.222584  43.055715  0.632829  0.103672   \n",
       "\n",
       "     hr_mad       sd1        sd2            s   sd1/sd2  breathingrate  \n",
       "0  19.53125  30.44453  37.782526  3613.683681  0.805783       0.098541  "
      ]
     },
     "execution_count": 106,
     "metadata": {},
     "output_type": "execute_result"
    }
   ],
   "source": [
    "pd.DataFrame(temp, index=[0])"
   ]
  },
  {
   "cell_type": "code",
   "execution_count": 107,
   "id": "furnished-rough",
   "metadata": {},
   "outputs": [
    {
     "data": {
      "text/html": [
       "<div>\n",
       "<style scoped>\n",
       "    .dataframe tbody tr th:only-of-type {\n",
       "        vertical-align: middle;\n",
       "    }\n",
       "\n",
       "    .dataframe tbody tr th {\n",
       "        vertical-align: top;\n",
       "    }\n",
       "\n",
       "    .dataframe thead th {\n",
       "        text-align: right;\n",
       "    }\n",
       "</style>\n",
       "<table border=\"1\" class=\"dataframe\">\n",
       "  <thead>\n",
       "    <tr style=\"text-align: right;\">\n",
       "      <th></th>\n",
       "      <th>bpm</th>\n",
       "      <th>ibi</th>\n",
       "      <th>sdnn</th>\n",
       "      <th>sdsd</th>\n",
       "      <th>rmssd</th>\n",
       "      <th>pnn20</th>\n",
       "      <th>pnn50</th>\n",
       "      <th>hr_mad</th>\n",
       "      <th>sd1</th>\n",
       "      <th>sd2</th>\n",
       "      <th>s</th>\n",
       "      <th>sd1/sd2</th>\n",
       "      <th>breathingrate</th>\n",
       "    </tr>\n",
       "  </thead>\n",
       "  <tbody>\n",
       "    <tr>\n",
       "      <th>0</th>\n",
       "      <td>78.335477</td>\n",
       "      <td>765.93649</td>\n",
       "      <td>34.416059</td>\n",
       "      <td>31.222584</td>\n",
       "      <td>43.055715</td>\n",
       "      <td>0.632829</td>\n",
       "      <td>0.103672</td>\n",
       "      <td>19.53125</td>\n",
       "      <td>30.44453</td>\n",
       "      <td>37.782526</td>\n",
       "      <td>3613.683681</td>\n",
       "      <td>0.805783</td>\n",
       "      <td>0.098541</td>\n",
       "    </tr>\n",
       "  </tbody>\n",
       "</table>\n",
       "</div>"
      ],
      "text/plain": [
       "         bpm        ibi       sdnn       sdsd      rmssd     pnn20     pnn50  \\\n",
       "0  78.335477  765.93649  34.416059  31.222584  43.055715  0.632829  0.103672   \n",
       "\n",
       "     hr_mad       sd1        sd2            s   sd1/sd2  breathingrate  \n",
       "0  19.53125  30.44453  37.782526  3613.683681  0.805783       0.098541  "
      ]
     },
     "execution_count": 107,
     "metadata": {},
     "output_type": "execute_result"
    }
   ],
   "source": [
    "m1 = pd.DataFrame(hp.process(o1['2056.0'], 256)[1], index=[0])\n",
    "m2 = pd.DataFrame(hp.process(o2['1984.0'], 256)[1], index=[0])\n",
    "m3 = pd.DataFrame(hp.process(o3['2052.0'], 256)[1], index=[0])\n",
    "m1.head()"
   ]
  },
  {
   "cell_type": "code",
   "execution_count": 118,
   "id": "modern-vision",
   "metadata": {},
   "outputs": [
    {
     "data": {
      "text/html": [
       "<div>\n",
       "<style scoped>\n",
       "    .dataframe tbody tr th:only-of-type {\n",
       "        vertical-align: middle;\n",
       "    }\n",
       "\n",
       "    .dataframe tbody tr th {\n",
       "        vertical-align: top;\n",
       "    }\n",
       "\n",
       "    .dataframe thead th {\n",
       "        text-align: right;\n",
       "    }\n",
       "</style>\n",
       "<table border=\"1\" class=\"dataframe\">\n",
       "  <thead>\n",
       "    <tr style=\"text-align: right;\">\n",
       "      <th></th>\n",
       "      <th>bpm</th>\n",
       "      <th>ibi</th>\n",
       "      <th>sdnn</th>\n",
       "      <th>sdsd</th>\n",
       "      <th>rmssd</th>\n",
       "      <th>pnn20</th>\n",
       "      <th>pnn50</th>\n",
       "      <th>hr_mad</th>\n",
       "      <th>sd1</th>\n",
       "      <th>sd2</th>\n",
       "      <th>s</th>\n",
       "      <th>sd1/sd2</th>\n",
       "      <th>breathingrate</th>\n",
       "    </tr>\n",
       "  </thead>\n",
       "  <tbody>\n",
       "    <tr>\n",
       "      <th>0</th>\n",
       "      <td>78.335477</td>\n",
       "      <td>765.936490</td>\n",
       "      <td>34.416059</td>\n",
       "      <td>31.222584</td>\n",
       "      <td>43.055715</td>\n",
       "      <td>0.632829</td>\n",
       "      <td>0.103672</td>\n",
       "      <td>19.53125</td>\n",
       "      <td>30.444530</td>\n",
       "      <td>37.782526</td>\n",
       "      <td>3613.683681</td>\n",
       "      <td>0.805783</td>\n",
       "      <td>0.098541</td>\n",
       "    </tr>\n",
       "    <tr>\n",
       "      <th>0</th>\n",
       "      <td>74.021960</td>\n",
       "      <td>810.570266</td>\n",
       "      <td>45.855923</td>\n",
       "      <td>32.275495</td>\n",
       "      <td>48.874954</td>\n",
       "      <td>0.684290</td>\n",
       "      <td>0.231118</td>\n",
       "      <td>27.34375</td>\n",
       "      <td>34.549328</td>\n",
       "      <td>53.176567</td>\n",
       "      <td>5771.780018</td>\n",
       "      <td>0.649710</td>\n",
       "      <td>0.284579</td>\n",
       "    </tr>\n",
       "    <tr>\n",
       "      <th>0</th>\n",
       "      <td>76.974232</td>\n",
       "      <td>779.481630</td>\n",
       "      <td>46.289217</td>\n",
       "      <td>29.750128</td>\n",
       "      <td>41.738161</td>\n",
       "      <td>0.578588</td>\n",
       "      <td>0.111617</td>\n",
       "      <td>27.34375</td>\n",
       "      <td>29.491598</td>\n",
       "      <td>51.148482</td>\n",
       "      <td>4738.937027</td>\n",
       "      <td>0.576588</td>\n",
       "      <td>0.101187</td>\n",
       "    </tr>\n",
       "  </tbody>\n",
       "</table>\n",
       "</div>"
      ],
      "text/plain": [
       "         bpm         ibi       sdnn       sdsd      rmssd     pnn20     pnn50  \\\n",
       "0  78.335477  765.936490  34.416059  31.222584  43.055715  0.632829  0.103672   \n",
       "0  74.021960  810.570266  45.855923  32.275495  48.874954  0.684290  0.231118   \n",
       "0  76.974232  779.481630  46.289217  29.750128  41.738161  0.578588  0.111617   \n",
       "\n",
       "     hr_mad        sd1        sd2            s   sd1/sd2  breathingrate  \n",
       "0  19.53125  30.444530  37.782526  3613.683681  0.805783       0.098541  \n",
       "0  27.34375  34.549328  53.176567  5771.780018  0.649710       0.284579  \n",
       "0  27.34375  29.491598  51.148482  4738.937027  0.576588       0.101187  "
      ]
     },
     "execution_count": 118,
     "metadata": {},
     "output_type": "execute_result"
    }
   ],
   "source": [
    "measureDf = pd.concat([m1, m2, m3], axis=0)\n",
    "measureDf.to_csv('appDataMeasures.csv', index=False)\n",
    "measureDf.head()"
   ]
  },
  {
   "cell_type": "code",
   "execution_count": 110,
   "id": "emotional-interstate",
   "metadata": {},
   "outputs": [
    {
     "name": "stdout",
     "output_type": "stream",
     "text": [
      "[0] [1] [0]\n"
     ]
    }
   ],
   "source": [
    "p1 = rfModel.predict(m1.values.reshape(1, -1))\n",
    "p2 = rfModel.predict(m2.values.reshape(1, -1))\n",
    "p3 = rfModel.predict(m3.values.reshape(1, -1))\n",
    "\n",
    "print(p1, p2, p3)"
   ]
  },
  {
   "cell_type": "code",
   "execution_count": 87,
   "id": "geographic-seventh",
   "metadata": {},
   "outputs": [],
   "source": [
    "# hp.process(testSeriesData['2056.0'].iloc[15360:30720], 256)"
   ]
  },
  {
   "cell_type": "code",
   "execution_count": 52,
   "id": "bound-modem",
   "metadata": {},
   "outputs": [],
   "source": [
    "# testSeriesData = testSeriesData['2056.0'].to_list()"
   ]
  },
  {
   "cell_type": "code",
   "execution_count": 119,
   "id": "nuclear-running",
   "metadata": {},
   "outputs": [],
   "source": [
    "# mult = 256*60\n",
    "# # for i in range(1,5):\n",
    "#     print((i-1)*mult, i*mult)\n",
    "#     readings = hp.process(testSeriesData['2056.0'].iloc[(i-1)*mult: i*mult], 256)[1].values()"
   ]
  },
  {
   "cell_type": "code",
   "execution_count": 36,
   "id": "formed-retrieval",
   "metadata": {
    "scrolled": true
   },
   "outputs": [
    {
     "name": "stdout",
     "output_type": "stream",
     "text": [
      "P01C1\n",
      "P01C3\n",
      "P01C11\n",
      "P01C13\n",
      "P01C16\n",
      "P01C17\n",
      "P01C34\n",
      "P03C10\n",
      "P03C11\n",
      "P03C12\n",
      "P03C13\n",
      "P03C19\n",
      "P03C24\n",
      "P03C27\n",
      "P04C19\n",
      "P05C10\n",
      "P05C17\n",
      "P05C24\n",
      "P05C27\n",
      "P05C29\n",
      "P08C2\n",
      "P08C18\n",
      "P13C13\n",
      "P13C14\n",
      "P13C18\n",
      "P13C23\n",
      "P13C34\n",
      "P15C10\n",
      "P20C10\n",
      "P20C28\n",
      "P24C17\n",
      "P24C18\n",
      "P24C24\n",
      "P24C26\n",
      "P25C22\n",
      "P27C2\n",
      "P27C10\n",
      "P27C15\n",
      "P27C20\n",
      "P32C12\n",
      "P35C1\n",
      "P35C6\n",
      "P35C11\n",
      "P35C13\n",
      "P35C34\n",
      "P36C15\n",
      "P36C19\n",
      "P37C1\n",
      "P37C17\n",
      "P39C1\n",
      "P40C1\n",
      "P40C4\n",
      "P40C5\n",
      "P40C6\n",
      "P40C8\n",
      "P40C11\n",
      "P40C13\n",
      "P40C14\n",
      "P40C17\n",
      "P40C18\n",
      "P40C21\n",
      "P40C22\n",
      "P40C23\n",
      "P40C24\n",
      "P40C25\n",
      "P52C1\n",
      "P54C11\n",
      "P54C18\n",
      "P54C27\n",
      "P55C24\n"
     ]
    }
   ],
   "source": [
    "idx = 0\n",
    "count = 0\n",
    "for row in data.columns:\n",
    "    if(rfModel.predict(data[row].T.values.reshape(1, -1)) == 1 and stressLabel[idx] == 1):\n",
    "        print(row)\n",
    "        count += 1\n",
    "    idx += 1"
   ]
  },
  {
   "cell_type": "code",
   "execution_count": 39,
   "id": "prerequisite-underwear",
   "metadata": {},
   "outputs": [
    {
     "data": {
      "text/plain": [
       "hr                 74.092558\n",
       "ibi               809.797932\n",
       "sdnn               45.632772\n",
       "sdsd               28.256993\n",
       "rmssd              45.034850\n",
       "pnn20               0.679389\n",
       "pnn50               0.221374\n",
       "hr_mad             27.343750\n",
       "sd1                31.842660\n",
       "sd2                53.657112\n",
       "s                5367.678726\n",
       "sd1/sd2             0.593447\n",
       "breathingrate       0.287994\n",
       "Name: P01C1, dtype: float64"
      ]
     },
     "execution_count": 39,
     "metadata": {},
     "output_type": "execute_result"
    }
   ],
   "source": [
    "data['P01C1']"
   ]
  },
  {
   "cell_type": "code",
   "execution_count": 37,
   "id": "marked-wales",
   "metadata": {},
   "outputs": [
    {
     "data": {
      "text/plain": [
       "70"
      ]
     },
     "execution_count": 37,
     "metadata": {},
     "output_type": "execute_result"
    }
   ],
   "source": [
    "count"
   ]
  },
  {
   "cell_type": "code",
   "execution_count": 10,
   "id": "global-melissa",
   "metadata": {},
   "outputs": [],
   "source": [
    "model = tf.keras.Sequential()\n",
    "model.add(k.Dense(16, input_dim=13, activation='relu'))\n",
    "model.add(k.Dense(8, activation='relu'))\n",
    "model.add(k.Dense(4, activation='relu'))\n",
    "model.add(k.Dense(2, activation='relu'))\n",
    "\n",
    "model.compile(loss='binary_crossentropy', optimizer='adam', metrics=['accuracy'])"
   ]
  },
  {
   "cell_type": "code",
   "execution_count": 22,
   "id": "corrected-thread",
   "metadata": {},
   "outputs": [],
   "source": [
    "# model.fit(X_train.values, np.array(y_train), epochs=50, batch_size=10)\n",
    "\n",
    "# loss, accuracy = model.evaluate(X_test, np.array(y_test))\n",
    "# print('Accuracy: %.2f' % (accuracy*100))"
   ]
  },
  {
   "cell_type": "code",
   "execution_count": 12,
   "id": "discrete-constitutional",
   "metadata": {},
   "outputs": [
    {
     "name": "stdout",
     "output_type": "stream",
     "text": [
      "Confusion Matrix\n",
      "[[  0 161]\n",
      " [  0  35]]\n"
     ]
    }
   ],
   "source": [
    "# Confution Matrix and Classification Report\n",
    "Y_pred = model.predict(X_test)\n",
    "y_pred = np.argmax(Y_pred, axis=1)\n",
    "print('Confusion Matrix')\n",
    "print(confusion_matrix(y_test, y_pred))"
   ]
  },
  {
   "cell_type": "code",
   "execution_count": 13,
   "id": "decimal-fleece",
   "metadata": {
    "scrolled": true
   },
   "outputs": [
    {
     "data": {
      "text/plain": [
       "<sklearn.metrics._plot.confusion_matrix.ConfusionMatrixDisplay at 0x2a9f9e5cfa0>"
      ]
     },
     "execution_count": 13,
     "metadata": {},
     "output_type": "execute_result"
    },
    {
     "data": {
      "image/png": "[encoded data removed]",
      "text/plain": [
       "<Figure size 432x288 with 2 Axes>"
      ]
     },
     "metadata": {
      "needs_background": "light"
     },
     "output_type": "display_data"
    }
   ],
   "source": [
    "plot_confusion_matrix(rfModel, X_test, y_test)"
   ]
  },
  {
   "cell_type": "code",
   "execution_count": 14,
   "id": "appreciated-twins",
   "metadata": {},
   "outputs": [
    {
     "data": {
      "text/plain": [
       "['rf.joblib']"
      ]
     },
     "execution_count": 14,
     "metadata": {},
     "output_type": "execute_result"
    }
   ],
   "source": [
    "dump(rfModel, 'rf.joblib')"
   ]
  },
  {
   "cell_type": "code",
   "execution_count": 15,
   "id": "stretch-riverside",
   "metadata": {},
   "outputs": [],
   "source": [
    "rfModel2 = load('rf.joblib')"
   ]
  },
  {
   "cell_type": "code",
   "execution_count": 16,
   "id": "rapid-china",
   "metadata": {},
   "outputs": [
    {
     "data": {
      "text/plain": [
       "0.8469387755102041"
      ]
     },
     "execution_count": 16,
     "metadata": {},
     "output_type": "execute_result"
    }
   ],
   "source": [
    "rfModel2.score(X_test, y_test)"
   ]
  },
  {
   "cell_type": "code",
   "execution_count": 17,
   "id": "utility-architect",
   "metadata": {},
   "outputs": [
    {
     "data": {
      "text/html": [
       "<div>\n",
       "<style scoped>\n",
       "    .dataframe tbody tr th:only-of-type {\n",
       "        vertical-align: middle;\n",
       "    }\n",
       "\n",
       "    .dataframe tbody tr th {\n",
       "        vertical-align: top;\n",
       "    }\n",
       "\n",
       "    .dataframe thead th {\n",
       "        text-align: right;\n",
       "    }\n",
       "</style>\n",
       "<table border=\"1\" class=\"dataframe\">\n",
       "  <thead>\n",
       "    <tr style=\"text-align: right;\">\n",
       "      <th></th>\n",
       "      <th>hr</th>\n",
       "      <th>ibi</th>\n",
       "      <th>sdnn</th>\n",
       "      <th>sdsd</th>\n",
       "      <th>rmssd</th>\n",
       "      <th>pnn20</th>\n",
       "      <th>pnn50</th>\n",
       "      <th>hr_mad</th>\n",
       "      <th>sd1</th>\n",
       "      <th>sd2</th>\n",
       "      <th>s</th>\n",
       "      <th>sd1/sd2</th>\n",
       "      <th>breathingrate</th>\n",
       "    </tr>\n",
       "  </thead>\n",
       "  <tbody>\n",
       "    <tr>\n",
       "      <th>P04C32</th>\n",
       "      <td>66.063342</td>\n",
       "      <td>908.219267</td>\n",
       "      <td>82.950964</td>\n",
       "      <td>42.226215</td>\n",
       "      <td>73.722982</td>\n",
       "      <td>0.789916</td>\n",
       "      <td>0.546218</td>\n",
       "      <td>62.500000</td>\n",
       "      <td>52.129767</td>\n",
       "      <td>105.629461</td>\n",
       "      <td>17298.989001</td>\n",
       "      <td>0.493515</td>\n",
       "      <td>0.163881</td>\n",
       "    </tr>\n",
       "    <tr>\n",
       "      <th>P36C10</th>\n",
       "      <td>73.846154</td>\n",
       "      <td>812.500000</td>\n",
       "      <td>33.667641</td>\n",
       "      <td>0.000000</td>\n",
       "      <td>3.906250</td>\n",
       "      <td>0.000000</td>\n",
       "      <td>0.000000</td>\n",
       "      <td>31.250000</td>\n",
       "      <td>2.762136</td>\n",
       "      <td>35.907766</td>\n",
       "      <td>311.589848</td>\n",
       "      <td>0.076923</td>\n",
       "      <td>0.175932</td>\n",
       "    </tr>\n",
       "    <tr>\n",
       "      <th>P27C18</th>\n",
       "      <td>68.477366</td>\n",
       "      <td>876.201923</td>\n",
       "      <td>40.783238</td>\n",
       "      <td>21.327597</td>\n",
       "      <td>32.113146</td>\n",
       "      <td>0.460674</td>\n",
       "      <td>0.112360</td>\n",
       "      <td>27.343750</td>\n",
       "      <td>22.694164</td>\n",
       "      <td>53.011833</td>\n",
       "      <td>3779.521964</td>\n",
       "      <td>0.428096</td>\n",
       "      <td>0.075288</td>\n",
       "    </tr>\n",
       "    <tr>\n",
       "      <th>P13C7</th>\n",
       "      <td>79.890151</td>\n",
       "      <td>751.031250</td>\n",
       "      <td>41.628660</td>\n",
       "      <td>19.827560</td>\n",
       "      <td>24.859223</td>\n",
       "      <td>0.185484</td>\n",
       "      <td>0.008065</td>\n",
       "      <td>23.437500</td>\n",
       "      <td>17.504806</td>\n",
       "      <td>52.034046</td>\n",
       "      <td>2861.506734</td>\n",
       "      <td>0.336411</td>\n",
       "      <td>0.042636</td>\n",
       "    </tr>\n",
       "    <tr>\n",
       "      <th>P55C5</th>\n",
       "      <td>73.427762</td>\n",
       "      <td>817.129630</td>\n",
       "      <td>91.474093</td>\n",
       "      <td>82.332321</td>\n",
       "      <td>112.385331</td>\n",
       "      <td>0.833333</td>\n",
       "      <td>0.500000</td>\n",
       "      <td>42.968750</td>\n",
       "      <td>79.104577</td>\n",
       "      <td>98.333966</td>\n",
       "      <td>24437.402197</td>\n",
       "      <td>0.804448</td>\n",
       "      <td>0.136073</td>\n",
       "    </tr>\n",
       "    <tr>\n",
       "      <th>...</th>\n",
       "      <td>...</td>\n",
       "      <td>...</td>\n",
       "      <td>...</td>\n",
       "      <td>...</td>\n",
       "      <td>...</td>\n",
       "      <td>...</td>\n",
       "      <td>...</td>\n",
       "      <td>...</td>\n",
       "      <td>...</td>\n",
       "      <td>...</td>\n",
       "      <td>...</td>\n",
       "      <td>...</td>\n",
       "      <td>...</td>\n",
       "    </tr>\n",
       "    <tr>\n",
       "      <th>P04C25</th>\n",
       "      <td>64.729283</td>\n",
       "      <td>926.937500</td>\n",
       "      <td>77.283000</td>\n",
       "      <td>40.581473</td>\n",
       "      <td>75.346784</td>\n",
       "      <td>0.829268</td>\n",
       "      <td>0.601626</td>\n",
       "      <td>50.781250</td>\n",
       "      <td>53.259435</td>\n",
       "      <td>94.777179</td>\n",
       "      <td>15858.065495</td>\n",
       "      <td>0.561944</td>\n",
       "      <td>0.077720</td>\n",
       "    </tr>\n",
       "    <tr>\n",
       "      <th>P05C33</th>\n",
       "      <td>68.426383</td>\n",
       "      <td>876.854766</td>\n",
       "      <td>69.591141</td>\n",
       "      <td>23.147947</td>\n",
       "      <td>35.457511</td>\n",
       "      <td>0.467153</td>\n",
       "      <td>0.182482</td>\n",
       "      <td>42.968750</td>\n",
       "      <td>25.055088</td>\n",
       "      <td>95.286729</td>\n",
       "      <td>7500.292878</td>\n",
       "      <td>0.262944</td>\n",
       "      <td>0.098508</td>\n",
       "    </tr>\n",
       "    <tr>\n",
       "      <th>P25C27</th>\n",
       "      <td>70.913383</td>\n",
       "      <td>846.102628</td>\n",
       "      <td>66.331895</td>\n",
       "      <td>19.605271</td>\n",
       "      <td>29.234698</td>\n",
       "      <td>0.379310</td>\n",
       "      <td>0.080460</td>\n",
       "      <td>48.828125</td>\n",
       "      <td>20.634938</td>\n",
       "      <td>91.227047</td>\n",
       "      <td>5913.936439</td>\n",
       "      <td>0.226193</td>\n",
       "      <td>0.040313</td>\n",
       "    </tr>\n",
       "    <tr>\n",
       "      <th>P39C12</th>\n",
       "      <td>63.715933</td>\n",
       "      <td>941.679688</td>\n",
       "      <td>77.111106</td>\n",
       "      <td>30.849406</td>\n",
       "      <td>51.550107</td>\n",
       "      <td>0.708333</td>\n",
       "      <td>0.302083</td>\n",
       "      <td>48.828125</td>\n",
       "      <td>36.435881</td>\n",
       "      <td>102.575189</td>\n",
       "      <td>11741.442964</td>\n",
       "      <td>0.355211</td>\n",
       "      <td>0.084996</td>\n",
       "    </tr>\n",
       "    <tr>\n",
       "      <th>P54C15</th>\n",
       "      <td>86.580941</td>\n",
       "      <td>692.993164</td>\n",
       "      <td>35.945717</td>\n",
       "      <td>8.090748</td>\n",
       "      <td>14.563556</td>\n",
       "      <td>0.100000</td>\n",
       "      <td>0.000000</td>\n",
       "      <td>31.250000</td>\n",
       "      <td>9.920645</td>\n",
       "      <td>46.257324</td>\n",
       "      <td>1441.684623</td>\n",
       "      <td>0.214466</td>\n",
       "      <td>0.045122</td>\n",
       "    </tr>\n",
       "  </tbody>\n",
       "</table>\n",
       "<p>457 rows × 13 columns</p>\n",
       "</div>"
      ],
      "text/plain": [
       "               hr         ibi       sdnn       sdsd       rmssd     pnn20  \\\n",
       "P04C32  66.063342  908.219267  82.950964  42.226215   73.722982  0.789916   \n",
       "P36C10  73.846154  812.500000  33.667641   0.000000    3.906250  0.000000   \n",
       "P27C18  68.477366  876.201923  40.783238  21.327597   32.113146  0.460674   \n",
       "P13C7   79.890151  751.031250  41.628660  19.827560   24.859223  0.185484   \n",
       "P55C5   73.427762  817.129630  91.474093  82.332321  112.385331  0.833333   \n",
       "...           ...         ...        ...        ...         ...       ...   \n",
       "P04C25  64.729283  926.937500  77.283000  40.581473   75.346784  0.829268   \n",
       "P05C33  68.426383  876.854766  69.591141  23.147947   35.457511  0.467153   \n",
       "P25C27  70.913383  846.102628  66.331895  19.605271   29.234698  0.379310   \n",
       "P39C12  63.715933  941.679688  77.111106  30.849406   51.550107  0.708333   \n",
       "P54C15  86.580941  692.993164  35.945717   8.090748   14.563556  0.100000   \n",
       "\n",
       "           pnn50     hr_mad        sd1         sd2             s   sd1/sd2  \\\n",
       "P04C32  0.546218  62.500000  52.129767  105.629461  17298.989001  0.493515   \n",
       "P36C10  0.000000  31.250000   2.762136   35.907766    311.589848  0.076923   \n",
       "P27C18  0.112360  27.343750  22.694164   53.011833   3779.521964  0.428096   \n",
       "P13C7   0.008065  23.437500  17.504806   52.034046   2861.506734  0.336411   \n",
       "P55C5   0.500000  42.968750  79.104577   98.333966  24437.402197  0.804448   \n",
       "...          ...        ...        ...         ...           ...       ...   \n",
       "P04C25  0.601626  50.781250  53.259435   94.777179  15858.065495  0.561944   \n",
       "P05C33  0.182482  42.968750  25.055088   95.286729   7500.292878  0.262944   \n",
       "P25C27  0.080460  48.828125  20.634938   91.227047   5913.936439  0.226193   \n",
       "P39C12  0.302083  48.828125  36.435881  102.575189  11741.442964  0.355211   \n",
       "P54C15  0.000000  31.250000   9.920645   46.257324   1441.684623  0.214466   \n",
       "\n",
       "        breathingrate  \n",
       "P04C32       0.163881  \n",
       "P36C10       0.175932  \n",
       "P27C18       0.075288  \n",
       "P13C7        0.042636  \n",
       "P55C5        0.136073  \n",
       "...               ...  \n",
       "P04C25       0.077720  \n",
       "P05C33       0.098508  \n",
       "P25C27       0.040313  \n",
       "P39C12       0.084996  \n",
       "P54C15       0.045122  \n",
       "\n",
       "[457 rows x 13 columns]"
      ]
     },
     "execution_count": 17,
     "metadata": {},
     "output_type": "execute_result"
    }
   ],
   "source": [
    "X_train"
   ]
  },
  {
   "cell_type": "markdown",
   "id": "dietary-safety",
   "metadata": {},
   "source": [
    "# Code for Hannah"
   ]
  },
  {
   "cell_type": "code",
   "execution_count": 18,
   "id": "negative-uzbekistan",
   "metadata": {},
   "outputs": [],
   "source": [
    "import numpy as np\n",
    "import pandas as pd\n",
    "from sklearn.ensemble import RandomForestClassifier\n",
    "from joblib import dump, load"
   ]
  },
  {
   "cell_type": "code",
   "execution_count": 19,
   "id": "insured-municipality",
   "metadata": {},
   "outputs": [
    {
     "ename": "NameError",
     "evalue": "name 'dataStretched' is not defined",
     "output_type": "error",
     "traceback": [
      "\u001b[1;31m---------------------------------------------------------------------------\u001b[0m",
      "\u001b[1;31mNameError\u001b[0m                                 Traceback (most recent call last)",
      "\u001b[1;32m<ipython-input-19-56ca42aa4ae6>\u001b[0m in \u001b[0;36m<module>\u001b[1;34m\u001b[0m\n\u001b[1;32m----> 1\u001b[1;33m \u001b[0minputArray\u001b[0m \u001b[1;33m=\u001b[0m \u001b[0mdataStretched\u001b[0m\u001b[1;33m[\u001b[0m\u001b[1;34m'P1V1'\u001b[0m\u001b[1;33m]\u001b[0m\u001b[1;33m.\u001b[0m\u001b[0mvalues\u001b[0m \u001b[1;31m#Assuming this array is a array of 364 values\u001b[0m\u001b[1;33m\u001b[0m\u001b[1;33m\u001b[0m\u001b[0m\n\u001b[0m\u001b[0;32m      2\u001b[0m \u001b[1;33m\u001b[0m\u001b[0m\n\u001b[0;32m      3\u001b[0m \u001b[1;31m#Normalize the values of input\u001b[0m\u001b[1;33m\u001b[0m\u001b[1;33m\u001b[0m\u001b[1;33m\u001b[0m\u001b[0m\n\u001b[0;32m      4\u001b[0m \u001b[1;31m# Numpy array is just regular array\u001b[0m\u001b[1;33m\u001b[0m\u001b[1;33m\u001b[0m\u001b[1;33m\u001b[0m\u001b[0m\n\u001b[0;32m      5\u001b[0m \u001b[0mnormArr\u001b[0m \u001b[1;33m=\u001b[0m \u001b[0mnp\u001b[0m\u001b[1;33m.\u001b[0m\u001b[0mzeros\u001b[0m\u001b[1;33m(\u001b[0m\u001b[1;33m[\u001b[0m\u001b[1;36m364\u001b[0m\u001b[1;33m]\u001b[0m\u001b[1;33m)\u001b[0m\u001b[1;33m\u001b[0m\u001b[1;33m\u001b[0m\u001b[0m\n",
      "\u001b[1;31mNameError\u001b[0m: name 'dataStretched' is not defined"
     ]
    }
   ],
   "source": [
    "inputArray = dataStretched['P1V1'].values #Assuming this array is a array of 364 values\n",
    "\n",
    "#Normalize the values of input\n",
    "# Numpy array is just regular array\n",
    "normArr = np.zeros([364])\n",
    "amin, amax = min(inputArray), max(inputArray)\n",
    "for i in range(0,len(inputArray)):\n",
    "    val = inputArray[i]\n",
    "    normArr[i] = (val-amin) / (amax-amin)\n",
    "\n",
    "#Load model weights in from joblib file\n",
    "rfModel = load('ada.joblib')\n",
    "# label of 1 is stress, 0 otherwise\n",
    "pred = rfModel.predict(normArr.reshape(1,-1))"
   ]
  },
  {
   "cell_type": "code",
   "execution_count": null,
   "id": "anonymous-hometown",
   "metadata": {},
   "outputs": [],
   "source": [
    "adaModel = load('ada.joblib')"
   ]
  }
 ],
 "metadata": {
  "kernelspec": {
   "display_name": "Python 3",
   "language": "python",
   "name": "python3"
  },
  "language_info": {
   "codemirror_mode": {
    "name": "ipython",
    "version": 3
   },
   "file_extension": ".py",
   "mimetype": "text/x-python",
   "name": "python",
   "nbconvert_exporter": "python",
   "pygments_lexer": "ipython3",
   "version": "3.8.5"
  }
 },
 "nbformat": 4,
 "nbformat_minor": 5
}
