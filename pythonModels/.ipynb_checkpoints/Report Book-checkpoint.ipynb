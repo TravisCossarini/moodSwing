{
 "cells": [
  {
   "cell_type": "code",
   "execution_count": 1,
   "id": "intense-highland",
   "metadata": {},
   "outputs": [],
   "source": [
    "import numpy as np\n",
    "import pandas as pd\n",
    "from sklearn.ensemble import RandomForestClassifier, AdaBoostClassifier\n",
    "from sklearn.model_selection import train_test_split\n",
    "from joblib import dump, load\n",
    "from sklearn.metrics import plot_confusion_matrix\n",
    "from tensorflow.keras import layers as k\n",
    "import tensorflow as tf\n",
    "from sklearn.metrics import classification_report, confusion_matrix\n",
    "import heartpy as hp\n",
    "import matplotlib.pyplot as plt"
   ]
  },
  {
   "cell_type": "markdown",
   "id": "approximate-destruction",
   "metadata": {},
   "source": [
    "# Read in Data"
   ]
  },
  {
   "cell_type": "code",
   "execution_count": 2,
   "id": "young-jimmy",
   "metadata": {},
   "outputs": [],
   "source": [
    "# data_AS = pd.read_csv('finalData/AS_HP_Measures.csv', index_col='Unnamed: 0')\n",
    "# labels_AS = pd.read_csv('finalData/ascertain_labels_Final.csv').T.values.tolist()[0]\n",
    "\n",
    "# data_DR = pd.read_csv('finalData/DR_HP_Measures.csv', index_col='Unnamed: 0')\n",
    "# labels_DR = pd.read_csv('finalData/DREAMER_labels_final.csv').T.values.tolist()[0]"
   ]
  },
  {
   "cell_type": "code",
   "execution_count": 3,
   "id": "yellow-accounting",
   "metadata": {},
   "outputs": [],
   "source": [
    "# data_AS = pd.read_csv('finalData/AS_NK_Measures.csv', index_col='Unnamed: 0')\n",
    "# labels_AS = pd.read_csv('finalData/AS_NK_Labels.csv').values.tolist()[0]\n",
    "\n",
    "# data_DR = pd.read_csv('finalData/DR_NK_Measures.csv', index_col='Unnamed: 0')\n",
    "# labels_DR = pd.read_csv('finalData/DR_NK_Labels.csv').values.tolist()[0]"
   ]
  },
  {
   "cell_type": "code",
   "execution_count": 4,
   "id": "located-monkey",
   "metadata": {},
   "outputs": [
    {
     "data": {
      "text/plain": [
       "(50, 1932)"
      ]
     },
     "execution_count": 4,
     "metadata": {},
     "output_type": "execute_result"
    }
   ],
   "source": [
    "pd.read_csv('finalData/AS_NK_Measures.csv', index_col='Unnamed: 0').shape"
   ]
  },
  {
   "cell_type": "code",
   "execution_count": 5,
   "id": "parallel-science",
   "metadata": {},
   "outputs": [
    {
     "data": {
      "text/plain": [
       "(50, 1932)"
      ]
     },
     "execution_count": 5,
     "metadata": {},
     "output_type": "execute_result"
    }
   ],
   "source": [
    "pd.read_csv('finalData/AS_NK_Measures_filt.csv', index_col='Unnamed: 0').shape"
   ]
  },
  {
   "cell_type": "code",
   "execution_count": 6,
   "id": "unusual-valuation",
   "metadata": {},
   "outputs": [],
   "source": [
    "data_AS1 = pd.read_csv('finalData/AS_HP_Measures.csv', index_col='Unnamed: 0')\n",
    "# labels_AS = pd.read_csv('finalData/ascertain_labels_Final.csv').T.values.tolist()[0]\n",
    "\n",
    "data_DR1 = pd.read_csv('finalData/DR_HP_Measures.csv', index_col='Unnamed: 0')\n",
    "# labels_DR = pd.read_csv('finalData/DREAMER_labels_final.csv').T.values.tolist()[0]\n",
    "\n",
    "# data_AS = pd.read_csv('finalData/AS_NK_Measures.csv', index_col='Unnamed: 0')\n",
    "# data_DR = pd.read_csv('finalData/DR_NK_Measures.csv', index_col='Unnamed: 0')\n",
    "\n",
    "labels_AS = pd.read_csv('finalData/AS_NK_Labels.csv')\n",
    "labels_DR = pd.read_csv('finalData/DR_NK_Labels.csv')\n",
    "\n",
    "\n",
    "data_AS = pd.read_csv('finalData/AS_NK_Measures_filt.csv', index_col='Unnamed: 0')\n",
    "data_DR = pd.read_csv('finalData/DR_NK_Measures_filt.csv', index_col='Unnamed: 0')\n",
    "\n",
    "for col in data_AS.columns:\n",
    "    if col not in data_AS1.columns:\n",
    "        data_AS = data_AS.drop(col, axis=1)\n",
    "        labels_AS = labels_AS.drop(col, axis=1)\n",
    "        \n",
    "for col in data_DR.columns:\n",
    "    if col in data_DR1.columns:\n",
    "        data_DR = data_DR.drop(col, axis=1)\n",
    "        labels_DR = labels_DR.drop(col, axis=1)\n",
    "        \n",
    "labels_DR = labels_DR.values.tolist()[0]\n",
    "labels_AS = labels_AS.values.tolist()[0]"
   ]
  },
  {
   "cell_type": "code",
   "execution_count": 7,
   "id": "southeast-jones",
   "metadata": {},
   "outputs": [
    {
     "data": {
      "text/plain": [
       "607"
      ]
     },
     "execution_count": 7,
     "metadata": {},
     "output_type": "execute_result"
    }
   ],
   "source": [
    "len(labels_AS)"
   ]
  },
  {
   "cell_type": "code",
   "execution_count": 8,
   "id": "underlying-typing",
   "metadata": {},
   "outputs": [],
   "source": [
    "# data_AS"
   ]
  },
  {
   "cell_type": "code",
   "execution_count": 9,
   "id": "affecting-maine",
   "metadata": {},
   "outputs": [
    {
     "data": {
      "text/plain": [
       "(607, (50, 607), 94, (50, 94))"
      ]
     },
     "execution_count": 9,
     "metadata": {},
     "output_type": "execute_result"
    }
   ],
   "source": [
    "len(labels_AS), data_AS.shape, len(labels_DR), data_DR.shape"
   ]
  },
  {
   "cell_type": "code",
   "execution_count": 10,
   "id": "clinical-filter",
   "metadata": {},
   "outputs": [
    {
     "data": {
      "text/html": [
       "<div>\n",
       "<style scoped>\n",
       "    .dataframe tbody tr th:only-of-type {\n",
       "        vertical-align: middle;\n",
       "    }\n",
       "\n",
       "    .dataframe tbody tr th {\n",
       "        vertical-align: top;\n",
       "    }\n",
       "\n",
       "    .dataframe thead th {\n",
       "        text-align: right;\n",
       "    }\n",
       "</style>\n",
       "<table border=\"1\" class=\"dataframe\">\n",
       "  <thead>\n",
       "    <tr style=\"text-align: right;\">\n",
       "      <th></th>\n",
       "      <th>P01C1</th>\n",
       "      <th>P01C2</th>\n",
       "      <th>P01C3</th>\n",
       "      <th>P01C4</th>\n",
       "      <th>P01C5</th>\n",
       "      <th>P01C6</th>\n",
       "      <th>P01C7</th>\n",
       "      <th>P01C8</th>\n",
       "      <th>P01C9</th>\n",
       "      <th>P01C10</th>\n",
       "      <th>...</th>\n",
       "      <th>P55C26</th>\n",
       "      <th>P55C28</th>\n",
       "      <th>P55C29</th>\n",
       "      <th>P55C30</th>\n",
       "      <th>P55C31</th>\n",
       "      <th>P55C33</th>\n",
       "      <th>P55C34</th>\n",
       "      <th>P55C35</th>\n",
       "      <th>P55C36</th>\n",
       "      <th>P57C11</th>\n",
       "    </tr>\n",
       "  </thead>\n",
       "  <tbody>\n",
       "    <tr>\n",
       "      <th>RMSSD</th>\n",
       "      <td>39.782695</td>\n",
       "      <td>45.666782</td>\n",
       "      <td>43.414898</td>\n",
       "      <td>55.145343</td>\n",
       "      <td>53.349973</td>\n",
       "      <td>52.779704</td>\n",
       "      <td>32.064167</td>\n",
       "      <td>55.637195</td>\n",
       "      <td>56.725528</td>\n",
       "      <td>29.820378</td>\n",
       "      <td>...</td>\n",
       "      <td>32.319500</td>\n",
       "      <td>46.137639</td>\n",
       "      <td>254.452255</td>\n",
       "      <td>79.845931</td>\n",
       "      <td>41.437019</td>\n",
       "      <td>31.096116</td>\n",
       "      <td>28.868654</td>\n",
       "      <td>123.425673</td>\n",
       "      <td>62.146062</td>\n",
       "      <td>346.866416</td>\n",
       "    </tr>\n",
       "    <tr>\n",
       "      <th>MeanNN</th>\n",
       "      <td>808.700372</td>\n",
       "      <td>759.390024</td>\n",
       "      <td>758.858070</td>\n",
       "      <td>804.418999</td>\n",
       "      <td>781.531095</td>\n",
       "      <td>851.117484</td>\n",
       "      <td>775.814194</td>\n",
       "      <td>778.964247</td>\n",
       "      <td>816.432062</td>\n",
       "      <td>749.901396</td>\n",
       "      <td>...</td>\n",
       "      <td>794.604142</td>\n",
       "      <td>777.698114</td>\n",
       "      <td>813.190366</td>\n",
       "      <td>798.795181</td>\n",
       "      <td>793.609375</td>\n",
       "      <td>796.707709</td>\n",
       "      <td>784.659612</td>\n",
       "      <td>842.020581</td>\n",
       "      <td>780.688016</td>\n",
       "      <td>836.743228</td>\n",
       "    </tr>\n",
       "    <tr>\n",
       "      <th>SDNN</th>\n",
       "      <td>42.391881</td>\n",
       "      <td>47.694764</td>\n",
       "      <td>57.275022</td>\n",
       "      <td>59.597556</td>\n",
       "      <td>51.286605</td>\n",
       "      <td>41.049307</td>\n",
       "      <td>29.594240</td>\n",
       "      <td>47.164432</td>\n",
       "      <td>43.093205</td>\n",
       "      <td>28.588205</td>\n",
       "      <td>...</td>\n",
       "      <td>52.383307</td>\n",
       "      <td>63.940778</td>\n",
       "      <td>250.656910</td>\n",
       "      <td>70.762835</td>\n",
       "      <td>46.424857</td>\n",
       "      <td>51.359301</td>\n",
       "      <td>62.923831</td>\n",
       "      <td>128.605007</td>\n",
       "      <td>81.962450</td>\n",
       "      <td>249.767951</td>\n",
       "    </tr>\n",
       "    <tr>\n",
       "      <th>SDSD</th>\n",
       "      <td>39.831466</td>\n",
       "      <td>45.715153</td>\n",
       "      <td>43.461049</td>\n",
       "      <td>55.206219</td>\n",
       "      <td>53.415984</td>\n",
       "      <td>52.846752</td>\n",
       "      <td>32.096395</td>\n",
       "      <td>55.697999</td>\n",
       "      <td>56.788164</td>\n",
       "      <td>29.849148</td>\n",
       "      <td>...</td>\n",
       "      <td>32.356751</td>\n",
       "      <td>46.186192</td>\n",
       "      <td>254.684566</td>\n",
       "      <td>79.942458</td>\n",
       "      <td>41.478595</td>\n",
       "      <td>31.129398</td>\n",
       "      <td>28.904040</td>\n",
       "      <td>123.561761</td>\n",
       "      <td>62.219150</td>\n",
       "      <td>347.320931</td>\n",
       "    </tr>\n",
       "    <tr>\n",
       "      <th>CVNN</th>\n",
       "      <td>0.052420</td>\n",
       "      <td>0.062807</td>\n",
       "      <td>0.075475</td>\n",
       "      <td>0.074088</td>\n",
       "      <td>0.065623</td>\n",
       "      <td>0.048230</td>\n",
       "      <td>0.038146</td>\n",
       "      <td>0.060548</td>\n",
       "      <td>0.052782</td>\n",
       "      <td>0.038123</td>\n",
       "      <td>...</td>\n",
       "      <td>0.065924</td>\n",
       "      <td>0.082218</td>\n",
       "      <td>0.308239</td>\n",
       "      <td>0.088587</td>\n",
       "      <td>0.058498</td>\n",
       "      <td>0.064464</td>\n",
       "      <td>0.080193</td>\n",
       "      <td>0.152734</td>\n",
       "      <td>0.104987</td>\n",
       "      <td>0.298500</td>\n",
       "    </tr>\n",
       "    <tr>\n",
       "      <th>CVSD</th>\n",
       "      <td>0.049193</td>\n",
       "      <td>0.060136</td>\n",
       "      <td>0.057211</td>\n",
       "      <td>0.068553</td>\n",
       "      <td>0.068263</td>\n",
       "      <td>0.062012</td>\n",
       "      <td>0.041330</td>\n",
       "      <td>0.071425</td>\n",
       "      <td>0.069480</td>\n",
       "      <td>0.039766</td>\n",
       "      <td>...</td>\n",
       "      <td>0.040674</td>\n",
       "      <td>0.059326</td>\n",
       "      <td>0.312906</td>\n",
       "      <td>0.099958</td>\n",
       "      <td>0.052213</td>\n",
       "      <td>0.039031</td>\n",
       "      <td>0.036791</td>\n",
       "      <td>0.146583</td>\n",
       "      <td>0.079604</td>\n",
       "      <td>0.414543</td>\n",
       "    </tr>\n",
       "    <tr>\n",
       "      <th>MedianNN</th>\n",
       "      <td>812.500000</td>\n",
       "      <td>765.625000</td>\n",
       "      <td>769.531250</td>\n",
       "      <td>808.593750</td>\n",
       "      <td>785.156250</td>\n",
       "      <td>847.656250</td>\n",
       "      <td>773.437500</td>\n",
       "      <td>785.156250</td>\n",
       "      <td>808.593750</td>\n",
       "      <td>750.000000</td>\n",
       "      <td>...</td>\n",
       "      <td>792.968750</td>\n",
       "      <td>769.531250</td>\n",
       "      <td>781.250000</td>\n",
       "      <td>785.156250</td>\n",
       "      <td>796.875000</td>\n",
       "      <td>796.875000</td>\n",
       "      <td>796.875000</td>\n",
       "      <td>837.890625</td>\n",
       "      <td>769.531250</td>\n",
       "      <td>800.781250</td>\n",
       "    </tr>\n",
       "    <tr>\n",
       "      <th>MadNN</th>\n",
       "      <td>40.539844</td>\n",
       "      <td>28.957031</td>\n",
       "      <td>57.914062</td>\n",
       "      <td>40.539844</td>\n",
       "      <td>40.539844</td>\n",
       "      <td>34.748438</td>\n",
       "      <td>28.957031</td>\n",
       "      <td>40.539844</td>\n",
       "      <td>34.748438</td>\n",
       "      <td>28.957031</td>\n",
       "      <td>...</td>\n",
       "      <td>52.122656</td>\n",
       "      <td>57.914062</td>\n",
       "      <td>28.957031</td>\n",
       "      <td>40.539844</td>\n",
       "      <td>40.539844</td>\n",
       "      <td>52.122656</td>\n",
       "      <td>69.496875</td>\n",
       "      <td>112.932422</td>\n",
       "      <td>75.288281</td>\n",
       "      <td>81.079687</td>\n",
       "    </tr>\n",
       "    <tr>\n",
       "      <th>MCVNN</th>\n",
       "      <td>0.049895</td>\n",
       "      <td>0.037821</td>\n",
       "      <td>0.075259</td>\n",
       "      <td>0.050136</td>\n",
       "      <td>0.051633</td>\n",
       "      <td>0.040994</td>\n",
       "      <td>0.037439</td>\n",
       "      <td>0.051633</td>\n",
       "      <td>0.042974</td>\n",
       "      <td>0.038609</td>\n",
       "      <td>...</td>\n",
       "      <td>0.065731</td>\n",
       "      <td>0.075259</td>\n",
       "      <td>0.037065</td>\n",
       "      <td>0.051633</td>\n",
       "      <td>0.050874</td>\n",
       "      <td>0.065409</td>\n",
       "      <td>0.087212</td>\n",
       "      <td>0.134782</td>\n",
       "      <td>0.097837</td>\n",
       "      <td>0.101251</td>\n",
       "    </tr>\n",
       "    <tr>\n",
       "      <th>IQRNN</th>\n",
       "      <td>54.687500</td>\n",
       "      <td>42.968750</td>\n",
       "      <td>82.031250</td>\n",
       "      <td>54.687500</td>\n",
       "      <td>54.687500</td>\n",
       "      <td>50.781250</td>\n",
       "      <td>35.156250</td>\n",
       "      <td>50.781250</td>\n",
       "      <td>53.710938</td>\n",
       "      <td>39.062500</td>\n",
       "      <td>...</td>\n",
       "      <td>70.312500</td>\n",
       "      <td>85.937500</td>\n",
       "      <td>42.968750</td>\n",
       "      <td>60.546875</td>\n",
       "      <td>58.593750</td>\n",
       "      <td>74.218750</td>\n",
       "      <td>85.937500</td>\n",
       "      <td>152.343750</td>\n",
       "      <td>101.562500</td>\n",
       "      <td>113.281250</td>\n",
       "    </tr>\n",
       "    <tr>\n",
       "      <th>pNN50</th>\n",
       "      <td>22.580645</td>\n",
       "      <td>10.256410</td>\n",
       "      <td>12.419700</td>\n",
       "      <td>25.277162</td>\n",
       "      <td>22.580645</td>\n",
       "      <td>20.759494</td>\n",
       "      <td>8.634538</td>\n",
       "      <td>12.445415</td>\n",
       "      <td>16.079295</td>\n",
       "      <td>5.825243</td>\n",
       "      <td>...</td>\n",
       "      <td>11.722488</td>\n",
       "      <td>21.518987</td>\n",
       "      <td>6.487696</td>\n",
       "      <td>13.012048</td>\n",
       "      <td>9.800000</td>\n",
       "      <td>8.351178</td>\n",
       "      <td>7.334963</td>\n",
       "      <td>48.017621</td>\n",
       "      <td>18.396226</td>\n",
       "      <td>55.352480</td>\n",
       "    </tr>\n",
       "    <tr>\n",
       "      <th>pNN20</th>\n",
       "      <td>68.486352</td>\n",
       "      <td>63.461538</td>\n",
       "      <td>59.957173</td>\n",
       "      <td>66.075388</td>\n",
       "      <td>68.734491</td>\n",
       "      <td>64.810127</td>\n",
       "      <td>61.445783</td>\n",
       "      <td>58.296943</td>\n",
       "      <td>74.449339</td>\n",
       "      <td>50.873786</td>\n",
       "      <td>...</td>\n",
       "      <td>47.129187</td>\n",
       "      <td>40.084388</td>\n",
       "      <td>34.451902</td>\n",
       "      <td>45.783133</td>\n",
       "      <td>47.600000</td>\n",
       "      <td>42.184154</td>\n",
       "      <td>46.454768</td>\n",
       "      <td>66.519824</td>\n",
       "      <td>43.160377</td>\n",
       "      <td>73.629243</td>\n",
       "    </tr>\n",
       "    <tr>\n",
       "      <th>TINN</th>\n",
       "      <td>207.031250</td>\n",
       "      <td>375.000000</td>\n",
       "      <td>265.625000</td>\n",
       "      <td>437.500000</td>\n",
       "      <td>539.062500</td>\n",
       "      <td>304.687500</td>\n",
       "      <td>148.437500</td>\n",
       "      <td>375.000000</td>\n",
       "      <td>382.812500</td>\n",
       "      <td>195.312500</td>\n",
       "      <td>...</td>\n",
       "      <td>300.781250</td>\n",
       "      <td>316.406250</td>\n",
       "      <td>2398.437500</td>\n",
       "      <td>628.906250</td>\n",
       "      <td>351.562500</td>\n",
       "      <td>269.531250</td>\n",
       "      <td>246.093750</td>\n",
       "      <td>660.156250</td>\n",
       "      <td>449.218750</td>\n",
       "      <td>1925.781250</td>\n",
       "    </tr>\n",
       "  </tbody>\n",
       "</table>\n",
       "<p>13 rows × 607 columns</p>\n",
       "</div>"
      ],
      "text/plain": [
       "               P01C1       P01C2       P01C3       P01C4       P01C5  \\\n",
       "RMSSD      39.782695   45.666782   43.414898   55.145343   53.349973   \n",
       "MeanNN    808.700372  759.390024  758.858070  804.418999  781.531095   \n",
       "SDNN       42.391881   47.694764   57.275022   59.597556   51.286605   \n",
       "SDSD       39.831466   45.715153   43.461049   55.206219   53.415984   \n",
       "CVNN        0.052420    0.062807    0.075475    0.074088    0.065623   \n",
       "CVSD        0.049193    0.060136    0.057211    0.068553    0.068263   \n",
       "MedianNN  812.500000  765.625000  769.531250  808.593750  785.156250   \n",
       "MadNN      40.539844   28.957031   57.914062   40.539844   40.539844   \n",
       "MCVNN       0.049895    0.037821    0.075259    0.050136    0.051633   \n",
       "IQRNN      54.687500   42.968750   82.031250   54.687500   54.687500   \n",
       "pNN50      22.580645   10.256410   12.419700   25.277162   22.580645   \n",
       "pNN20      68.486352   63.461538   59.957173   66.075388   68.734491   \n",
       "TINN      207.031250  375.000000  265.625000  437.500000  539.062500   \n",
       "\n",
       "               P01C6       P01C7       P01C8       P01C9      P01C10  ...  \\\n",
       "RMSSD      52.779704   32.064167   55.637195   56.725528   29.820378  ...   \n",
       "MeanNN    851.117484  775.814194  778.964247  816.432062  749.901396  ...   \n",
       "SDNN       41.049307   29.594240   47.164432   43.093205   28.588205  ...   \n",
       "SDSD       52.846752   32.096395   55.697999   56.788164   29.849148  ...   \n",
       "CVNN        0.048230    0.038146    0.060548    0.052782    0.038123  ...   \n",
       "CVSD        0.062012    0.041330    0.071425    0.069480    0.039766  ...   \n",
       "MedianNN  847.656250  773.437500  785.156250  808.593750  750.000000  ...   \n",
       "MadNN      34.748438   28.957031   40.539844   34.748438   28.957031  ...   \n",
       "MCVNN       0.040994    0.037439    0.051633    0.042974    0.038609  ...   \n",
       "IQRNN      50.781250   35.156250   50.781250   53.710938   39.062500  ...   \n",
       "pNN50      20.759494    8.634538   12.445415   16.079295    5.825243  ...   \n",
       "pNN20      64.810127   61.445783   58.296943   74.449339   50.873786  ...   \n",
       "TINN      304.687500  148.437500  375.000000  382.812500  195.312500  ...   \n",
       "\n",
       "              P55C26      P55C28       P55C29      P55C30      P55C31  \\\n",
       "RMSSD      32.319500   46.137639   254.452255   79.845931   41.437019   \n",
       "MeanNN    794.604142  777.698114   813.190366  798.795181  793.609375   \n",
       "SDNN       52.383307   63.940778   250.656910   70.762835   46.424857   \n",
       "SDSD       32.356751   46.186192   254.684566   79.942458   41.478595   \n",
       "CVNN        0.065924    0.082218     0.308239    0.088587    0.058498   \n",
       "CVSD        0.040674    0.059326     0.312906    0.099958    0.052213   \n",
       "MedianNN  792.968750  769.531250   781.250000  785.156250  796.875000   \n",
       "MadNN      52.122656   57.914062    28.957031   40.539844   40.539844   \n",
       "MCVNN       0.065731    0.075259     0.037065    0.051633    0.050874   \n",
       "IQRNN      70.312500   85.937500    42.968750   60.546875   58.593750   \n",
       "pNN50      11.722488   21.518987     6.487696   13.012048    9.800000   \n",
       "pNN20      47.129187   40.084388    34.451902   45.783133   47.600000   \n",
       "TINN      300.781250  316.406250  2398.437500  628.906250  351.562500   \n",
       "\n",
       "              P55C33      P55C34      P55C35      P55C36       P57C11  \n",
       "RMSSD      31.096116   28.868654  123.425673   62.146062   346.866416  \n",
       "MeanNN    796.707709  784.659612  842.020581  780.688016   836.743228  \n",
       "SDNN       51.359301   62.923831  128.605007   81.962450   249.767951  \n",
       "SDSD       31.129398   28.904040  123.561761   62.219150   347.320931  \n",
       "CVNN        0.064464    0.080193    0.152734    0.104987     0.298500  \n",
       "CVSD        0.039031    0.036791    0.146583    0.079604     0.414543  \n",
       "MedianNN  796.875000  796.875000  837.890625  769.531250   800.781250  \n",
       "MadNN      52.122656   69.496875  112.932422   75.288281    81.079687  \n",
       "MCVNN       0.065409    0.087212    0.134782    0.097837     0.101251  \n",
       "IQRNN      74.218750   85.937500  152.343750  101.562500   113.281250  \n",
       "pNN50       8.351178    7.334963   48.017621   18.396226    55.352480  \n",
       "pNN20      42.184154   46.454768   66.519824   43.160377    73.629243  \n",
       "TINN      269.531250  246.093750  660.156250  449.218750  1925.781250  \n",
       "\n",
       "[13 rows x 607 columns]"
      ]
     },
     "execution_count": 10,
     "metadata": {},
     "output_type": "execute_result"
    }
   ],
   "source": [
    "data_AS.head(13)"
   ]
  },
  {
   "cell_type": "code",
   "execution_count": 11,
   "id": "boolean-ideal",
   "metadata": {},
   "outputs": [
    {
     "name": "stdout",
     "output_type": "stream",
     "text": [
      "5000"
     ]
    },
    {
     "data": {
      "text/plain": [
       "(<sklearn.metrics._plot.confusion_matrix.ConfusionMatrixDisplay at 0x26f237cb160>,\n",
       " 0.8907103825136612)"
      ]
     },
     "execution_count": 11,
     "metadata": {},
     "output_type": "execute_result"
    },
    {
     "data": {
      "image/png": "[encoded data removed]",
      "text/plain": [
       "<Figure size 432x288 with 2 Axes>"
      ]
     },
     "metadata": {
      "needs_background": "light"
     },
     "output_type": "display_data"
    }
   ],
   "source": [
    "inputIter = 500\n",
    "numIter = 0\n",
    "acc = 0\n",
    "maxAcc = 0\n",
    "splitTuple = (0,0,0,0)\n",
    "while(acc<0.95 and numIter< inputIter):\n",
    "    X_train, X_test, y_train, y_test = train_test_split(data_AS.T, labels_AS, test_size=0.3, stratify=labels_AS)\n",
    "\n",
    "    rfModel = RandomForestClassifier()\n",
    "    # rfModel = load('rf.joblib')\n",
    "    rfModel.fit(X_train, y_train)\n",
    "    acc = rfModel.score(X_test, y_test)\n",
    "    numIter += 1\n",
    "    print('\\r' + str(numIter), end='')\n",
    "    if(acc > maxAcc):\n",
    "        maxAcc = acc\n",
    "        splitTuple = (X_train, X_test, y_train, y_test)\n",
    "\n",
    "plot_confusion_matrix(rfModel, splitTuple[1], splitTuple[3]), rfModel.score(splitTuple[1], splitTuple[3])"
   ]
  },
  {
   "cell_type": "code",
   "execution_count": 12,
   "id": "handled-kruger",
   "metadata": {},
   "outputs": [
    {
     "data": {
      "text/plain": [
       "0.8907103825136612"
      ]
     },
     "execution_count": 12,
     "metadata": {},
     "output_type": "execute_result"
    }
   ],
   "source": [
    "rfModel.score(splitTuple[1], splitTuple[3])"
   ]
  },
  {
   "cell_type": "code",
   "execution_count": 13,
   "id": "honest-generation",
   "metadata": {},
   "outputs": [
    {
     "name": "stdout",
     "output_type": "stream",
     "text": [
      "5000"
     ]
    },
    {
     "data": {
      "text/plain": [
       "(<sklearn.metrics._plot.confusion_matrix.ConfusionMatrixDisplay at 0x26f18a9a220>,\n",
       " 0.9655172413793104)"
      ]
     },
     "execution_count": 13,
     "metadata": {},
     "output_type": "execute_result"
    },
    {
     "data": {
      "image/png": "[encoded data removed]",
      "text/plain": [
       "<Figure size 432x288 with 2 Axes>"
      ]
     },
     "metadata": {
      "needs_background": "light"
     },
     "output_type": "display_data"
    }
   ],
   "source": [
    "numIter = 0\n",
    "acc = 0\n",
    "maxAcc2 = 0\n",
    "splitTuple2 = (0,0,0,0)\n",
    "while(acc<0.95 and numIter< inputIter):\n",
    "    X_train2, X_test2, y_train2, y_test2 = train_test_split(data_DR.T, labels_DR, test_size=0.3, stratify=labels_DR)\n",
    "\n",
    "    rfModel2 = RandomForestClassifier()\n",
    "    # rfModel = load('rf.joblib')\n",
    "    rfModel2.fit(X_train2, y_train2)\n",
    "    acc = rfModel2.score(X_test2, y_test2)\n",
    "    numIter += 1\n",
    "    print('\\r' + str(numIter), end='')\n",
    "    if(acc > maxAcc2):\n",
    "        maxAcc2 = acc\n",
    "        splitTuple2 = (X_train2, X_test2, y_train2, y_test2)\n",
    "\n",
    "\n",
    "plot_confusion_matrix(rfModel2, splitTuple2[1], splitTuple2[3]), rfModel2.score(splitTuple2[1], splitTuple2[3])"
   ]
  },
  {
   "cell_type": "code",
   "execution_count": 14,
   "id": "commercial-tobacco",
   "metadata": {},
   "outputs": [
    {
     "data": {
      "text/plain": [
       "0.5023809523809524"
      ]
     },
     "execution_count": 14,
     "metadata": {},
     "output_type": "execute_result"
    }
   ],
   "source": [
    "from sklearn.metrics import balanced_accuracy_score\n",
    "\n",
    "balanced_accuracy_score(rfModel.predict(splitTuple2[1]), splitTuple2[3])"
   ]
  },
  {
   "cell_type": "code",
   "execution_count": 15,
   "id": "anticipated-official",
   "metadata": {},
   "outputs": [],
   "source": [
    "labels_combined = labels_AS + labels_DR\n",
    "dataCombined = pd.concat([data_AS.T, data_DR.T]).T"
   ]
  },
  {
   "cell_type": "code",
   "execution_count": 16,
   "id": "dried-plymouth",
   "metadata": {},
   "outputs": [
    {
     "name": "stdout",
     "output_type": "stream",
     "text": [
      "5000"
     ]
    },
    {
     "data": {
      "text/plain": [
       "(<sklearn.metrics._plot.confusion_matrix.ConfusionMatrixDisplay at 0x26f23c47850>,\n",
       " 0.9052132701421801)"
      ]
     },
     "execution_count": 16,
     "metadata": {},
     "output_type": "execute_result"
    },
    {
     "data": {
      "image/png": "[encoded data removed]",
      "text/plain": [
       "<Figure size 432x288 with 2 Axes>"
      ]
     },
     "metadata": {
      "needs_background": "light"
     },
     "output_type": "display_data"
    }
   ],
   "source": [
    "numIter = 0\n",
    "acc = 0\n",
    "maxAcc3 = 0\n",
    "splitTuple3 = (0,0,0,0)\n",
    "while(acc<0.95 and numIter< inputIter):\n",
    "    X_train3, X_test3, y_train3, y_test3 = train_test_split(dataCombined.T, labels_combined, test_size=0.3, stratify=labels_combined)\n",
    "\n",
    "    rfModel3 = RandomForestClassifier()\n",
    "    # rfModel = load('rf.joblib')\n",
    "    rfModel3.fit(X_train3, y_train3)\n",
    "    acc = rfModel3.score(X_test3, y_test3)\n",
    "    numIter += 1\n",
    "    print('\\r' + str(numIter), end='')\n",
    "    if(acc > maxAcc3):\n",
    "        maxAcc3 = acc\n",
    "        splitTuple3 = (X_train3, X_test3, y_train3, y_test3)\n",
    "\n",
    "plot_confusion_matrix(rfModel3, splitTuple3[1], splitTuple3[3]), rfModel3.score(splitTuple3[1], splitTuple3[3])"
   ]
  },
  {
   "cell_type": "markdown",
   "id": "postal-vietnam",
   "metadata": {},
   "source": [
    "# Model Comparison"
   ]
  },
  {
   "cell_type": "code",
   "execution_count": 17,
   "id": "cross-atlas",
   "metadata": {},
   "outputs": [],
   "source": [
    "from sklearn.neural_network import MLPClassifier\n",
    "from sklearn.ensemble import BaggingClassifier, GradientBoostingClassifier, RandomForestClassifier, AdaBoostClassifier"
   ]
  },
  {
   "cell_type": "code",
   "execution_count": 18,
   "id": "bulgarian-playing",
   "metadata": {
    "scrolled": true
   },
   "outputs": [
    {
     "data": {
      "image/png": "[encoded data removed]",
      "text/plain": [
       "<Figure size 432x288 with 1 Axes>"
      ]
     },
     "metadata": {
      "needs_background": "light"
     },
     "output_type": "display_data"
    }
   ],
   "source": [
    "X_train, X_test, y_train, y_test = splitTuple3\n",
    "\n",
    "numEstimators = [10, 50, 100, 150, 200, 250, 300, 350, 400, 450, 500, 550, 600, 650, 700, 750, 800, 850, 900, 950, 1000]\n",
    "\n",
    "\n",
    "gradBoostScores = []\n",
    "rfScores = []\n",
    "adaScores = []\n",
    "\n",
    "for num in numEstimators:\n",
    "    gradModel = GradientBoostingClassifier(n_estimators=num, random_state=7)\n",
    "    rfModel = RandomForestClassifier(n_estimators=num, random_state=7)\n",
    "    adaModel = AdaBoostClassifier(n_estimators=num, random_state=7)\n",
    "\n",
    "    \n",
    "    gradModel.fit(X_train, y_train)\n",
    "    rfModel.fit(X_train, y_train)\n",
    "    adaModel.fit(X_train, y_train)\n",
    "    \n",
    "    scores = gradModel.score(X_test, y_test)\n",
    "    gradBoostScores.append(scores)\n",
    "    scores = rfModel.score(X_test, y_test)\n",
    "    rfScores.append(scores)\n",
    "    scores = adaModel.score(X_test, y_test)\n",
    "    adaScores.append(scores)\n",
    "    \n",
    "fig = plt.figure()\n",
    "ax = fig.add_subplot(111)\n",
    "ax.plot(numEstimators, gradBoostScores, label = \"Gradient Boosting\")\n",
    "ax.plot(numEstimators, rfScores, label = \"Random Forest\")\n",
    "ax.plot(numEstimators, adaScores, label=\"AdaBoost\")\n",
    "\n",
    "\n",
    "plt.legend()\n",
    "\n",
    "ax.set_xlabel('Number of Estimators')\n",
    "ax.set_ylabel('Accuracy')\n",
    "\n",
    "plt.show()\n"
   ]
  },
  {
   "cell_type": "code",
   "execution_count": 19,
   "id": "valid-medium",
   "metadata": {},
   "outputs": [],
   "source": [
    "# print(max(rfScores))"
   ]
  },
  {
   "cell_type": "code",
   "execution_count": 20,
   "id": "american-progressive",
   "metadata": {},
   "outputs": [
    {
     "data": {
      "text/plain": [
       "0.47393364928909953"
      ]
     },
     "execution_count": 20,
     "metadata": {},
     "output_type": "execute_result"
    }
   ],
   "source": [
    "mlp = MLPClassifier().fit(X_train, y_train)\n",
    "scoresMLP = mlp.score(X_test, y_test)\n",
    "\n",
    "scoresMLP"
   ]
  },
  {
   "cell_type": "code",
   "execution_count": 21,
   "id": "forced-rouge",
   "metadata": {},
   "outputs": [
    {
     "data": {
      "text/plain": [
       "Text(0, 0.5, 'Loss')"
      ]
     },
     "execution_count": 21,
     "metadata": {},
     "output_type": "execute_result"
    },
    {
     "data": {
      "image/png": "[encoded data removed]",
      "text/plain": [
       "<Figure size 432x288 with 1 Axes>"
      ]
     },
     "metadata": {
      "needs_background": "light"
     },
     "output_type": "display_data"
    }
   ],
   "source": [
    "plt.plot(mlp.loss_curve_)\n",
    "plt.xlabel('Epoch')\n",
    "plt.ylabel('Loss')"
   ]
  },
  {
   "cell_type": "code",
   "execution_count": null,
   "id": "identified-tunisia",
   "metadata": {},
   "outputs": [],
   "source": []
  }
 ],
 "metadata": {
  "kernelspec": {
   "display_name": "Python 3",
   "language": "python",
   "name": "python3"
  },
  "language_info": {
   "codemirror_mode": {
    "name": "ipython",
    "version": 3
   },
   "file_extension": ".py",
   "mimetype": "text/x-python",
   "name": "python",
   "nbconvert_exporter": "python",
   "pygments_lexer": "ipython3",
   "version": "3.8.5"
  }
 },
 "nbformat": 4,
 "nbformat_minor": 5
}
